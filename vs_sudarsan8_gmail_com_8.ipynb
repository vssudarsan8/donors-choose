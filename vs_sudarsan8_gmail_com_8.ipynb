{
 "cells": [
  {
   "cell_type": "markdown",
   "metadata": {
    "colab_type": "text",
    "id": "7pzFaN8TOh78"
   },
   "source": [
    "# DonorsChoose"
   ]
  },
  {
   "cell_type": "markdown",
   "metadata": {
    "colab_type": "text",
    "id": "EVZ5rn7COh7-"
   },
   "source": [
    "<p>\n",
    "DonorsChoose.org receives hundreds of thousands of project proposals each year for classroom projects in need of funding. Right now, a large number of volunteers is needed to manually screen each submission before it's approved to be posted on the DonorsChoose.org website.\n",
    "</p>\n",
    "<p>\n",
    "    Next year, DonorsChoose.org expects to receive close to 500,000 project proposals. As a result, there are three main problems they need to solve:\n",
    "<ul>\n",
    "<li>\n",
    "    How to scale current manual processes and resources to screen 500,000 projects so that they can be posted as quickly and as efficiently as possible</li>\n",
    "    <li>How to increase the consistency of project vetting across different volunteers to improve the experience for teachers</li>\n",
    "    <li>How to focus volunteer time on the applications that need the most assistance</li>\n",
    "    </ul>\n",
    "</p>    \n",
    "<p>\n",
    "The goal of the competition is to predict whether or not a DonorsChoose.org project proposal submitted by a teacher will be approved, using the text of project descriptions as well as additional metadata about the project, teacher, and school. DonorsChoose.org can then use this information to identify projects most likely to need further review before approval.\n",
    "</p>"
   ]
  },
  {
   "cell_type": "markdown",
   "metadata": {
    "colab_type": "text",
    "id": "UZQ1FGY_Oh7_"
   },
   "source": [
    "## About the DonorsChoose Data Set\n",
    "\n",
    "The `train.csv` data set provided by DonorsChoose contains the following features:\n",
    "\n",
    "Feature | Description \n",
    "----------|---------------\n",
    "**`project_id`** | A unique identifier for the proposed project. **Example:** `p036502`   \n",
    "**`project_title`**    | Title of the project. **Examples:**<br><ul><li><code>Art Will Make You Happy!</code></li><li><code>First Grade Fun</code></li></ul> \n",
    "**`project_grade_category`** | Grade level of students for which the project is targeted. One of the following enumerated values: <br/><ul><li><code>Grades PreK-2</code></li><li><code>Grades 3-5</code></li><li><code>Grades 6-8</code></li><li><code>Grades 9-12</code></li></ul>  \n",
    " **`project_subject_categories`** | One or more (comma-separated) subject categories for the project from the following enumerated list of values:  <br/><ul><li><code>Applied Learning</code></li><li><code>Care &amp; Hunger</code></li><li><code>Health &amp; Sports</code></li><li><code>History &amp; Civics</code></li><li><code>Literacy &amp; Language</code></li><li><code>Math &amp; Science</code></li><li><code>Music &amp; The Arts</code></li><li><code>Special Needs</code></li><li><code>Warmth</code></li></ul><br/> **Examples:** <br/><ul><li><code>Music &amp; The Arts</code></li><li><code>Literacy &amp; Language, Math &amp; Science</code></li>  \n",
    "  **`school_state`** | State where school is located ([Two-letter U.S. postal code](https://en.wikipedia.org/wiki/List_of_U.S._state_abbreviations#Postal_codes)). **Example:** `WY`\n",
    "**`project_subject_subcategories`** | One or more (comma-separated) subject subcategories for the project. **Examples:** <br/><ul><li><code>Literacy</code></li><li><code>Literature &amp; Writing, Social Sciences</code></li></ul> \n",
    "**`project_resource_summary`** | An explanation of the resources needed for the project. **Example:** <br/><ul><li><code>My students need hands on literacy materials to manage sensory needs!</code</li></ul> \n",
    "**`project_essay_1`**    | First application essay<sup>*</sup>  \n",
    "**`project_essay_2`**    | Second application essay<sup>*</sup> \n",
    "**`project_essay_3`**    | Third application essay<sup>*</sup> \n",
    "**`project_essay_4`**    | Fourth application essay<sup>*</sup> \n",
    "**`project_submitted_datetime`** | Datetime when project application was submitted. **Example:** `2016-04-28 12:43:56.245`   \n",
    "**`teacher_id`** | A unique identifier for the teacher of the proposed project. **Example:** `bdf8baa8fedef6bfeec7ae4ff1c15c56`  \n",
    "**`teacher_prefix`** | Teacher's title. One of the following enumerated values: <br/><ul><li><code>nan</code></li><li><code>Dr.</code></li><li><code>Mr.</code></li><li><code>Mrs.</code></li><li><code>Ms.</code></li><li><code>Teacher.</code></li></ul>  \n",
    "**`teacher_number_of_previously_posted_projects`** | Number of project applications previously submitted by the same teacher. **Example:** `2` \n",
    "\n",
    "<sup>*</sup> See the section <b>Notes on the Essay Data</b> for more details about these features.\n",
    "\n",
    "Additionally, the `resources.csv` data set provides more data about the resources required for each project. Each line in this file represents a resource required by a project:\n",
    "\n",
    "Feature | Description \n",
    "----------|---------------\n",
    "**`id`** | A `project_id` value from the `train.csv` file.  **Example:** `p036502`   \n",
    "**`description`** | Desciption of the resource. **Example:** `Tenor Saxophone Reeds, Box of 25`   \n",
    "**`quantity`** | Quantity of the resource required. **Example:** `3`   \n",
    "**`price`** | Price of the resource required. **Example:** `9.95`   \n",
    "\n",
    "**Note:** Many projects require multiple resources. The `id` value corresponds to a `project_id` in train.csv, so you use it as a key to retrieve all resources needed for a project:\n",
    "\n",
    "The data set contains the following label (the value you will attempt to predict):\n",
    "\n",
    "Label | Description\n",
    "----------|---------------\n",
    "`project_is_approved` | A binary flag indicating whether DonorsChoose approved the project. A value of `0` indicates the project was not approved, and a value of `1` indicates the project was approved."
   ]
  },
  {
   "cell_type": "markdown",
   "metadata": {
    "colab_type": "text",
    "id": "sCCs5GkfOh8A"
   },
   "source": [
    "### Notes on the Essay Data\n",
    "\n",
    "<ul>\n",
    "Prior to May 17, 2016, the prompts for the essays were as follows:\n",
    "<li>__project_essay_1:__ \"Introduce us to your classroom\"</li>\n",
    "<li>__project_essay_2:__ \"Tell us more about your students\"</li>\n",
    "<li>__project_essay_3:__ \"Describe how your students will use the materials you're requesting\"</li>\n",
    "<li>__project_essay_3:__ \"Close by sharing why your project will make a difference\"</li>\n",
    "</ul>\n",
    "\n",
    "\n",
    "<ul>\n",
    "Starting on May 17, 2016, the number of essays was reduced from 4 to 2, and the prompts for the first 2 essays were changed to the following:<br>\n",
    "<li>__project_essay_1:__ \"Describe your students: What makes your students special? Specific details about their background, your neighborhood, and your school are all helpful.\"</li>\n",
    "<li>__project_essay_2:__ \"About your project: How will these materials make a difference in your students' learning and improve their school lives?\"</li>\n",
    "<br>For all projects with project_submitted_datetime of 2016-05-17 and later, the values of project_essay_3 and project_essay_4 will be NaN.\n",
    "</ul>\n"
   ]
  },
  {
   "cell_type": "code",
   "execution_count": 0,
   "metadata": {
    "colab": {},
    "colab_type": "code",
    "id": "tEXoNncrOh-6"
   },
   "outputs": [],
   "source": [
    "%matplotlib inline\n",
    "import warnings\n",
    "warnings.filterwarnings(\"ignore\")\n",
    "\n",
    "import sqlite3\n",
    "import pandas as pd\n",
    "import numpy as np\n",
    "import nltk\n",
    "import string\n",
    "import matplotlib.pyplot as plt\n",
    "import seaborn as sns\n",
    "from sklearn.feature_extraction.text import TfidfTransformer\n",
    "from sklearn.feature_extraction.text import TfidfVectorizer\n",
    "\n",
    "from sklearn.feature_extraction.text import CountVectorizer\n",
    "from sklearn.metrics import confusion_matrix\n",
    "from sklearn import metrics\n",
    "from sklearn.metrics import roc_curve, auc\n",
    "from nltk.stem.porter import PorterStemmer\n",
    "\n",
    "import re\n",
    "# Tutorial about Python regular expressions: https://pymotw.com/2/re/\n",
    "import string\n",
    "from nltk.corpus import stopwords\n",
    "from nltk.stem import PorterStemmer\n",
    "from nltk.stem.wordnet import WordNetLemmatizer\n",
    "\n",
    "from gensim.models import Word2Vec\n",
    "from gensim.models import KeyedVectors\n",
    "import pickle\n",
    "\n",
    "from tqdm import tqdm\n",
    "import os\n",
    "\n",
    "\n"
   ]
  },
  {
   "cell_type": "code",
   "execution_count": 0,
   "metadata": {
    "colab": {},
    "colab_type": "code",
    "id": "pvNHpOxP8jIV"
   },
   "outputs": [],
   "source": [
    "\n",
    "from sklearn.tree import export_graphviz"
   ]
  },
  {
   "cell_type": "markdown",
   "metadata": {
    "colab_type": "text",
    "id": "oMPwp4es8jIY"
   },
   "source": [
    "# 1.1 Reading data"
   ]
  },
  {
   "cell_type": "code",
   "execution_count": 0,
   "metadata": {
    "colab": {
     "base_uri": "https://localhost:8080/",
     "height": 68
    },
    "colab_type": "code",
    "id": "sCiqIDK3rqMU",
    "outputId": "422ab4cf-05ef-4820-ebf2-14cf78c435ec"
   },
   "outputs": [
    {
     "name": "stdout",
     "output_type": "stream",
     "text": [
      "  % Total    % Received % Xferd  Average Speed   Time    Time     Time  Current\n",
      "                                 Dload  Upload   Total   Spent    Left  Speed\n",
      "\r",
      "  0     0    0     0    0     0      0      0 --:--:-- --:--:-- --:--:--     0\r",
      "  0     0    0     0    0     0      0      0 --:--:-- --:--:-- --:--:--     0\r",
      "100 40.7M    0 40.7M    0     0  27.3M      0 --:--:--  0:00:01 --:--:-- 27.2M\r",
      "100  191M    0  191M    0     0  81.5M      0 --:--:--  0:00:02 --:--:-- 81.5M\n"
     ]
    }
   ],
   "source": [
    "!curl --header \"Host: doc-0k-b8-docs.googleusercontent.com\" --header \"User-Agent: Mozilla/5.0 (Macintosh; Intel Mac OS X 10_14_4) AppleWebKit/537.36 (KHTML, like Gecko) Chrome/78.0.3904.108 Safari/537.36\" --header \"Accept: text/html,application/xhtml+xml,application/xml;q=0.9,image/webp,image/apng,*/*;q=0.8,application/signed-exchange;v=b3\" --header \"Accept-Language: en-US,en;q=0.9\" --header \"Referer: https://drive.google.com/drive/folders/1E_8G-TVK8ZGb25OgytJ7NOV98pkKcmmN\" --header \"Cookie: AUTH_75gj45lm0i7pc3o1t8oprk1gk5mn6lhi_nonce=abnv7rph1mepc; _ga=GA1.2.1245580049.1562348238\" --header \"Connection: keep-alive\" \"https://doc-0k-b8-docs.googleusercontent.com/docs/securesc/33fsahmr92289free56hh93kcifvni7b/u5eqrunmfn6tcqc9hvbhiq3lbsamgkhd/1576137600000/01431468197101903198/01431468197101903198/1aBvtzZJ2_WRrX8j8toIr8E10URWn6qgg?e=download&authuser=0&nonce=abnv7rph1mepc&user=01431468197101903198&hash=3job0ppfggo7rdjab3apco7pt3mghap0\" -o \"Copy of train_data.csv\" -L"
   ]
  },
  {
   "cell_type": "code",
   "execution_count": 0,
   "metadata": {
    "colab": {
     "base_uri": "https://localhost:8080/",
     "height": 68
    },
    "colab_type": "code",
    "id": "vdKYY5pQ9OWN",
    "outputId": "a03bd185-50b4-4db7-9d51-6f49734ad074"
   },
   "outputs": [
    {
     "name": "stdout",
     "output_type": "stream",
     "text": [
      "  % Total    % Received % Xferd  Average Speed   Time    Time     Time  Current\n",
      "                                 Dload  Upload   Total   Spent    Left  Speed\n",
      "\r",
      "  0     0    0     0    0     0      0      0 --:--:-- --:--:-- --:--:--     0\r",
      "100 4103k    0 4103k    0     0  4124k      0 --:--:-- --:--:-- --:--:-- 4124k\r",
      "100 80.0M    0 80.0M    0     0  42.6M      0 --:--:--  0:00:01 --:--:-- 42.6M\r",
      "100  121M    0  121M    0     0  55.7M      0 --:--:--  0:00:02 --:--:-- 55.7M\n"
     ]
    }
   ],
   "source": [
    "!curl --header \"Host: doc-0o-b8-docs.googleusercontent.com\" --header \"User-Agent: Mozilla/5.0 (Macintosh; Intel Mac OS X 10_14_4) AppleWebKit/537.36 (KHTML, like Gecko) Chrome/78.0.3904.108 Safari/537.36\" --header \"Accept: text/html,application/xhtml+xml,application/xml;q=0.9,image/webp,image/apng,*/*;q=0.8,application/signed-exchange;v=b3\" --header \"Accept-Language: en-US,en;q=0.9\" --header \"Referer: https://drive.google.com/drive/folders/1E_8G-TVK8ZGb25OgytJ7NOV98pkKcmmN\" --header \"Cookie: AUTH_75gj45lm0i7pc3o1t8oprk1gk5mn6lhi=01431468197101903198|1576137600000|ta2ag6t4rpcb75mpq18acvbhei6cd244; _ga=GA1.2.1245580049.1562348238\" --header \"Connection: keep-alive\" \"https://doc-0o-b8-docs.googleusercontent.com/docs/securesc/33fsahmr92289free56hh93kcifvni7b/lidcnjdio31js8dtmag7ktp37f2b8f4f/1576137600000/01431468197101903198/01431468197101903198/1NYzoGBgQORqKyXs3T0Lsd_qcPverkM3o?e=download&authuser=0\" -o \"Copy of resources.csv\" -L"
   ]
  },
  {
   "cell_type": "code",
   "execution_count": 0,
   "metadata": {
    "colab": {},
    "colab_type": "code",
    "id": "1akOu_5E8jIZ"
   },
   "outputs": [],
   "source": [
    "project_data = pd.read_csv('Copy of train_data.csv')\n",
    "resource_data = pd.read_csv('Copy of resources.csv')\n"
   ]
  },
  {
   "cell_type": "code",
   "execution_count": 0,
   "metadata": {
    "colab": {
     "base_uri": "https://localhost:8080/",
     "height": 204
    },
    "colab_type": "code",
    "id": "aDwFNp228jIc",
    "outputId": "df5de8b0-be89-4648-fe94-40538db94cda"
   },
   "outputs": [
    {
     "name": "stdout",
     "output_type": "stream",
     "text": [
      "Number of data points in train data (109248, 17)\n",
      "--------------------------------------------------\n",
      "The attributes of data : ['Unnamed: 0' 'id' 'teacher_id' 'teacher_prefix' 'school_state'\n",
      " 'project_submitted_datetime' 'project_grade_category'\n",
      " 'project_subject_categories' 'project_subject_subcategories'\n",
      " 'project_title' 'project_essay_1' 'project_essay_2' 'project_essay_3'\n",
      " 'project_essay_4' 'project_resource_summary'\n",
      " 'teacher_number_of_previously_posted_projects' 'project_is_approved']\n"
     ]
    },
    {
     "data": {
      "text/plain": [
       "1    92706\n",
       "0    16542\n",
       "Name: project_is_approved, dtype: int64"
      ]
     },
     "execution_count": 9,
     "metadata": {
      "tags": []
     },
     "output_type": "execute_result"
    }
   ],
   "source": [
    "print(\"Number of data points in train data\", project_data.shape)\n",
    "print('-'*50)\n",
    "print(\"The attributes of data :\", project_data.columns.values)\n",
    "project_data.project_is_approved.value_counts()\n"
   ]
  },
  {
   "cell_type": "code",
   "execution_count": 0,
   "metadata": {
    "colab": {
     "base_uri": "https://localhost:8080/",
     "height": 145
    },
    "colab_type": "code",
    "id": "1W3M_vJA8jIf",
    "outputId": "3c9ffebe-f8a2-4c78-cdae-021fddf144de"
   },
   "outputs": [
    {
     "name": "stdout",
     "output_type": "stream",
     "text": [
      "Number of data points in train data (1541272, 4)\n",
      "['id' 'description' 'quantity' 'price']\n"
     ]
    },
    {
     "data": {
      "text/html": [
       "<div>\n",
       "<style scoped>\n",
       "    .dataframe tbody tr th:only-of-type {\n",
       "        vertical-align: middle;\n",
       "    }\n",
       "\n",
       "    .dataframe tbody tr th {\n",
       "        vertical-align: top;\n",
       "    }\n",
       "\n",
       "    .dataframe thead th {\n",
       "        text-align: right;\n",
       "    }\n",
       "</style>\n",
       "<table border=\"1\" class=\"dataframe\">\n",
       "  <thead>\n",
       "    <tr style=\"text-align: right;\">\n",
       "      <th></th>\n",
       "      <th>id</th>\n",
       "      <th>description</th>\n",
       "      <th>quantity</th>\n",
       "      <th>price</th>\n",
       "    </tr>\n",
       "  </thead>\n",
       "  <tbody>\n",
       "    <tr>\n",
       "      <th>0</th>\n",
       "      <td>p233245</td>\n",
       "      <td>LC652 - Lakeshore Double-Space Mobile Drying Rack</td>\n",
       "      <td>1</td>\n",
       "      <td>149.00</td>\n",
       "    </tr>\n",
       "    <tr>\n",
       "      <th>1</th>\n",
       "      <td>p069063</td>\n",
       "      <td>Bouncy Bands for Desks (Blue support pipes)</td>\n",
       "      <td>3</td>\n",
       "      <td>14.95</td>\n",
       "    </tr>\n",
       "  </tbody>\n",
       "</table>\n",
       "</div>"
      ],
      "text/plain": [
       "        id                                        description  quantity   price\n",
       "0  p233245  LC652 - Lakeshore Double-Space Mobile Drying Rack         1  149.00\n",
       "1  p069063        Bouncy Bands for Desks (Blue support pipes)         3   14.95"
      ]
     },
     "execution_count": 10,
     "metadata": {
      "tags": []
     },
     "output_type": "execute_result"
    }
   ],
   "source": [
    "print(\"Number of data points in train data\", resource_data.shape)\n",
    "print(resource_data.columns.values)\n",
    "resource_data.head(2)"
   ]
  },
  {
   "cell_type": "markdown",
   "metadata": {
    "colab_type": "text",
    "id": "NVqSOYA48jIh"
   },
   "source": [
    "# 1.2 preprocessing of project_subject_categories"
   ]
  },
  {
   "cell_type": "code",
   "execution_count": 0,
   "metadata": {
    "colab": {},
    "colab_type": "code",
    "id": "XOgKy4L58jIi"
   },
   "outputs": [],
   "source": [
    "catogories = list(project_data['project_subject_categories'].values)\n",
    "# remove special characters from list of strings python: https://stackoverflow.com/a/47301924/4084039\n",
    "\n",
    "\n",
    "\n",
    "# https://www.geeksforgeeks.org/removing-stop-words-nltk-python/\n",
    "# https://stackoverflow.com/questions/23669024/how-to-strip-a-specific-word-from-a-string\n",
    "# https://stackoverflow.com/questions/8270092/remove-all-whitespace-in-a-string-in-python\n",
    "cat_list = []\n",
    "for i in catogories:\n",
    "    temp = \"\"\n",
    "    # consider we have text like this \"Math & Science, Warmth, Care & Hunger\"\n",
    "    for j in i.split(','): # it will split it in three parts [\"Math & Science\", \"Warmth\", \"Care & Hunger\"]\n",
    "        if 'The' in j.split(): # this will split each of the catogory based on space \"Math & Science\"=> \"Math\",\"&\", \"Science\"\n",
    "            j=j.replace('The','') # if we have the words \"The\" we are going to replace it with ''(i.e removing 'The')\n",
    "        j = j.replace(' ','') # we are placeing all the ' '(space) with ''(empty) ex:\"Math & Science\"=>\"Math&Science\"\n",
    "        temp+=j.strip()+\" \" #\" abc \".strip() will return \"abc\", remove the trailing spaces\n",
    "        temp = temp.replace('&','_') # we are replacing the & value into \n",
    "    cat_list.append(temp.strip())\n",
    "    \n",
    "project_data['clean_categories'] = cat_list\n",
    "project_data.drop(['project_subject_categories'], axis=1, inplace=True)\n",
    "\n",
    "from collections import Counter\n",
    "my_counter = Counter()\n",
    "for word in project_data['clean_categories'].values:\n",
    "    my_counter.update(word.split())\n",
    "\n",
    "cat_dict = dict(my_counter)\n",
    "sorted_cat_dict = dict(sorted(cat_dict.items(), key=lambda kv: kv[1]))\n"
   ]
  },
  {
   "cell_type": "markdown",
   "metadata": {
    "colab_type": "text",
    "id": "7tSaShdt8jIl"
   },
   "source": [
    "# 1.3 preprocessing of project_subject_subcategories"
   ]
  },
  {
   "cell_type": "code",
   "execution_count": 0,
   "metadata": {
    "colab": {},
    "colab_type": "code",
    "id": "IzQ_V7aO8jIm"
   },
   "outputs": [],
   "source": [
    "sub_catogories = list(project_data['project_subject_subcategories'].values)\n",
    "# remove special characters from list of strings python: https://stackoverflow.com/a/47301924/4084039\n",
    "\n",
    "# https://www.geeksforgeeks.org/removing-stop-words-nltk-python/\n",
    "# https://stackoverflow.com/questions/23669024/how-to-strip-a-specific-word-from-a-string\n",
    "# https://stackoverflow.com/questions/8270092/remove-all-whitespace-in-a-string-in-python\n",
    "\n",
    "sub_cat_list = []\n",
    "for i in sub_catogories:\n",
    "    temp = \"\"\n",
    "    # consider we have text like this \"Math & Science, Warmth, Care & Hunger\"\n",
    "    for j in i.split(','): # it will split it in three parts [\"Math & Science\", \"Warmth\", \"Care & Hunger\"]\n",
    "        if 'The' in j.split(): # this will split each of the catogory based on space \"Math & Science\"=> \"Math\",\"&\", \"Science\"\n",
    "            j=j.replace('The','') # if we have the words \"The\" we are going to replace it with ''(i.e removing 'The')\n",
    "        j = j.replace(' ','') # we are placeing all the ' '(space) with ''(empty) ex:\"Math & Science\"=>\"Math&Science\"\n",
    "        temp +=j.strip()+\" \"#\" abc \".strip() will return \"abc\", remove the trailing spaces\n",
    "        temp = temp.replace('&','_')\n",
    "    sub_cat_list.append(temp.strip())\n",
    "\n",
    "project_data['clean_subcategories'] = sub_cat_list\n",
    "project_data.drop(['project_subject_subcategories'], axis=1, inplace=True)\n",
    "\n",
    "# count of all the words in corpus python: https://stackoverflow.com/a/22898595/4084039\n",
    "my_counter = Counter()\n",
    "for word in project_data['clean_subcategories'].values:\n",
    "    my_counter.update(word.split())\n",
    "    \n",
    "sub_cat_dict = dict(my_counter)\n",
    "sorted_sub_cat_dict = dict(sorted(sub_cat_dict.items(), key=lambda kv: kv[1]))"
   ]
  },
  {
   "cell_type": "markdown",
   "metadata": {
    "colab_type": "text",
    "id": "VH8quPgv8jIo"
   },
   "source": [
    "# 1.4 preprocessing of project grade categories"
   ]
  },
  {
   "cell_type": "code",
   "execution_count": 0,
   "metadata": {
    "colab": {
     "base_uri": "https://localhost:8080/",
     "height": 238
    },
    "colab_type": "code",
    "id": "aNptmDHb8jIp",
    "outputId": "0e52be19-31fb-4e2f-d6aa-66500920ba6d"
   },
   "outputs": [
    {
     "name": "stdout",
     "output_type": "stream",
     "text": [
      "Grades PreK-2\n",
      "==================================================\n",
      "Grades 3-5\n",
      "==================================================\n",
      "Grades 3-5\n",
      "==================================================\n",
      "Grades PreK-2\n",
      "==================================================\n"
     ]
    },
    {
     "data": {
      "text/plain": [
       "Grades PreK-2    44225\n",
       "Grades 3-5       37137\n",
       "Grades 6-8       16923\n",
       "Grades 9-12      10963\n",
       "Name: project_grade_category, dtype: int64"
      ]
     },
     "execution_count": 13,
     "metadata": {
      "tags": []
     },
     "output_type": "execute_result"
    }
   ],
   "source": [
    "#preprocess project grade category\n",
    "print(project_data['project_grade_category'].values[0])\n",
    "print(\"=\"*50)\n",
    "print(project_data['project_grade_category'].values[150])\n",
    "print(\"=\"*50)\n",
    "print(project_data['project_grade_category'].values[1000])\n",
    "print(\"=\"*50)\n",
    "print(project_data['project_grade_category'].values[20000])\n",
    "print(\"=\"*50)\n",
    "\n",
    "\n",
    "project_data['project_grade_category'].value_counts()"
   ]
  },
  {
   "cell_type": "code",
   "execution_count": 0,
   "metadata": {
    "colab": {
     "base_uri": "https://localhost:8080/",
     "height": 34
    },
    "colab_type": "code",
    "id": "R8T0r9Kc8jIs",
    "outputId": "232f2bc5-cd4e-47f0-d8ee-0493da17c2bd"
   },
   "outputs": [
    {
     "name": "stderr",
     "output_type": "stream",
     "text": [
      "100%|██████████| 109248/109248 [00:00<00:00, 595203.66it/s]\n"
     ]
    }
   ],
   "source": [
    "preprocessed_project_grade_categories= []\n",
    "\n",
    "for grade_cat in tqdm(project_data[\"project_grade_category\"]):\n",
    "   \n",
    "    grade_cat = grade_cat.replace('-', '_')  #Replacing(-) with(_)\n",
    "    grade_cat = grade_cat.replace('Grades', '') #Removing grades as it is redundant\n",
    "   \n",
    "    grad_cat = ' '.join(f for f in grade_cat.split())\n",
    "    preprocessed_project_grade_categories.append(grad_cat.strip())"
   ]
  },
  {
   "cell_type": "code",
   "execution_count": 0,
   "metadata": {
    "colab": {
     "base_uri": "https://localhost:8080/",
     "height": 170
    },
    "colab_type": "code",
    "id": "OLcL5JJe8jIv",
    "outputId": "573652e1-812f-4616-c4be-b9d2838f098e"
   },
   "outputs": [
    {
     "name": "stdout",
     "output_type": "stream",
     "text": [
      "6_8\n",
      "==================================================\n",
      "PreK_2\n",
      "==================================================\n",
      "9_12\n",
      "==================================================\n",
      "PreK_2\n",
      "==================================================\n",
      "PreK_2\n"
     ]
    }
   ],
   "source": [
    "print(preprocessed_project_grade_categories[1])\n",
    "print(\"=\"*50)\n",
    "print(preprocessed_project_grade_categories[50])\n",
    "print(\"=\"*50)\n",
    "print(preprocessed_project_grade_categories[500])\n",
    "print(\"=\"*50)\n",
    "print(preprocessed_project_grade_categories[5000])\n",
    "print(\"=\"*50)\n",
    "print(preprocessed_project_grade_categories[10001])"
   ]
  },
  {
   "cell_type": "markdown",
   "metadata": {
    "colab_type": "text",
    "id": "La5JWvdo8jIy"
   },
   "source": [
    "# 1.5 preprocessing of teacher prefix"
   ]
  },
  {
   "cell_type": "code",
   "execution_count": 0,
   "metadata": {
    "colab": {},
    "colab_type": "code",
    "id": "rupmsAkY8jIz"
   },
   "outputs": [],
   "source": [
    "project_data['teacher_prefix'] = project_data['teacher_prefix'].fillna('null')"
   ]
  },
  {
   "cell_type": "code",
   "execution_count": 0,
   "metadata": {
    "colab": {},
    "colab_type": "code",
    "id": "9XBTZ10R8jI2"
   },
   "outputs": [],
   "source": [
    "def replace_cate(lst):          # Removing (.) in Mrs. \n",
    "    return lst.replace('.','')\n",
    "   \n",
    "\n",
    "project_data['teacher_prefix']= project_data['teacher_prefix'].astype(str).apply(replace_cate)"
   ]
  },
  {
   "cell_type": "code",
   "execution_count": 0,
   "metadata": {
    "colab": {
     "base_uri": "https://localhost:8080/",
     "height": 34
    },
    "colab_type": "code",
    "id": "UnhxFdx68jI5",
    "outputId": "27174941-6465-474c-d843-1899aff049cb"
   },
   "outputs": [
    {
     "name": "stderr",
     "output_type": "stream",
     "text": [
      "100%|██████████| 109248/109248 [00:00<00:00, 1807778.10it/s]\n"
     ]
    }
   ],
   "source": [
    "preprocessed_teacher_prefix = []\n",
    "\n",
    "for teach_prefix in tqdm(project_data[\"teacher_prefix\"]):\n",
    "    \n",
    "    preprocessed_teacher_prefix.append(teach_prefix.strip())"
   ]
  },
  {
   "cell_type": "code",
   "execution_count": 0,
   "metadata": {
    "colab": {
     "base_uri": "https://localhost:8080/",
     "height": 204
    },
    "colab_type": "code",
    "id": "RXOAzZdl8jI8",
    "outputId": "527286f6-deea-4d08-be90-f07760c83711"
   },
   "outputs": [
    {
     "name": "stdout",
     "output_type": "stream",
     "text": [
      "Mr\n",
      "==================================================\n",
      "Mrs\n",
      "==================================================\n"
     ]
    },
    {
     "data": {
      "text/plain": [
       "Mrs        57269\n",
       "Ms         38955\n",
       "Mr         10648\n",
       "Teacher     2360\n",
       "Dr            13\n",
       "null           3\n",
       "Name: teacher_prefix, dtype: int64"
      ]
     },
     "execution_count": 19,
     "metadata": {
      "tags": []
     },
     "output_type": "execute_result"
    }
   ],
   "source": [
    "print(preprocessed_teacher_prefix[1])\n",
    "print(\"=\"*50)\n",
    "print(preprocessed_teacher_prefix[50])\n",
    "print(\"=\"*50)\n",
    "project_data.teacher_prefix.value_counts()"
   ]
  },
  {
   "cell_type": "markdown",
   "metadata": {
    "colab_type": "text",
    "id": "WXIfkHrg8jI_"
   },
   "source": [
    " # clean titles preprocessing"
   ]
  },
  {
   "cell_type": "code",
   "execution_count": 0,
   "metadata": {
    "colab": {},
    "colab_type": "code",
    "id": "l211cjkY8jJA"
   },
   "outputs": [],
   "source": [
    "# https://gist.github.com/sebleier/554280\n",
    "# we are removing the words from the stop words list: 'no', 'nor', 'not'\n",
    "stopwords= ['i', 'me', 'my', 'myself', 'we', 'our', 'ours', 'ourselves', 'you', \"you're\", \"you've\",\\\n",
    "            \"you'll\", \"you'd\", 'your', 'yours', 'yourself', 'yourselves', 'he', 'him', 'his', 'himself', \\\n",
    "            'she', \"she's\", 'her', 'hers', 'herself', 'it', \"it's\", 'its', 'itself', 'they', 'them', 'their',\\\n",
    "            'theirs', 'themselves', 'what', 'which', 'who', 'whom', 'this', 'that', \"that'll\", 'these', 'those', \\\n",
    "            'am', 'is', 'are', 'was', 'were', 'be', 'been', 'being', 'have', 'has', 'had', 'having', 'do', 'does', \\\n",
    "            'did', 'doing', 'a', 'an', 'the', 'and', 'but', 'if', 'or', 'because', 'as', 'until', 'while', 'of', \\\n",
    "            'at', 'by', 'for', 'with', 'about', 'against', 'between', 'into', 'through', 'during', 'before', 'after',\\\n",
    "            'above', 'below', 'to', 'from', 'up', 'down', 'in', 'out', 'on', 'off', 'over', 'under', 'again', 'further',\\\n",
    "            'then', 'once', 'here', 'there', 'when', 'where', 'why', 'how', 'all', 'any', 'both', 'each', 'few', 'more',\\\n",
    "            'most', 'other', 'some', 'such', 'only', 'own', 'same', 'so', 'than', 'too', 'very', \\\n",
    "            's', 't', 'can', 'will', 'just', 'don', \"don't\", 'should', \"should've\", 'now', 'd', 'll', 'm', 'o', 're', \\\n",
    "            've', 'y', 'ain', 'aren', \"aren't\", 'couldn', \"couldn't\", 'didn', \"didn't\", 'doesn', \"doesn't\", 'hadn',\\\n",
    "            \"hadn't\", 'hasn', \"hasn't\", 'haven', \"haven't\", 'isn', \"isn't\", 'ma', 'mightn', \"mightn't\", 'mustn',\\\n",
    "            \"mustn't\", 'needn', \"needn't\", 'shan', \"shan't\", 'shouldn', \"shouldn't\", 'wasn', \"wasn't\", 'weren', \"weren't\", \\\n",
    "            'won', \"won't\", 'wouldn', \"wouldn't\"]"
   ]
  },
  {
   "cell_type": "code",
   "execution_count": 0,
   "metadata": {
    "colab": {},
    "colab_type": "code",
    "id": "UxjlmyM-8jJC"
   },
   "outputs": [],
   "source": [
    "# https://stackoverflow.com/a/47091490/4084039\n",
    "import re\n",
    "\n",
    "def decontracted(phrase):\n",
    "    # specific\n",
    "    phrase = re.sub(r\"won't\", \"will not\", phrase)\n",
    "    phrase = re.sub(r\"can\\'t\", \"can not\", phrase)\n",
    "\n",
    "    # general\n",
    "    phrase = re.sub(r\"n\\'t\", \" not\", phrase)\n",
    "    phrase = re.sub(r\"\\'re\", \" are\", phrase)\n",
    "    phrase = re.sub(r\"\\'s\", \" is\", phrase)\n",
    "    phrase = re.sub(r\"\\'d\", \" would\", phrase)\n",
    "    phrase = re.sub(r\"\\'ll\", \" will\", phrase)\n",
    "    phrase = re.sub(r\"\\'t\", \" not\", phrase)\n",
    "    phrase = re.sub(r\"\\'ve\", \" have\", phrase)\n",
    "    phrase = re.sub(r\"\\'m\", \" am\", phrase)\n",
    "    return phrase"
   ]
  },
  {
   "cell_type": "code",
   "execution_count": 0,
   "metadata": {
    "colab": {},
    "colab_type": "code",
    "id": "4Nsl5NUY8jJF"
   },
   "outputs": [],
   "source": [
    "title = decontracted(project_data['project_title'].values[2000])\n"
   ]
  },
  {
   "cell_type": "code",
   "execution_count": 0,
   "metadata": {
    "colab": {},
    "colab_type": "code",
    "id": "DiI8lUxt8jJH"
   },
   "outputs": [],
   "source": [
    "# stopwords removed first then decontracted function is used"
   ]
  },
  {
   "cell_type": "code",
   "execution_count": 0,
   "metadata": {
    "colab": {
     "base_uri": "https://localhost:8080/",
     "height": 34
    },
    "colab_type": "code",
    "id": "savLQvjo8jJP",
    "outputId": "4027253c-f623-4154-e6df-96e1d77fdede"
   },
   "outputs": [
    {
     "name": "stderr",
     "output_type": "stream",
     "text": [
      "100%|██████████| 109248/109248 [00:02<00:00, 42622.16it/s]\n"
     ]
    }
   ],
   "source": [
    "clean_titles = []\n",
    "\n",
    "for titles in tqdm(project_data[\"project_title\"]):\n",
    "    title = ' '.join(f for f in title.split() if f not in stopwords)\n",
    "    title = decontracted(titles)\n",
    "    title = title.replace('\\\\r', ' ')\n",
    "    title = title.replace('\\\\\"', ' ')\n",
    "    title = title.replace('\\\\n', ' ')\n",
    "    title = re.sub('[^A-Za-z0-9]+', ' ', title)\n",
    "    \n",
    "    clean_titles.append(title.lower().strip())"
   ]
  },
  {
   "cell_type": "code",
   "execution_count": 0,
   "metadata": {
    "colab": {},
    "colab_type": "code",
    "id": "U-OgG8E58jJS"
   },
   "outputs": [],
   "source": [
    "project_data[\"clean_titles\"] = clean_titles"
   ]
  },
  {
   "cell_type": "code",
   "execution_count": 0,
   "metadata": {
    "colab": {},
    "colab_type": "code",
    "id": "cEUEF7xW8jJU"
   },
   "outputs": [],
   "source": [
    "project_data.drop(['project_title'], axis=1, inplace=True)"
   ]
  },
  {
   "cell_type": "markdown",
   "metadata": {
    "colab_type": "text",
    "id": "X-9ZQThN8jJW"
   },
   "source": [
    "# Adding a new feature Number of words in title"
   ]
  },
  {
   "cell_type": "code",
   "execution_count": 0,
   "metadata": {
    "colab": {},
    "colab_type": "code",
    "id": "DgTkEEv08jJX"
   },
   "outputs": [],
   "source": [
    "title_word_count = []"
   ]
  },
  {
   "cell_type": "code",
   "execution_count": 0,
   "metadata": {
    "colab": {},
    "colab_type": "code",
    "id": "e5vGR3OZ8jJb"
   },
   "outputs": [],
   "source": [
    "for a in project_data[\"clean_titles\"] :\n",
    "    b = len(a.split())\n",
    "    title_word_count.append(b)"
   ]
  },
  {
   "cell_type": "code",
   "execution_count": 0,
   "metadata": {
    "colab": {},
    "colab_type": "code",
    "id": "bVNlrA9W8jJd"
   },
   "outputs": [],
   "source": [
    "project_data[\"title_word_count\"] = title_word_count"
   ]
  },
  {
   "cell_type": "code",
   "execution_count": 0,
   "metadata": {
    "colab": {
     "base_uri": "https://localhost:8080/",
     "height": 462
    },
    "colab_type": "code",
    "id": "fK5YBDI58jJg",
    "outputId": "8549f75d-76d4-4697-9b6a-dd5489e85792"
   },
   "outputs": [
    {
     "data": {
      "text/html": [
       "<div>\n",
       "<style scoped>\n",
       "    .dataframe tbody tr th:only-of-type {\n",
       "        vertical-align: middle;\n",
       "    }\n",
       "\n",
       "    .dataframe tbody tr th {\n",
       "        vertical-align: top;\n",
       "    }\n",
       "\n",
       "    .dataframe thead th {\n",
       "        text-align: right;\n",
       "    }\n",
       "</style>\n",
       "<table border=\"1\" class=\"dataframe\">\n",
       "  <thead>\n",
       "    <tr style=\"text-align: right;\">\n",
       "      <th></th>\n",
       "      <th>Unnamed: 0</th>\n",
       "      <th>id</th>\n",
       "      <th>teacher_id</th>\n",
       "      <th>teacher_prefix</th>\n",
       "      <th>school_state</th>\n",
       "      <th>project_submitted_datetime</th>\n",
       "      <th>project_grade_category</th>\n",
       "      <th>project_essay_1</th>\n",
       "      <th>project_essay_2</th>\n",
       "      <th>project_essay_3</th>\n",
       "      <th>project_essay_4</th>\n",
       "      <th>project_resource_summary</th>\n",
       "      <th>teacher_number_of_previously_posted_projects</th>\n",
       "      <th>project_is_approved</th>\n",
       "      <th>clean_categories</th>\n",
       "      <th>clean_subcategories</th>\n",
       "      <th>clean_titles</th>\n",
       "      <th>title_word_count</th>\n",
       "    </tr>\n",
       "  </thead>\n",
       "  <tbody>\n",
       "    <tr>\n",
       "      <th>0</th>\n",
       "      <td>160221</td>\n",
       "      <td>p253737</td>\n",
       "      <td>c90749f5d961ff158d4b4d1e7dc665fc</td>\n",
       "      <td>Mrs</td>\n",
       "      <td>IN</td>\n",
       "      <td>2016-12-05 13:43:57</td>\n",
       "      <td>Grades PreK-2</td>\n",
       "      <td>My students are English learners that are work...</td>\n",
       "      <td>\\\"The limits of your language are the limits o...</td>\n",
       "      <td>NaN</td>\n",
       "      <td>NaN</td>\n",
       "      <td>My students need opportunities to practice beg...</td>\n",
       "      <td>0</td>\n",
       "      <td>0</td>\n",
       "      <td>Literacy_Language</td>\n",
       "      <td>ESL Literacy</td>\n",
       "      <td>educational support for english learners at home</td>\n",
       "      <td>7</td>\n",
       "    </tr>\n",
       "    <tr>\n",
       "      <th>1</th>\n",
       "      <td>140945</td>\n",
       "      <td>p258326</td>\n",
       "      <td>897464ce9ddc600bced1151f324dd63a</td>\n",
       "      <td>Mr</td>\n",
       "      <td>FL</td>\n",
       "      <td>2016-10-25 09:22:10</td>\n",
       "      <td>Grades 6-8</td>\n",
       "      <td>Our students arrive to our school eager to lea...</td>\n",
       "      <td>The projector we need for our school is very c...</td>\n",
       "      <td>NaN</td>\n",
       "      <td>NaN</td>\n",
       "      <td>My students need a projector to help with view...</td>\n",
       "      <td>7</td>\n",
       "      <td>1</td>\n",
       "      <td>History_Civics Health_Sports</td>\n",
       "      <td>Civics_Government TeamSports</td>\n",
       "      <td>wanted projector for hungry learners</td>\n",
       "      <td>5</td>\n",
       "    </tr>\n",
       "    <tr>\n",
       "      <th>2</th>\n",
       "      <td>21895</td>\n",
       "      <td>p182444</td>\n",
       "      <td>3465aaf82da834c0582ebd0ef8040ca0</td>\n",
       "      <td>Ms</td>\n",
       "      <td>AZ</td>\n",
       "      <td>2016-08-31 12:03:56</td>\n",
       "      <td>Grades 6-8</td>\n",
       "      <td>\\r\\n\\\"True champions aren't always the ones th...</td>\n",
       "      <td>The students on the campus come to school know...</td>\n",
       "      <td>NaN</td>\n",
       "      <td>NaN</td>\n",
       "      <td>My students need shine guards, athletic socks,...</td>\n",
       "      <td>1</td>\n",
       "      <td>0</td>\n",
       "      <td>Health_Sports</td>\n",
       "      <td>Health_Wellness TeamSports</td>\n",
       "      <td>soccer equipment for awesome middle school stu...</td>\n",
       "      <td>7</td>\n",
       "    </tr>\n",
       "    <tr>\n",
       "      <th>3</th>\n",
       "      <td>45</td>\n",
       "      <td>p246581</td>\n",
       "      <td>f3cb9bffbba169bef1a77b243e620b60</td>\n",
       "      <td>Mrs</td>\n",
       "      <td>KY</td>\n",
       "      <td>2016-10-06 21:16:17</td>\n",
       "      <td>Grades PreK-2</td>\n",
       "      <td>I work at a unique school filled with both ESL...</td>\n",
       "      <td>My students live in high poverty conditions wi...</td>\n",
       "      <td>NaN</td>\n",
       "      <td>NaN</td>\n",
       "      <td>My students need to engage in Reading and Math...</td>\n",
       "      <td>4</td>\n",
       "      <td>1</td>\n",
       "      <td>Literacy_Language Math_Science</td>\n",
       "      <td>Literacy Mathematics</td>\n",
       "      <td>techie kindergarteners</td>\n",
       "      <td>2</td>\n",
       "    </tr>\n",
       "    <tr>\n",
       "      <th>4</th>\n",
       "      <td>172407</td>\n",
       "      <td>p104768</td>\n",
       "      <td>be1f7507a41f8479dc06f047086a39ec</td>\n",
       "      <td>Mrs</td>\n",
       "      <td>TX</td>\n",
       "      <td>2016-07-11 01:10:09</td>\n",
       "      <td>Grades PreK-2</td>\n",
       "      <td>Our second grade classroom next year will be m...</td>\n",
       "      <td>For many students, math is a subject that does...</td>\n",
       "      <td>NaN</td>\n",
       "      <td>NaN</td>\n",
       "      <td>My students need hands on practice in mathemat...</td>\n",
       "      <td>1</td>\n",
       "      <td>1</td>\n",
       "      <td>Math_Science</td>\n",
       "      <td>Mathematics</td>\n",
       "      <td>interactive math tools</td>\n",
       "      <td>3</td>\n",
       "    </tr>\n",
       "  </tbody>\n",
       "</table>\n",
       "</div>"
      ],
      "text/plain": [
       "   Unnamed: 0  ... title_word_count\n",
       "0      160221  ...                7\n",
       "1      140945  ...                5\n",
       "2       21895  ...                7\n",
       "3          45  ...                2\n",
       "4      172407  ...                3\n",
       "\n",
       "[5 rows x 18 columns]"
      ]
     },
     "execution_count": 30,
     "metadata": {
      "tags": []
     },
     "output_type": "execute_result"
    }
   ],
   "source": [
    "project_data.head(5)"
   ]
  },
  {
   "cell_type": "markdown",
   "metadata": {
    "colab_type": "text",
    "id": "Li_zmaXT8jJi"
   },
   "source": [
    "# combining 4 essays into 1"
   ]
  },
  {
   "cell_type": "code",
   "execution_count": 0,
   "metadata": {
    "colab": {},
    "colab_type": "code",
    "id": "IeMS9Tau8jJj"
   },
   "outputs": [],
   "source": [
    "# merge two column text dataframe: \n",
    "project_data[\"essay\"] = project_data[\"project_essay_1\"].map(str) +\\\n",
    "                        project_data[\"project_essay_2\"].map(str) + \\\n",
    "                        project_data[\"project_essay_3\"].map(str) + \\\n",
    "                        project_data[\"project_essay_4\"].map(str)"
   ]
  },
  {
   "cell_type": "code",
   "execution_count": 0,
   "metadata": {
    "colab": {},
    "colab_type": "code",
    "id": "cLzrls8A8jJm"
   },
   "outputs": [],
   "source": [
    "ess = decontracted(project_data['essay'].values[2000])"
   ]
  },
  {
   "cell_type": "code",
   "execution_count": 0,
   "metadata": {
    "colab": {
     "base_uri": "https://localhost:8080/",
     "height": 34
    },
    "colab_type": "code",
    "id": "9boMEOaI8jJq",
    "outputId": "b25f22c6-fc42-4d80-9af9-7c52415cdad7"
   },
   "outputs": [
    {
     "name": "stderr",
     "output_type": "stream",
     "text": [
      "100%|██████████| 109248/109248 [00:55<00:00, 1952.02it/s]\n"
     ]
    }
   ],
   "source": [
    "clean_essay = []\n",
    "\n",
    "for ess in tqdm(project_data[\"essay\"]):\n",
    "    ess = ' '.join(f for f in ess.split() if f not in stopwords)\n",
    "    ess = decontracted(ess)\n",
    "    ess = ess.replace('\\\\r', ' ')\n",
    "    ess = ess.replace('\\\\\"', ' ')\n",
    "    ess = ess.replace('\\\\n', ' ')\n",
    "    ess = re.sub('[^A-Za-z0-9]+', ' ', ess)\n",
    "    \n",
    "    clean_essay.append(ess.lower().strip())"
   ]
  },
  {
   "cell_type": "code",
   "execution_count": 0,
   "metadata": {
    "colab": {},
    "colab_type": "code",
    "id": "7NYoA6I58jJs"
   },
   "outputs": [],
   "source": [
    "\n",
    "project_data[\"clean_essays\"] = clean_essay"
   ]
  },
  {
   "cell_type": "code",
   "execution_count": 0,
   "metadata": {
    "colab": {},
    "colab_type": "code",
    "id": "GquTIgku8jJw"
   },
   "outputs": [],
   "source": [
    "project_data.drop(['essay'], axis=1, inplace=True)"
   ]
  },
  {
   "cell_type": "markdown",
   "metadata": {
    "colab_type": "text",
    "id": "TJCpHsRi8jJy"
   },
   "source": [
    "# Adding new feature no of words in essay"
   ]
  },
  {
   "cell_type": "code",
   "execution_count": 0,
   "metadata": {
    "colab": {},
    "colab_type": "code",
    "id": "WEMX4Egb8jJz"
   },
   "outputs": [],
   "source": [
    "essay_word_count=[]"
   ]
  },
  {
   "cell_type": "code",
   "execution_count": 0,
   "metadata": {
    "colab": {},
    "colab_type": "code",
    "id": "sIpYlJiF8jJ2"
   },
   "outputs": [],
   "source": [
    "for ess in project_data[\"clean_essays\"] :\n",
    "    c = len(ess.split())\n",
    "    essay_word_count.append(c)\n",
    "    "
   ]
  },
  {
   "cell_type": "code",
   "execution_count": 0,
   "metadata": {
    "colab": {},
    "colab_type": "code",
    "id": "bYd9QIIT8jJ4"
   },
   "outputs": [],
   "source": [
    "project_data[\"essay_word_count\"] = essay_word_count"
   ]
  },
  {
   "cell_type": "code",
   "execution_count": 0,
   "metadata": {
    "colab": {
     "base_uri": "https://localhost:8080/",
     "height": 250
    },
    "colab_type": "code",
    "id": "5ErcBRYS8jJ6",
    "outputId": "be47f4ec-1c2a-4669-d03d-20ddaa2de64e"
   },
   "outputs": [
    {
     "data": {
      "text/html": [
       "<div>\n",
       "<style scoped>\n",
       "    .dataframe tbody tr th:only-of-type {\n",
       "        vertical-align: middle;\n",
       "    }\n",
       "\n",
       "    .dataframe tbody tr th {\n",
       "        vertical-align: top;\n",
       "    }\n",
       "\n",
       "    .dataframe thead th {\n",
       "        text-align: right;\n",
       "    }\n",
       "</style>\n",
       "<table border=\"1\" class=\"dataframe\">\n",
       "  <thead>\n",
       "    <tr style=\"text-align: right;\">\n",
       "      <th></th>\n",
       "      <th>Unnamed: 0</th>\n",
       "      <th>id</th>\n",
       "      <th>teacher_id</th>\n",
       "      <th>teacher_prefix</th>\n",
       "      <th>school_state</th>\n",
       "      <th>project_submitted_datetime</th>\n",
       "      <th>project_grade_category</th>\n",
       "      <th>project_essay_1</th>\n",
       "      <th>project_essay_2</th>\n",
       "      <th>project_essay_3</th>\n",
       "      <th>project_essay_4</th>\n",
       "      <th>project_resource_summary</th>\n",
       "      <th>teacher_number_of_previously_posted_projects</th>\n",
       "      <th>project_is_approved</th>\n",
       "      <th>clean_categories</th>\n",
       "      <th>clean_subcategories</th>\n",
       "      <th>clean_titles</th>\n",
       "      <th>title_word_count</th>\n",
       "      <th>clean_essays</th>\n",
       "      <th>essay_word_count</th>\n",
       "    </tr>\n",
       "  </thead>\n",
       "  <tbody>\n",
       "    <tr>\n",
       "      <th>0</th>\n",
       "      <td>160221</td>\n",
       "      <td>p253737</td>\n",
       "      <td>c90749f5d961ff158d4b4d1e7dc665fc</td>\n",
       "      <td>Mrs</td>\n",
       "      <td>IN</td>\n",
       "      <td>2016-12-05 13:43:57</td>\n",
       "      <td>Grades PreK-2</td>\n",
       "      <td>My students are English learners that are work...</td>\n",
       "      <td>\\\"The limits of your language are the limits o...</td>\n",
       "      <td>NaN</td>\n",
       "      <td>NaN</td>\n",
       "      <td>My students need opportunities to practice beg...</td>\n",
       "      <td>0</td>\n",
       "      <td>0</td>\n",
       "      <td>Literacy_Language</td>\n",
       "      <td>ESL Literacy</td>\n",
       "      <td>educational support for english learners at home</td>\n",
       "      <td>7</td>\n",
       "      <td>my students english learners working english s...</td>\n",
       "      <td>164</td>\n",
       "    </tr>\n",
       "    <tr>\n",
       "      <th>1</th>\n",
       "      <td>140945</td>\n",
       "      <td>p258326</td>\n",
       "      <td>897464ce9ddc600bced1151f324dd63a</td>\n",
       "      <td>Mr</td>\n",
       "      <td>FL</td>\n",
       "      <td>2016-10-25 09:22:10</td>\n",
       "      <td>Grades 6-8</td>\n",
       "      <td>Our students arrive to our school eager to lea...</td>\n",
       "      <td>The projector we need for our school is very c...</td>\n",
       "      <td>NaN</td>\n",
       "      <td>NaN</td>\n",
       "      <td>My students need a projector to help with view...</td>\n",
       "      <td>7</td>\n",
       "      <td>1</td>\n",
       "      <td>History_Civics Health_Sports</td>\n",
       "      <td>Civics_Government TeamSports</td>\n",
       "      <td>wanted projector for hungry learners</td>\n",
       "      <td>5</td>\n",
       "      <td>our students arrive school eager learn they po...</td>\n",
       "      <td>114</td>\n",
       "    </tr>\n",
       "  </tbody>\n",
       "</table>\n",
       "</div>"
      ],
      "text/plain": [
       "   Unnamed: 0  ... essay_word_count\n",
       "0      160221  ...              164\n",
       "1      140945  ...              114\n",
       "\n",
       "[2 rows x 20 columns]"
      ]
     },
     "execution_count": 39,
     "metadata": {
      "tags": []
     },
     "output_type": "execute_result"
    }
   ],
   "source": [
    "project_data.head(2)"
   ]
  },
  {
   "cell_type": "code",
   "execution_count": 0,
   "metadata": {
    "colab": {},
    "colab_type": "code",
    "id": "VDuUeO9d8jJ9"
   },
   "outputs": [],
   "source": [
    "# train test split using sklearn.model selection\n",
    "from sklearn.model_selection import train_test_split\n",
    "\n",
    "X_train, X_test, y_train, y_test = train_test_split(project_data, project_data['project_is_approved'], test_size=0.3, stratify = project_data['project_is_approved'],random_state=42)\n",
    "X_train, X_cv, y_train, y_cv = train_test_split(X_train, y_train, test_size=0.3, stratify=y_train,random_state=42)"
   ]
  },
  {
   "cell_type": "code",
   "execution_count": 0,
   "metadata": {
    "colab": {},
    "colab_type": "code",
    "id": "6NrpZw7I8jJ_"
   },
   "outputs": [],
   "source": [
    "X_train.drop(['project_is_approved'], axis=1, inplace=True)\n",
    "X_test.drop(['project_is_approved'], axis=1, inplace=True)\n",
    "X_cv.drop(['project_is_approved'], axis=1, inplace=True)"
   ]
  },
  {
   "cell_type": "markdown",
   "metadata": {
    "colab_type": "text",
    "id": "9zgcJxH68jKB"
   },
   "source": [
    "# one hot vector for clean categories of Projects (train,test,cv)"
   ]
  },
  {
   "cell_type": "code",
   "execution_count": 0,
   "metadata": {
    "colab": {
     "base_uri": "https://localhost:8080/",
     "height": 105
    },
    "colab_type": "code",
    "id": "tRyTtTCd8jKB",
    "outputId": "a28d15c9-37c3-4b23-8c6d-371f2ef57a04"
   },
   "outputs": [
    {
     "name": "stdout",
     "output_type": "stream",
     "text": [
      "['Warmth', 'Care_Hunger', 'History_Civics', 'Music_Arts', 'AppliedLearning', 'SpecialNeeds', 'Health_Sports', 'Math_Science', 'Literacy_Language']\n",
      "Shape of matrix of Train data after one hot encoding  (53531, 9)\n",
      "Shape of matrix of Test data after one hot encoding  (32775, 9)\n",
      "Shape of matrix of CV data after one hot encoding  (22942, 9)\n"
     ]
    }
   ],
   "source": [
    "# we use count vectorizer to convert the values into one hot vectors \n",
    "\n",
    "from sklearn.feature_extraction.text import CountVectorizer\n",
    "\n",
    "vectorizer_proj = CountVectorizer(vocabulary=list(sorted_cat_dict.keys()), lowercase=False, binary=True)\n",
    "vectorizer_proj.fit(X_train['clean_categories'].values)\n",
    "\n",
    "feature_names_bow=[]\n",
    "feature_names_tfidf=[]\n",
    "\n",
    "\n",
    "categories_one_hot_train = vectorizer_proj.transform(X_train['clean_categories'].values)\n",
    "categories_one_hot_test = vectorizer_proj.transform(X_test['clean_categories'].values)\n",
    "categories_one_hot_cv = vectorizer_proj.transform(X_cv['clean_categories'].values)\n",
    "\n",
    "print(vectorizer_proj.get_feature_names())\n",
    "\n",
    "print(\"Shape of matrix of Train data after one hot encoding \",categories_one_hot_train.shape)\n",
    "print(\"Shape of matrix of Test data after one hot encoding \",categories_one_hot_test.shape)\n",
    "print(\"Shape of matrix of CV data after one hot encoding \",categories_one_hot_cv.shape)\n",
    "\n",
    "feature_names_bow.extend(vectorizer_proj.get_feature_names())\n",
    "feature_names_tfidf.extend(vectorizer_proj.get_feature_names())"
   ]
  },
  {
   "cell_type": "markdown",
   "metadata": {
    "colab_type": "text",
    "id": "2PTitMZ38jKF"
   },
   "source": [
    "# one hot vector for clean subcategories (train ,test,cv)"
   ]
  },
  {
   "cell_type": "code",
   "execution_count": 0,
   "metadata": {
    "colab": {
     "base_uri": "https://localhost:8080/",
     "height": 105
    },
    "colab_type": "code",
    "id": "yFPsQvy98jKF",
    "outputId": "80eb9117-5fb2-434e-d847-0b7d0e914703"
   },
   "outputs": [
    {
     "name": "stdout",
     "output_type": "stream",
     "text": [
      "['Economics', 'CommunityService', 'FinancialLiteracy', 'ParentInvolvement', 'Extracurricular', 'Civics_Government', 'ForeignLanguages', 'NutritionEducation', 'Warmth', 'Care_Hunger', 'SocialSciences', 'PerformingArts', 'CharacterEducation', 'TeamSports', 'Other', 'College_CareerPrep', 'Music', 'History_Geography', 'Health_LifeScience', 'EarlyDevelopment', 'ESL', 'Gym_Fitness', 'EnvironmentalScience', 'VisualArts', 'Health_Wellness', 'AppliedSciences', 'SpecialNeeds', 'Literature_Writing', 'Mathematics', 'Literacy']\n",
      "Shape of matrix of Train data after one hot encoding  (53531, 30)\n",
      "Shape of matrix of Test data after one hot encoding  (32775, 30)\n",
      "Shape of matrix of Cross Validation data after one hot encoding  (22942, 30)\n"
     ]
    }
   ],
   "source": [
    "# we use count vectorizer to convert the values into one \n",
    "\n",
    "vectorizer_sub_proj = CountVectorizer(vocabulary=list(sorted_sub_cat_dict.keys()), lowercase=False, binary=True)\n",
    "vectorizer_sub_proj.fit(X_train['clean_subcategories'].values)\n",
    "\n",
    "\n",
    "\n",
    "sub_categories_one_hot_train = vectorizer_sub_proj.transform(X_train['clean_subcategories'].values)\n",
    "sub_categories_one_hot_test = vectorizer_sub_proj.transform(X_test['clean_subcategories'].values)\n",
    "sub_categories_one_hot_cv = vectorizer_sub_proj.transform(X_cv['clean_subcategories'].values)\n",
    "\n",
    "\n",
    "print(vectorizer_sub_proj.get_feature_names())\n",
    "\n",
    "print(\"Shape of matrix of Train data after one hot encoding \",sub_categories_one_hot_train.shape)\n",
    "print(\"Shape of matrix of Test data after one hot encoding \",sub_categories_one_hot_test.shape)\n",
    "print(\"Shape of matrix of Cross Validation data after one hot encoding \",sub_categories_one_hot_cv.shape)\n",
    "\n",
    "feature_names_bow.extend(vectorizer_sub_proj.get_feature_names())\n",
    "feature_names_tfidf.extend(vectorizer_sub_proj.get_feature_names())"
   ]
  },
  {
   "cell_type": "markdown",
   "metadata": {
    "colab_type": "text",
    "id": "_6yQ36pJ8jKI"
   },
   "source": [
    "# One hot vector for school states(train,test,cv)"
   ]
  },
  {
   "cell_type": "code",
   "execution_count": 0,
   "metadata": {
    "colab": {},
    "colab_type": "code",
    "id": "l-MYVH358jKI"
   },
   "outputs": [],
   "source": [
    "my_counter = Counter()\n",
    "for state in project_data['school_state'].values:\n",
    "    my_counter.update(state.split())"
   ]
  },
  {
   "cell_type": "code",
   "execution_count": 0,
   "metadata": {
    "colab": {},
    "colab_type": "code",
    "id": "S3OV-Ut78jKN"
   },
   "outputs": [],
   "source": [
    "school_state_cat_dict = dict(my_counter)\n",
    "sorted_school_state_cat_dict = dict(sorted(school_state_cat_dict.items(), key=lambda kv: kv[1]))"
   ]
  },
  {
   "cell_type": "code",
   "execution_count": 0,
   "metadata": {
    "colab": {
     "base_uri": "https://localhost:8080/",
     "height": 105
    },
    "colab_type": "code",
    "id": "Ci7jvPU08jKS",
    "outputId": "b61a8679-5794-44ab-9724-b47e806dcf11"
   },
   "outputs": [
    {
     "name": "stdout",
     "output_type": "stream",
     "text": [
      "['VT', 'WY', 'ND', 'MT', 'RI', 'SD', 'NE', 'DE', 'AK', 'NH', 'WV', 'ME', 'HI', 'DC', 'NM', 'KS', 'IA', 'ID', 'AR', 'CO', 'MN', 'OR', 'KY', 'MS', 'NV', 'MD', 'CT', 'TN', 'UT', 'AL', 'WI', 'VA', 'AZ', 'NJ', 'OK', 'WA', 'MA', 'LA', 'OH', 'MO', 'IN', 'PA', 'MI', 'SC', 'GA', 'IL', 'NC', 'FL', 'NY', 'TX', 'CA']\n",
      "Shape of matrix of Train data after one hot encoding  (53531, 51)\n",
      "Shape of matrix of Test data after one hot encoding  (32775, 51)\n",
      "Shape of matrix of Cross Validation data after one hot encoding  (22942, 51)\n"
     ]
    }
   ],
   "source": [
    "## Using count vectorizer to convert the values into one hot encoded features\n",
    "\n",
    "vectorizer_states = CountVectorizer(vocabulary=list(sorted_school_state_cat_dict.keys()), lowercase=False, binary=True)\n",
    "vectorizer_states.fit(X_train['school_state'].values)\n",
    "\n",
    "school_state_categories_one_hot_train = vectorizer_states.transform(X_train['school_state'].values)\n",
    "school_state_categories_one_hot_test = vectorizer_states.transform(X_test['school_state'].values)\n",
    "school_state_categories_one_hot_cv = vectorizer_states.transform(X_cv['school_state'].values)\n",
    "\n",
    "print(vectorizer_states.get_feature_names())\n",
    "\n",
    "print(\"Shape of matrix of Train data after one hot encoding \",school_state_categories_one_hot_train.shape)\n",
    "print(\"Shape of matrix of Test data after one hot encoding \",school_state_categories_one_hot_test.shape)\n",
    "print(\"Shape of matrix of Cross Validation data after one hot encoding \",school_state_categories_one_hot_cv.shape)\n",
    "\n",
    "feature_names_bow.extend(vectorizer_states.get_feature_names())\n",
    "feature_names_tfidf.extend(vectorizer_states.get_feature_names())"
   ]
  },
  {
   "cell_type": "markdown",
   "metadata": {
    "colab_type": "text",
    "id": "BMeiCgFC8jKW"
   },
   "source": [
    "# one hot vector for Project grade category (train,test,cv)"
   ]
  },
  {
   "cell_type": "code",
   "execution_count": 0,
   "metadata": {
    "colab": {},
    "colab_type": "code",
    "id": "uAAUfBpe8jKX"
   },
   "outputs": [],
   "source": [
    "my_counter = Counter()\n",
    "for project_grade in preprocessed_project_grade_categories:\n",
    "    my_counter.update(project_grade.split())"
   ]
  },
  {
   "cell_type": "code",
   "execution_count": 0,
   "metadata": {
    "colab": {},
    "colab_type": "code",
    "id": "XGEGsqO68jKZ"
   },
   "outputs": [],
   "source": [
    "project_grade_cat_dict = dict(my_counter)\n",
    "sorted_project_grade_cat_dict = dict(sorted(project_grade_cat_dict.items(), key=lambda kv: kv[1]))"
   ]
  },
  {
   "cell_type": "code",
   "execution_count": 0,
   "metadata": {
    "colab": {
     "base_uri": "https://localhost:8080/",
     "height": 85
    },
    "colab_type": "code",
    "id": "0SM8nygU8jKf",
    "outputId": "9262569c-c5f0-4c60-a185-a442bead57f5"
   },
   "outputs": [
    {
     "name": "stdout",
     "output_type": "stream",
     "text": [
      "['9_12', '6_8', '3_5', 'PreK_2']\n",
      "Shape of matrix of Train data after one hot encoding  (53531, 4)\n",
      "Shape of matrix of Test data after one hot encoding  (32775, 4)\n",
      "Shape of matrix of Cross Validation data after one hot encoding  (22942, 4)\n"
     ]
    }
   ],
   "source": [
    "## we use count vectorizer to convert the values into one hot encoded features\n",
    "\n",
    "vectorizer_grade = CountVectorizer(vocabulary=list(sorted_project_grade_cat_dict.keys()), lowercase=False, binary=True)\n",
    "vectorizer_grade.fit(X_train['project_grade_category'].values)\n",
    "\n",
    "project_grade_categories_one_hot_train = vectorizer_grade.transform(X_train['project_grade_category'].values)\n",
    "project_grade_categories_one_hot_test = vectorizer_grade.transform(X_test['project_grade_category'].values)\n",
    "project_grade_categories_one_hot_cv = vectorizer_grade.transform(X_cv['project_grade_category'].values)\n",
    "\n",
    "print(vectorizer_grade.get_feature_names())\n",
    "\n",
    "print(\"Shape of matrix of Train data after one hot encoding \",project_grade_categories_one_hot_train.shape)\n",
    "print(\"Shape of matrix of Test data after one hot encoding \",project_grade_categories_one_hot_test.shape)\n",
    "print(\"Shape of matrix of Cross Validation data after one hot encoding \",project_grade_categories_one_hot_cv.shape)\n",
    "\n",
    "feature_names_bow.extend(vectorizer_grade.get_feature_names())\n",
    "feature_names_tfidf.extend(vectorizer_grade.get_feature_names())"
   ]
  },
  {
   "cell_type": "markdown",
   "metadata": {
    "colab_type": "text",
    "id": "54IougoI8jKj"
   },
   "source": [
    "# One hot vector for teacher prefix(train,test,cv)"
   ]
  },
  {
   "cell_type": "code",
   "execution_count": 0,
   "metadata": {
    "colab": {
     "base_uri": "https://localhost:8080/",
     "height": 139
    },
    "colab_type": "code",
    "id": "z_6UcIdR8jKk",
    "outputId": "f60cadfe-c7d1-467f-903d-dc81a1eac301"
   },
   "outputs": [
    {
     "name": "stdout",
     "output_type": "stream",
     "text": [
      "After vectorizations\n",
      "Shape of matrix of Train data after one hot encoding (53531, 6) (53531,)\n",
      "Shape of matrix of cv data after one hot encoding (22942, 6) (22942,)\n",
      "Shape of matrix of Test data after one hot encoding (32775, 6) (32775,)\n",
      "['dr', 'mr', 'mrs', 'ms', 'null', 'teacher']\n",
      "====================================================================================================\n"
     ]
    }
   ],
   "source": [
    "vectorizer_teacher = CountVectorizer()\n",
    "vectorizer_teacher.fit(X_train['teacher_prefix'].values) # fit has to happen only on train data\n",
    "\n",
    "# we use the fitted CountVectorizer to convert the text to vector\n",
    "teacher_prefix_categories_one_hot_train = vectorizer_teacher.transform(X_train['teacher_prefix'].values)\n",
    "teacher_prefix_categories_one_hot_cv = vectorizer_teacher.transform(X_cv['teacher_prefix'].values)\n",
    "teacher_prefix_categories_one_hot_test = vectorizer_teacher.transform(X_test['teacher_prefix'].values)\n",
    "\n",
    "print(\"After vectorizations\")\n",
    "print(\"Shape of matrix of Train data after one hot encoding\",teacher_prefix_categories_one_hot_train.shape, y_train.shape)\n",
    "print(\"Shape of matrix of cv data after one hot encoding\",teacher_prefix_categories_one_hot_cv.shape, y_cv.shape)\n",
    "print(\"Shape of matrix of Test data after one hot encoding\",teacher_prefix_categories_one_hot_test.shape, y_test.shape)\n",
    "print(vectorizer_teacher.get_feature_names())\n",
    "print(\"=\"*100)\n",
    "\n",
    "feature_names_bow.extend(vectorizer_teacher.get_feature_names())\n",
    "feature_names_tfidf.extend(vectorizer_teacher.get_feature_names())"
   ]
  },
  {
   "cell_type": "markdown",
   "metadata": {
    "colab_type": "text",
    "id": "HgN3i39j8jKm"
   },
   "source": [
    "# 1.11 Vectorizing text data\n",
    "\n",
    "## A) Bag of words (BOW  min_df=10)\n",
    "\n",
    "### BOW train data essays"
   ]
  },
  {
   "cell_type": "code",
   "execution_count": 0,
   "metadata": {
    "colab": {
     "base_uri": "https://localhost:8080/",
     "height": 34
    },
    "colab_type": "code",
    "id": "EDPplx1c8jKn",
    "outputId": "b9b4400a-d79b-448b-ddbc-3dd1c2ed456b"
   },
   "outputs": [
    {
     "name": "stdout",
     "output_type": "stream",
     "text": [
      "Shape of matrix after one hot encoding  (53531, 5000)\n"
     ]
    }
   ],
   "source": [
    "# We are considering only the words which appeared in at least 10 documents(rows or projects).\n",
    "vectorizer_bow_essay = CountVectorizer(min_df=10,max_features=5000)  #selecting top 5000 features\n",
    "vectorizer_bow_essay.fit(X_train[\"clean_essays\"])\n",
    "\n",
    "text_bow_train = vectorizer_bow_essay.transform(X_train[\"clean_essays\"])\n",
    "\n",
    "print(\"Shape of matrix after one hot encoding \",text_bow_train.shape)\n"
   ]
  },
  {
   "cell_type": "markdown",
   "metadata": {
    "colab_type": "text",
    "id": "XXQP_P9G8jKp"
   },
   "source": [
    "### bow test essays"
   ]
  },
  {
   "cell_type": "code",
   "execution_count": 0,
   "metadata": {
    "colab": {
     "base_uri": "https://localhost:8080/",
     "height": 34
    },
    "colab_type": "code",
    "id": "SnjLsOfc8jKp",
    "outputId": "7a621b58-0182-41f0-f8cb-8befa8a07cda"
   },
   "outputs": [
    {
     "name": "stdout",
     "output_type": "stream",
     "text": [
      "Shape of matrix after one hot encoding  (32775, 5000)\n"
     ]
    }
   ],
   "source": [
    "text_bow_test = vectorizer_bow_essay.transform(X_test[\"clean_essays\"])\n",
    "print(\"Shape of matrix after one hot encoding \",text_bow_test.shape)"
   ]
  },
  {
   "cell_type": "markdown",
   "metadata": {
    "colab_type": "text",
    "id": "QmdHr3tM8jKr"
   },
   "source": [
    "### bow cv essays"
   ]
  },
  {
   "cell_type": "code",
   "execution_count": 0,
   "metadata": {
    "colab": {
     "base_uri": "https://localhost:8080/",
     "height": 34
    },
    "colab_type": "code",
    "id": "tSrEvc1w8jKs",
    "outputId": "77a00701-1032-4604-b69c-ab959e2f9677"
   },
   "outputs": [
    {
     "name": "stdout",
     "output_type": "stream",
     "text": [
      "Shape of matrix after one hot encoding  (22942, 5000)\n"
     ]
    }
   ],
   "source": [
    "text_bow_cv = vectorizer_bow_essay.transform(X_cv[\"clean_essays\"])\n",
    "print(\"Shape of matrix after one hot encoding \",text_bow_cv.shape)\n",
    "\n",
    "feature_names_bow.extend(vectorizer_bow_essay.get_feature_names())\n"
   ]
  },
  {
   "cell_type": "code",
   "execution_count": 0,
   "metadata": {
    "colab": {
     "base_uri": "https://localhost:8080/",
     "height": 34
    },
    "colab_type": "code",
    "id": "Pi4ybnoV8jKu",
    "outputId": "7bb4a0a4-31dd-426e-9b7c-218fbb548ba9"
   },
   "outputs": [
    {
     "name": "stdout",
     "output_type": "stream",
     "text": [
      "5100\n"
     ]
    }
   ],
   "source": [
    "print(len(feature_names_bow))"
   ]
  },
  {
   "cell_type": "markdown",
   "metadata": {
    "colab_type": "text",
    "id": "g5iqOi2q8jKx"
   },
   "source": [
    "### bow train titles"
   ]
  },
  {
   "cell_type": "code",
   "execution_count": 0,
   "metadata": {
    "colab": {
     "base_uri": "https://localhost:8080/",
     "height": 34
    },
    "colab_type": "code",
    "id": "q-NNihOs8jKy",
    "outputId": "2c2e4f33-3089-4eeb-fd25-d17a58425b51"
   },
   "outputs": [
    {
     "name": "stdout",
     "output_type": "stream",
     "text": [
      "Shape of matrix after one hot encoding  (53531, 3437)\n"
     ]
    }
   ],
   "source": [
    "vectorizer_bow_title = CountVectorizer( min_df=5, max_features = 5000)\n",
    "vectorizer_bow_title.fit(X_train[\"clean_titles\"])\n",
    "title_bow_train = vectorizer_bow_title.transform(X_train[\"clean_titles\"])\n",
    "print(\"Shape of matrix after one hot encoding \",title_bow_train.shape)"
   ]
  },
  {
   "cell_type": "markdown",
   "metadata": {
    "colab_type": "text",
    "id": "IVkq_W0o8jK1"
   },
   "source": [
    "### bow test titles"
   ]
  },
  {
   "cell_type": "code",
   "execution_count": 0,
   "metadata": {
    "colab": {
     "base_uri": "https://localhost:8080/",
     "height": 34
    },
    "colab_type": "code",
    "id": "pV8B0NAq8jK1",
    "outputId": "fd8e2c89-184f-487d-aa21-816a2f775a5f"
   },
   "outputs": [
    {
     "name": "stdout",
     "output_type": "stream",
     "text": [
      "Shape of matrix after one hot encoding  (32775, 3437)\n"
     ]
    }
   ],
   "source": [
    "title_bow_test = vectorizer_bow_title.transform(X_test[\"clean_titles\"])\n",
    "print(\"Shape of matrix after one hot encoding \",title_bow_test.shape)"
   ]
  },
  {
   "cell_type": "markdown",
   "metadata": {
    "colab_type": "text",
    "id": "A_AIT-Mz8jK3"
   },
   "source": [
    "### bow cv titles"
   ]
  },
  {
   "cell_type": "code",
   "execution_count": 0,
   "metadata": {
    "colab": {
     "base_uri": "https://localhost:8080/",
     "height": 34
    },
    "colab_type": "code",
    "id": "s_2m7O6-8jK3",
    "outputId": "3d768c35-22e9-4781-9856-200b30b81d27"
   },
   "outputs": [
    {
     "name": "stdout",
     "output_type": "stream",
     "text": [
      "Shape of matrix after one hot encoding  (22942, 3437)\n"
     ]
    }
   ],
   "source": [
    "title_bow_cv = vectorizer_bow_title.transform(X_cv[\"clean_titles\"])\n",
    "print(\"Shape of matrix after one hot encoding \",title_bow_cv.shape)\n",
    "feature_names_bow.extend(vectorizer_bow_title.get_feature_names())"
   ]
  },
  {
   "cell_type": "code",
   "execution_count": 0,
   "metadata": {
    "colab": {
     "base_uri": "https://localhost:8080/",
     "height": 34
    },
    "colab_type": "code",
    "id": "hSmEJBB28jK5",
    "outputId": "c189f3dc-b572-446b-f86f-623c20db9236"
   },
   "outputs": [
    {
     "name": "stdout",
     "output_type": "stream",
     "text": [
      "8537\n"
     ]
    }
   ],
   "source": [
    "print(len(feature_names_bow))"
   ]
  },
  {
   "cell_type": "markdown",
   "metadata": {
    "colab_type": "text",
    "id": "FW2LWRQo8jK8"
   },
   "source": [
    "#  Tfidf with  min_df=10 and max_features =5000"
   ]
  },
  {
   "cell_type": "markdown",
   "metadata": {
    "colab_type": "text",
    "id": "A-MLWK1D8jK9"
   },
   "source": [
    "###  tfidf train essays"
   ]
  },
  {
   "cell_type": "code",
   "execution_count": 0,
   "metadata": {
    "colab": {
     "base_uri": "https://localhost:8080/",
     "height": 34
    },
    "colab_type": "code",
    "id": "H2g_fMpu8jLA",
    "outputId": "35d91071-e080-4701-e7f9-09c480017f1c"
   },
   "outputs": [
    {
     "name": "stdout",
     "output_type": "stream",
     "text": [
      "Shape of matrix after one hot encoding  (53531, 5000)\n"
     ]
    }
   ],
   "source": [
    "from sklearn.feature_extraction.text import TfidfVectorizer\n",
    "\n",
    "vectorizer_tfidf_essay = TfidfVectorizer(min_df=10,max_features=5000) #Considering top 5000 features\n",
    "vectorizer_tfidf_essay.fit(X_train[\"clean_essays\"])\n",
    "\n",
    "text_tfidf_train = vectorizer_tfidf_essay.transform(X_train[\"clean_essays\"])\n",
    "print(\"Shape of matrix after one hot encoding \",text_tfidf_train.shape)"
   ]
  },
  {
   "cell_type": "markdown",
   "metadata": {
    "colab_type": "text",
    "id": "7nlGLdx28jLC"
   },
   "source": [
    "### tfidf test essays"
   ]
  },
  {
   "cell_type": "code",
   "execution_count": 0,
   "metadata": {
    "colab": {
     "base_uri": "https://localhost:8080/",
     "height": 34
    },
    "colab_type": "code",
    "id": "LA49g3sd8jLC",
    "outputId": "3b4911ed-d6c7-4601-8a5a-5ce3ee2cb181"
   },
   "outputs": [
    {
     "name": "stdout",
     "output_type": "stream",
     "text": [
      "Shape of matrix after one hot encoding  (32775, 5000)\n"
     ]
    }
   ],
   "source": [
    "text_tfidf_test = vectorizer_tfidf_essay.transform(X_test[\"clean_essays\"])\n",
    "print(\"Shape of matrix after one hot encoding \",text_tfidf_test.shape)"
   ]
  },
  {
   "cell_type": "markdown",
   "metadata": {
    "colab_type": "text",
    "id": "moiz8JQD8jLF"
   },
   "source": [
    "### tfidf cv essays"
   ]
  },
  {
   "cell_type": "code",
   "execution_count": 0,
   "metadata": {
    "colab": {
     "base_uri": "https://localhost:8080/",
     "height": 34
    },
    "colab_type": "code",
    "id": "Sk2Bd8lt8jLG",
    "outputId": "fb210564-2a59-4d97-ffe2-89ceb0138a7a"
   },
   "outputs": [
    {
     "name": "stdout",
     "output_type": "stream",
     "text": [
      "Shape of matrix after one hot encoding  (22942, 5000)\n"
     ]
    }
   ],
   "source": [
    "text_tfidf_cv = vectorizer_tfidf_essay.transform(X_cv[\"clean_essays\"])\n",
    "print(\"Shape of matrix after one hot encoding \",text_tfidf_cv.shape)\n",
    "\n",
    "feature_names_tfidf.extend(vectorizer_tfidf_essay.get_feature_names())"
   ]
  },
  {
   "cell_type": "markdown",
   "metadata": {
    "colab_type": "text",
    "id": "O2l9FLAB8jLI"
   },
   "source": [
    "### tfidf train titles"
   ]
  },
  {
   "cell_type": "code",
   "execution_count": 0,
   "metadata": {
    "colab": {
     "base_uri": "https://localhost:8080/",
     "height": 34
    },
    "colab_type": "code",
    "id": "Zt1Vd4bJ8jLJ",
    "outputId": "60e51502-622d-4508-94c0-1ce61476be0d"
   },
   "outputs": [
    {
     "name": "stdout",
     "output_type": "stream",
     "text": [
      "Shape of matrix after one hot encoding  (53531, 3437)\n"
     ]
    }
   ],
   "source": [
    "vectorizer_tfidf_titles = TfidfVectorizer( min_df=5)\n",
    "\n",
    "vectorizer_tfidf_titles.fit(X_train[\"clean_titles\"])\n",
    "title_tfidf_train = vectorizer_tfidf_titles.transform(X_train[\"clean_titles\"])\n",
    "print(\"Shape of matrix after one hot encoding \",title_tfidf_train.shape)"
   ]
  },
  {
   "cell_type": "markdown",
   "metadata": {
    "colab_type": "text",
    "id": "j2X0O4Pa8jLK"
   },
   "source": [
    "### tfidf test titles"
   ]
  },
  {
   "cell_type": "code",
   "execution_count": 0,
   "metadata": {
    "colab": {
     "base_uri": "https://localhost:8080/",
     "height": 34
    },
    "colab_type": "code",
    "id": "LRAI4Tqz8jLL",
    "outputId": "66390b36-fa0e-4c88-e69a-cb8c4ff8c739"
   },
   "outputs": [
    {
     "name": "stdout",
     "output_type": "stream",
     "text": [
      "Shape of matrix after one hot encoding  (32775, 3437)\n"
     ]
    }
   ],
   "source": [
    "title_tfidf_test = vectorizer_tfidf_titles.transform(X_test[\"clean_titles\"])\n",
    "print(\"Shape of matrix after one hot encoding \",title_tfidf_test.shape)"
   ]
  },
  {
   "cell_type": "markdown",
   "metadata": {
    "colab_type": "text",
    "id": "OUj-ANx18jLN"
   },
   "source": [
    "### tfidf cv titles"
   ]
  },
  {
   "cell_type": "code",
   "execution_count": 0,
   "metadata": {
    "colab": {
     "base_uri": "https://localhost:8080/",
     "height": 34
    },
    "colab_type": "code",
    "id": "6cNNrtLZ8jLO",
    "outputId": "a84db204-64d5-4ae4-95d6-d6386ff1ec3c"
   },
   "outputs": [
    {
     "name": "stdout",
     "output_type": "stream",
     "text": [
      "Shape of matrix after one hot encoding  (22942, 3437)\n"
     ]
    }
   ],
   "source": [
    "title_tfidf_cv = vectorizer_tfidf_titles.transform(X_cv[\"clean_titles\"])\n",
    "print(\"Shape of matrix after one hot encoding \",title_tfidf_cv.shape)\n",
    "\n",
    "feature_names_tfidf.extend(vectorizer_tfidf_titles.get_feature_names())\n"
   ]
  },
  {
   "cell_type": "markdown",
   "metadata": {
    "colab_type": "text",
    "id": "3lj_G0ku8jLR"
   },
   "source": [
    "# Using pretrained w2v"
   ]
  },
  {
   "cell_type": "code",
   "execution_count": 0,
   "metadata": {
    "colab": {
     "base_uri": "https://localhost:8080/",
     "height": 85
    },
    "colab_type": "code",
    "id": "CCQDarWS_FS8",
    "outputId": "0bdfb81c-13c9-46e9-d45d-8e938860ffa0"
   },
   "outputs": [
    {
     "name": "stdout",
     "output_type": "stream",
     "text": [
      "100  121M    0  121M    0     0  60.2M      0 --:--:--  0:00:02 --:--:-- 60.2M\n",
      "  % Total    % Received % Xferd  Average Speed   Time    Time     Time  Current\n",
      "                                 Dload  Upload   Total   Spent    Left  Speed\n",
      "100  121M    0  121M    0     0   135M      0 --:--:-- --:--:-- --:--:--  135M\n"
     ]
    }
   ],
   "source": [
    "!curl --header \"Host: doc-0s-bk-docs.googleusercontent.com\" --header \"User-Agent: Mozilla/5.0 (Macintosh; Intel Mac OS X 10_14_4) AppleWebKit/537.36 (KHTML, like Gecko) Chrome/78.0.3904.108 Safari/537.36\" --header \"Accept: text/html,application/xhtml+xml,application/xml;q=0.9,image/webp,image/apng,*/*;q=0.8,application/signed-exchange;v=b3\" --header \"Accept-Language: en-US,en;q=0.9\" --header \"Referer: https://drive.google.com/drive/search?q=glove\" --header \"Cookie: AUTH_75gj45lm0i7pc3o1t8oprk1gk5mn6lhi=01431468197101903198|1576137600000|ta2ag6t4rpcb75mpq18acvbhei6cd244; _ga=GA1.2.1245580049.1562348238\" --header \"Connection: keep-alive\" \"https://doc-0s-bk-docs.googleusercontent.com/docs/securesc/33fsahmr92289free56hh93kcifvni7b/dugskiij64kn5raso4ud0f923sap59f7/1576137600000/06629147635963609455/01431468197101903198/1Z6bjXmyCaoEzXYo_tRDwLTsfeA2F3K3j?e=download&authuser=0\" -o \"glove_vectors\" -L"
   ]
  },
  {
   "cell_type": "code",
   "execution_count": 0,
   "metadata": {
    "colab": {},
    "colab_type": "code",
    "id": "Aa_uCRtw8jLR"
   },
   "outputs": [],
   "source": [
    "\n",
    "# stronging variables into pickle files python: http://www.jessicayung.com/how-to-use-pickle-to-save-and-load-variables-in-python/\n",
    "# make sure you have the glove_vectors file\n",
    "with open('glove_vectors', 'rb') as f:\n",
    "    model = pickle.load(f)\n",
    "    glove_words =  set(model.keys())"
   ]
  },
  {
   "cell_type": "markdown",
   "metadata": {
    "colab_type": "text",
    "id": "EFTF5IPt8jLT"
   },
   "source": [
    "## train essays"
   ]
  },
  {
   "cell_type": "code",
   "execution_count": 0,
   "metadata": {
    "colab": {
     "base_uri": "https://localhost:8080/",
     "height": 68
    },
    "colab_type": "code",
    "id": "MJHmS53W8jLT",
    "outputId": "13f13389-4bdd-4a3e-da20-097e8058469a"
   },
   "outputs": [
    {
     "name": "stderr",
     "output_type": "stream",
     "text": [
      "100%|██████████| 53531/53531 [00:18<00:00, 2952.82it/s]"
     ]
    },
    {
     "name": "stdout",
     "output_type": "stream",
     "text": [
      "53531\n",
      "300\n"
     ]
    },
    {
     "name": "stderr",
     "output_type": "stream",
     "text": [
      "\n"
     ]
    }
   ],
   "source": [
    "# average Word2Vec\n",
    "# compute average word2vec for each review.\n",
    "\n",
    "avg_w2v_vectors_train = []; \n",
    "\n",
    "for sentence in tqdm(X_train[\"clean_essays\"]): # for each review/sentence\n",
    "    vector = np.zeros(300) # as word vectors are of zero length\n",
    "    cnt_words =0; # num of words with a valid vector in the sentence/review\n",
    "    for word in sentence.split(): # for each word in a review/sentence\n",
    "        if word in glove_words:\n",
    "            vector += model[word]\n",
    "            cnt_words += 1\n",
    "    if cnt_words != 0:\n",
    "        vector /= cnt_words\n",
    "    avg_w2v_vectors_train.append(vector)\n",
    "\n",
    "print(len(avg_w2v_vectors_train))\n",
    "print(len(avg_w2v_vectors_train[0]))"
   ]
  },
  {
   "cell_type": "markdown",
   "metadata": {
    "colab_type": "text",
    "id": "Ne1LGv4h8jLV"
   },
   "source": [
    "## test essays"
   ]
  },
  {
   "cell_type": "code",
   "execution_count": 0,
   "metadata": {
    "colab": {
     "base_uri": "https://localhost:8080/",
     "height": 68
    },
    "colab_type": "code",
    "id": "i2tyyuov8jLW",
    "outputId": "c9d10c24-5b09-4156-bbd5-a508ca3f4fd7"
   },
   "outputs": [
    {
     "name": "stderr",
     "output_type": "stream",
     "text": [
      "100%|██████████| 32775/32775 [00:11<00:00, 2937.70it/s]"
     ]
    },
    {
     "name": "stdout",
     "output_type": "stream",
     "text": [
      "32775\n",
      "300\n"
     ]
    },
    {
     "name": "stderr",
     "output_type": "stream",
     "text": [
      "\n"
     ]
    }
   ],
   "source": [
    "# average Word2Vec\n",
    "# compute average word2vec for each review.\n",
    "\n",
    "avg_w2v_vectors_test = []; \n",
    "\n",
    "for sentence in tqdm(X_test[\"clean_essays\"]): # for each review/sentence\n",
    "    vector = np.zeros(300) # as word vectors are of zero length\n",
    "    cnt_words =0; # num of words with a valid vector in the sentence/review\n",
    "    for word in sentence.split(): # for each word in a review/sentence\n",
    "        if word in glove_words:\n",
    "            vector += model[word]\n",
    "            cnt_words += 1\n",
    "    if cnt_words != 0:\n",
    "        vector /= cnt_words\n",
    "    avg_w2v_vectors_test.append(vector)\n",
    "\n",
    "print(len(avg_w2v_vectors_test))\n",
    "print(len(avg_w2v_vectors_test[0]))"
   ]
  },
  {
   "cell_type": "markdown",
   "metadata": {
    "colab_type": "text",
    "id": "mOqMwxFL8jLZ"
   },
   "source": [
    "## cv essays"
   ]
  },
  {
   "cell_type": "code",
   "execution_count": 0,
   "metadata": {
    "colab": {
     "base_uri": "https://localhost:8080/",
     "height": 68
    },
    "colab_type": "code",
    "id": "KuxKK4Ug8jLa",
    "outputId": "c4762fe8-3e58-4440-a8c8-87d286fb6f15"
   },
   "outputs": [
    {
     "name": "stderr",
     "output_type": "stream",
     "text": [
      "100%|██████████| 22942/22942 [00:07<00:00, 2997.81it/s]"
     ]
    },
    {
     "name": "stdout",
     "output_type": "stream",
     "text": [
      "22942\n",
      "300\n"
     ]
    },
    {
     "name": "stderr",
     "output_type": "stream",
     "text": [
      "\n"
     ]
    }
   ],
   "source": [
    "# average Word2Vec\n",
    "# compute average word2vec for each review.\n",
    "\n",
    "avg_w2v_vectors_cv = []; \n",
    "\n",
    "for sentence in tqdm(X_cv[\"clean_essays\"]): # for each review/sentence\n",
    "    vector = np.zeros(300) # as word vectors are of zero length\n",
    "    cnt_words =0; # num of words with a valid vector in the sentence/review\n",
    "    for word in sentence.split(): # for each word in a review/sentence\n",
    "        if word in glove_words:\n",
    "            vector += model[word]\n",
    "            cnt_words += 1\n",
    "    if cnt_words != 0:\n",
    "        vector /= cnt_words\n",
    "    avg_w2v_vectors_cv.append(vector)\n",
    "\n",
    "print(len(avg_w2v_vectors_cv))\n",
    "print(len(avg_w2v_vectors_cv[0]))"
   ]
  },
  {
   "cell_type": "markdown",
   "metadata": {
    "colab_type": "text",
    "id": "w3p9to7n8jLe"
   },
   "source": [
    "# train titles"
   ]
  },
  {
   "cell_type": "code",
   "execution_count": 0,
   "metadata": {
    "colab": {
     "base_uri": "https://localhost:8080/",
     "height": 68
    },
    "colab_type": "code",
    "id": "sdzlkZvJ8jLe",
    "outputId": "2d4d0b36-1c07-4c49-eec2-d46ceb9fcb53"
   },
   "outputs": [
    {
     "name": "stderr",
     "output_type": "stream",
     "text": [
      "100%|██████████| 53531/53531 [00:01<00:00, 49734.20it/s]"
     ]
    },
    {
     "name": "stdout",
     "output_type": "stream",
     "text": [
      "53531\n",
      "300\n"
     ]
    },
    {
     "name": "stderr",
     "output_type": "stream",
     "text": [
      "\n"
     ]
    }
   ],
   "source": [
    "# Similarly you can vectorize for title also\n",
    "\n",
    "avg_w2v_vectors_titles_train = []; # the avg-w2v for each sentence/review is stored in this list\n",
    "for sentence in tqdm(X_train[\"clean_titles\"]): # for each title\n",
    "    vector = np.zeros(300) # as word vectors are of zero length\n",
    "    cnt_words =0; # num of words with a valid vector in the sentence/review\n",
    "    for word in sentence.split(): # for each word in a review/sentence\n",
    "        if word in glove_words:\n",
    "            vector += model[word]\n",
    "            cnt_words += 1\n",
    "    if cnt_words != 0:\n",
    "        vector /= cnt_words\n",
    "    avg_w2v_vectors_titles_train.append(vector)\n",
    "\n",
    "print(len(avg_w2v_vectors_titles_train))\n",
    "print(len(avg_w2v_vectors_titles_train[0]))"
   ]
  },
  {
   "cell_type": "markdown",
   "metadata": {
    "colab_type": "text",
    "id": "_Q7omeHL8jLh"
   },
   "source": [
    "# test titles"
   ]
  },
  {
   "cell_type": "code",
   "execution_count": 0,
   "metadata": {
    "colab": {
     "base_uri": "https://localhost:8080/",
     "height": 68
    },
    "colab_type": "code",
    "id": "QM8rccDy8jLi",
    "outputId": "8461f6c1-38a3-4d6e-911d-46af08209498"
   },
   "outputs": [
    {
     "name": "stderr",
     "output_type": "stream",
     "text": [
      "100%|██████████| 32775/32775 [00:00<00:00, 49923.74it/s]"
     ]
    },
    {
     "name": "stdout",
     "output_type": "stream",
     "text": [
      "32775\n",
      "300\n"
     ]
    },
    {
     "name": "stderr",
     "output_type": "stream",
     "text": [
      "\n"
     ]
    }
   ],
   "source": [
    "# Similarly you can vectorize for title also\n",
    "\n",
    "avg_w2v_vectors_titles_test = []; # the avg-w2v for each sentence/review is stored in this list\n",
    "for sentence in tqdm(X_test[\"clean_titles\"]): # for each title\n",
    "    vector = np.zeros(300) # as word vectors are of zero length\n",
    "    cnt_words =0; # num of words with a valid vector in the sentence/review\n",
    "    for word in sentence.split(): # for each word in a review/sentence\n",
    "        if word in glove_words:\n",
    "            vector += model[word]\n",
    "            cnt_words += 1\n",
    "    if cnt_words != 0:\n",
    "        vector /= cnt_words\n",
    "    avg_w2v_vectors_titles_test.append(vector)\n",
    "\n",
    "print(len(avg_w2v_vectors_titles_test))\n",
    "print(len(avg_w2v_vectors_titles_test[0]))"
   ]
  },
  {
   "cell_type": "markdown",
   "metadata": {
    "colab_type": "text",
    "id": "YkrMsOy_8jLk"
   },
   "source": [
    "# cv titles"
   ]
  },
  {
   "cell_type": "code",
   "execution_count": 0,
   "metadata": {
    "colab": {
     "base_uri": "https://localhost:8080/",
     "height": 68
    },
    "colab_type": "code",
    "id": "hUDC3yMY8jLl",
    "outputId": "ce55745f-bc25-4944-c80a-f3a3841a8926"
   },
   "outputs": [
    {
     "name": "stderr",
     "output_type": "stream",
     "text": [
      "100%|██████████| 22942/22942 [00:00<00:00, 50383.92it/s]"
     ]
    },
    {
     "name": "stdout",
     "output_type": "stream",
     "text": [
      "22942\n",
      "300\n"
     ]
    },
    {
     "name": "stderr",
     "output_type": "stream",
     "text": [
      "\n"
     ]
    }
   ],
   "source": [
    "\n",
    "# Similarly you can vectorize for title also\n",
    "\n",
    "avg_w2v_vectors_titles_cv = []; # the avg-w2v for each sentence/review is stored in this list\n",
    "for sentence in tqdm(X_cv[\"clean_titles\"]): # for each title\n",
    "    vector = np.zeros(300) # as word vectors are of zero length\n",
    "    cnt_words =0; # num of words with a valid vector in the sentence/review\n",
    "    for word in sentence.split(): # for each word in a review/sentence\n",
    "        if word in glove_words:\n",
    "            vector += model[word]\n",
    "            cnt_words += 1\n",
    "    if cnt_words != 0:\n",
    "        vector /= cnt_words\n",
    "    avg_w2v_vectors_titles_cv.append(vector)\n",
    "\n",
    "print(len(avg_w2v_vectors_titles_cv))\n",
    "print(len(avg_w2v_vectors_titles_cv[0]))"
   ]
  },
  {
   "cell_type": "markdown",
   "metadata": {
    "colab_type": "text",
    "id": "IsrQFA7r8jLn"
   },
   "source": [
    "# using pretrained models : Tfidf weighted W2V"
   ]
  },
  {
   "cell_type": "markdown",
   "metadata": {
    "colab_type": "text",
    "id": "jc-ubn8T8jLn"
   },
   "source": [
    "## train essays"
   ]
  },
  {
   "cell_type": "code",
   "execution_count": 0,
   "metadata": {
    "colab": {},
    "colab_type": "code",
    "id": "STUhMunn8jLo"
   },
   "outputs": [],
   "source": [
    "# S = [\"abc def pqr\", \"def def def abc\", \"pqr pqr def\"]\n",
    "tfidf_model = TfidfVectorizer()\n",
    "tfidf_model.fit(X_train[\"clean_essays\"])\n",
    "# we are converting a dictionary with word as a key, and the idf as a value\n",
    "dictionary = dict(zip(tfidf_model.get_feature_names(), list(tfidf_model.idf_)))\n",
    "tfidf_words = set(tfidf_model.get_feature_names())"
   ]
  },
  {
   "cell_type": "code",
   "execution_count": 0,
   "metadata": {
    "colab": {
     "base_uri": "https://localhost:8080/",
     "height": 68
    },
    "colab_type": "code",
    "id": "TZou8StQ8jLp",
    "outputId": "d042c596-ef3b-43d1-9323-7bba293257c3"
   },
   "outputs": [
    {
     "name": "stderr",
     "output_type": "stream",
     "text": [
      "100%|██████████| 53531/53531 [01:47<00:00, 497.31it/s]"
     ]
    },
    {
     "name": "stdout",
     "output_type": "stream",
     "text": [
      "53531\n",
      "300\n"
     ]
    },
    {
     "name": "stderr",
     "output_type": "stream",
     "text": [
      "\n"
     ]
    }
   ],
   "source": [
    "# average Word2Vec\n",
    "# compute average word2vec for each review.\n",
    "tfidf_w2v_vectors_train = []; # the avg-w2v for each sentence/review is stored in this list\n",
    "for sentence in tqdm(X_train[\"clean_essays\"]): # for each review/sentence\n",
    "    vector = np.zeros(300) # as word vectors are of zero length\n",
    "    tf_idf_weight =0; # num of words with a valid vector in the sentence/review\n",
    "    for word in sentence.split(): # for each word in a review/sentence\n",
    "        if (word in glove_words) and (word in tfidf_words):\n",
    "            vec = model[word] # getting the vector for each word\n",
    "            # here we are multiplying idf value(dictionary[word]) and the tf value((sentence.count(word)/len(sentence.split())))\n",
    "            tf_idf = dictionary[word]*(sentence.count(word)/len(sentence.split())) # getting the tfidf value for each word\n",
    "            vector += (vec * tf_idf) # calculating tfidf weighted w2v\n",
    "            tf_idf_weight += tf_idf\n",
    "    if tf_idf_weight != 0:\n",
    "        vector /= tf_idf_weight\n",
    "    tfidf_w2v_vectors_train.append(vector)\n",
    "\n",
    "print(len(tfidf_w2v_vectors_train))\n",
    "print(len(tfidf_w2v_vectors_train[0]))"
   ]
  },
  {
   "cell_type": "markdown",
   "metadata": {
    "colab_type": "text",
    "id": "782fNqm08jLq"
   },
   "source": [
    "## test essays"
   ]
  },
  {
   "cell_type": "code",
   "execution_count": 0,
   "metadata": {
    "colab": {
     "base_uri": "https://localhost:8080/",
     "height": 68
    },
    "colab_type": "code",
    "id": "lbev9at18jLr",
    "outputId": "99cb010c-3971-4767-a2f2-52f3e95cbc01"
   },
   "outputs": [
    {
     "name": "stderr",
     "output_type": "stream",
     "text": [
      "100%|██████████| 32775/32775 [01:05<00:00, 503.72it/s]"
     ]
    },
    {
     "name": "stdout",
     "output_type": "stream",
     "text": [
      "32775\n",
      "300\n"
     ]
    },
    {
     "name": "stderr",
     "output_type": "stream",
     "text": [
      "\n"
     ]
    }
   ],
   "source": [
    "\n",
    "# compute average word2vec for each review.\n",
    "\n",
    "tfidf_w2v_vectors_test = []; # the avg-w2v for each sentence/review is stored in this list\n",
    "for sentence in tqdm(X_test[\"clean_essays\"]): # for each review/sentence\n",
    "    vector = np.zeros(300) # as word vectors are of zero length\n",
    "    tf_idf_weight =0; # num of words with a valid vector in the sentence/review\n",
    "    for word in sentence.split(): # for each word in a review/sentence\n",
    "        if (word in glove_words) and (word in tfidf_words):\n",
    "            vec = model[word] # getting the vector for each word\n",
    "            # here we are multiplying idf value(dictionary[word]) and the tf value((sentence.count(word)/len(sentence.split())))\n",
    "            tf_idf = dictionary[word]*(sentence.count(word)/len(sentence.split())) # getting the tfidf value for each word\n",
    "            vector += (vec * tf_idf) # calculating tfidf weighted w2v\n",
    "            tf_idf_weight += tf_idf\n",
    "    if tf_idf_weight != 0:\n",
    "        vector /= tf_idf_weight\n",
    "    tfidf_w2v_vectors_test.append(vector)\n",
    "\n",
    "print(len(tfidf_w2v_vectors_test))\n",
    "print(len(tfidf_w2v_vectors_test[0]))"
   ]
  },
  {
   "cell_type": "markdown",
   "metadata": {
    "colab_type": "text",
    "id": "n25LE6SV8jLu"
   },
   "source": [
    "## cv essays"
   ]
  },
  {
   "cell_type": "code",
   "execution_count": 0,
   "metadata": {
    "colab": {
     "base_uri": "https://localhost:8080/",
     "height": 68
    },
    "colab_type": "code",
    "id": "7fXWechc8jLx",
    "outputId": "d60ae0df-f11c-4dc7-bdae-ac6e7ad21f3b"
   },
   "outputs": [
    {
     "name": "stderr",
     "output_type": "stream",
     "text": [
      "100%|██████████| 22942/22942 [00:45<00:00, 501.84it/s]"
     ]
    },
    {
     "name": "stdout",
     "output_type": "stream",
     "text": [
      "22942\n",
      "300\n"
     ]
    },
    {
     "name": "stderr",
     "output_type": "stream",
     "text": [
      "\n"
     ]
    }
   ],
   "source": [
    "# compute average word2vec for each review.\n",
    "\n",
    "tfidf_w2v_vectors_cv = []; # the avg-w2v for each sentence/review is stored in this list\n",
    "for sentence in tqdm(X_cv[\"clean_essays\"]): # for each review/sentence\n",
    "    vector = np.zeros(300) # as word vectors are of zero length\n",
    "    tf_idf_weight =0; # num of words with a valid vector in the sentence/review\n",
    "    for word in sentence.split(): # for each word in a review/sentence\n",
    "        if (word in glove_words) and (word in tfidf_words):\n",
    "            vec = model[word] # getting the vector for each word\n",
    "            # here we are multiplying idf value(dictionary[word]) and the tf value((sentence.count(word)/len(sentence.split())))\n",
    "            tf_idf = dictionary[word]*(sentence.count(word)/len(sentence.split())) # getting the tfidf value for each word\n",
    "            vector += (vec * tf_idf) # calculating tfidf weighted w2v\n",
    "            tf_idf_weight += tf_idf\n",
    "    if tf_idf_weight != 0:\n",
    "        vector /= tf_idf_weight\n",
    "    tfidf_w2v_vectors_cv.append(vector)\n",
    "\n",
    "print(len(tfidf_w2v_vectors_cv))\n",
    "print(len(tfidf_w2v_vectors_cv[0]))"
   ]
  },
  {
   "cell_type": "markdown",
   "metadata": {
    "colab_type": "text",
    "id": "fs1dYrxd8jL0"
   },
   "source": [
    "## train titles"
   ]
  },
  {
   "cell_type": "code",
   "execution_count": 0,
   "metadata": {
    "colab": {},
    "colab_type": "code",
    "id": "LYDmO_ou8jL3"
   },
   "outputs": [],
   "source": [
    "\n",
    "tfidf_model = TfidfVectorizer()\n",
    "tfidf_model.fit(X_train[\"clean_titles\"])\n",
    "# we are converting a dictionary with word as a key, and the idf as a value\n",
    "dictionary = dict(zip(tfidf_model.get_feature_names(), list(tfidf_model.idf_)))\n",
    "tfidf_words = set(tfidf_model.get_feature_names())"
   ]
  },
  {
   "cell_type": "code",
   "execution_count": 0,
   "metadata": {
    "colab": {
     "base_uri": "https://localhost:8080/",
     "height": 51
    },
    "colab_type": "code",
    "id": "9XsiaLQ_8jL6",
    "outputId": "f82501b2-def7-45f9-971a-f6a855802260"
   },
   "outputs": [
    {
     "name": "stderr",
     "output_type": "stream",
     "text": [
      "100%|██████████| 53531/53531 [00:01<00:00, 27949.20it/s]"
     ]
    },
    {
     "name": "stdout",
     "output_type": "stream",
     "text": [
      "53531\n"
     ]
    },
    {
     "name": "stderr",
     "output_type": "stream",
     "text": [
      "\n"
     ]
    }
   ],
   "source": [
    "# compute average word2vec for each review.\n",
    "\n",
    "tfidf_w2v_vectors_titles_train = []; \n",
    "\n",
    "for sentence in tqdm(X_train[\"clean_titles\"]): # for each review/sentence\n",
    "    vector = np.zeros(300) # as word vectors are of zero length\n",
    "    tf_idf_weight =0; # num of words with a valid vector in the sentence/review\n",
    "    for word in sentence.split(): # for each word in a review/sentence\n",
    "        if (word in glove_words) and (word in tfidf_words):\n",
    "            vec = model[word] # getting the vector for each word\n",
    "            # here we are multiplying idf value(dictionary[word]) and the tf value((sentence.count(word)/len(sentence.split())))\n",
    "            tf_idf = dictionary[word]*(sentence.count(word)/len(sentence.split())) # getting the tfidf value for each word\n",
    "            vector += (vec * tf_idf) # calculating tfidf weighted w2v\n",
    "            tf_idf_weight += tf_idf\n",
    "    if tf_idf_weight != 0:\n",
    "        vector /= tf_idf_weight\n",
    "    tfidf_w2v_vectors_titles_train.append(vector)\n",
    "\n",
    "print(len(tfidf_w2v_vectors_titles_train))"
   ]
  },
  {
   "cell_type": "markdown",
   "metadata": {
    "colab_type": "text",
    "id": "8t3aIVYv8jL8"
   },
   "source": [
    "## test titles"
   ]
  },
  {
   "cell_type": "code",
   "execution_count": 0,
   "metadata": {
    "colab": {
     "base_uri": "https://localhost:8080/",
     "height": 68
    },
    "colab_type": "code",
    "id": "AeCfzD5l8jL8",
    "outputId": "c4b5f527-10bd-43ce-c3ee-1f0ec8623617"
   },
   "outputs": [
    {
     "name": "stderr",
     "output_type": "stream",
     "text": [
      "100%|██████████| 32775/32775 [00:01<00:00, 26315.12it/s]"
     ]
    },
    {
     "name": "stdout",
     "output_type": "stream",
     "text": [
      "32775\n",
      "300\n"
     ]
    },
    {
     "name": "stderr",
     "output_type": "stream",
     "text": [
      "\n"
     ]
    }
   ],
   "source": [
    "\n",
    "# compute average word2vec for each review.\n",
    "\n",
    "tfidf_w2v_vectors_titles_test = []; \n",
    "\n",
    "for sentence in tqdm(X_test[\"clean_titles\"]): # for each review/sentence\n",
    "    vector = np.zeros(300) # as word vectors are of zero length\n",
    "    tf_idf_weight =0; # num of words with a valid vector in the sentence/review\n",
    "    for word in sentence.split(): # for each word in a review/sentence\n",
    "        if (word in glove_words) and (word in tfidf_words):\n",
    "            vec = model[word] # getting the vector for each word\n",
    "            # here we are multiplying idf value(dictionary[word]) and the tf value((sentence.count(word)/len(sentence.split())))\n",
    "            tf_idf = dictionary[word]*(sentence.count(word)/len(sentence.split())) # getting the tfidf value for each word\n",
    "            vector += (vec * tf_idf) # calculating tfidf weighted w2v\n",
    "            tf_idf_weight += tf_idf\n",
    "    if tf_idf_weight != 0:\n",
    "        vector /= tf_idf_weight\n",
    "    tfidf_w2v_vectors_titles_test.append(vector)\n",
    "\n",
    "print(len(tfidf_w2v_vectors_titles_test))\n",
    "print(len(tfidf_w2v_vectors_titles_test[0]))"
   ]
  },
  {
   "cell_type": "markdown",
   "metadata": {
    "colab_type": "text",
    "id": "2XJdt4O78jL-"
   },
   "source": [
    "## cv titles"
   ]
  },
  {
   "cell_type": "code",
   "execution_count": 0,
   "metadata": {
    "colab": {
     "base_uri": "https://localhost:8080/",
     "height": 68
    },
    "colab_type": "code",
    "id": "R__YsR5E8jL_",
    "outputId": "a5525c7f-3b00-4edd-f5f9-bd201b61b6dd"
   },
   "outputs": [
    {
     "name": "stderr",
     "output_type": "stream",
     "text": [
      "100%|██████████| 22942/22942 [00:00<00:00, 24610.47it/s]"
     ]
    },
    {
     "name": "stdout",
     "output_type": "stream",
     "text": [
      "22942\n",
      "300\n"
     ]
    },
    {
     "name": "stderr",
     "output_type": "stream",
     "text": [
      "\n"
     ]
    }
   ],
   "source": [
    "# compute average word2vec for each review.\n",
    "\n",
    "tfidf_w2v_vectors_titles_cv = []; \n",
    "\n",
    "for sentence in tqdm(X_cv[\"clean_titles\"]): # for each review/sentence\n",
    "    vector = np.zeros(300) # as word vectors are of zero length\n",
    "    tf_idf_weight =0; # num of words with a valid vector in the sentence/review\n",
    "    for word in sentence.split(): # for each word in a review/sentence\n",
    "        if (word in glove_words) and (word in tfidf_words):\n",
    "            vec = model[word] # getting the vector for each word\n",
    "            # here we are multiplying idf value(dictionary[word]) and the tf value((sentence.count(word)/len(sentence.split())))\n",
    "            tf_idf = dictionary[word]*(sentence.count(word)/len(sentence.split())) # getting the tfidf value for each word\n",
    "            vector += (vec * tf_idf) # calculating tfidf weighted w2v\n",
    "            tf_idf_weight += tf_idf\n",
    "    if tf_idf_weight != 0:\n",
    "        vector /= tf_idf_weight\n",
    "    tfidf_w2v_vectors_titles_cv.append(vector)\n",
    "\n",
    "print(len(tfidf_w2v_vectors_titles_cv))\n",
    "print(len(tfidf_w2v_vectors_titles_cv[0]))"
   ]
  },
  {
   "cell_type": "markdown",
   "metadata": {
    "colab_type": "text",
    "id": "-13WkqYQ8jMB"
   },
   "source": [
    "# 1.12  Vectorizing Numerical features\n",
    "\n",
    "Various numerical feautures are :\n",
    "\n",
    "1.Price\n",
    "\n",
    "2.Quantity\n",
    "\n",
    "3.Number of Projects previously proposed by Teacher\n",
    "\n",
    "4.Title word Count ( introduced by us)\n",
    "\n",
    "5.Essay word Count ( introduced by us)\n",
    "\n"
   ]
  },
  {
   "cell_type": "markdown",
   "metadata": {
    "colab_type": "text",
    "id": "P2vfGZ3S8jME"
   },
   "source": [
    "# 1 price"
   ]
  },
  {
   "cell_type": "code",
   "execution_count": 0,
   "metadata": {
    "colab": {
     "base_uri": "https://localhost:8080/",
     "height": 173
    },
    "colab_type": "code",
    "id": "mygCI3488jMF",
    "outputId": "8b93b7ef-5fd1-4f43-f986-7c044877dc3d"
   },
   "outputs": [
    {
     "data": {
      "text/html": [
       "<div>\n",
       "<style scoped>\n",
       "    .dataframe tbody tr th:only-of-type {\n",
       "        vertical-align: middle;\n",
       "    }\n",
       "\n",
       "    .dataframe tbody tr th {\n",
       "        vertical-align: top;\n",
       "    }\n",
       "\n",
       "    .dataframe thead th {\n",
       "        text-align: right;\n",
       "    }\n",
       "</style>\n",
       "<table border=\"1\" class=\"dataframe\">\n",
       "  <thead>\n",
       "    <tr style=\"text-align: right;\">\n",
       "      <th></th>\n",
       "      <th>id</th>\n",
       "      <th>price</th>\n",
       "      <th>quantity</th>\n",
       "    </tr>\n",
       "  </thead>\n",
       "  <tbody>\n",
       "    <tr>\n",
       "      <th>0</th>\n",
       "      <td>p000001</td>\n",
       "      <td>459.56</td>\n",
       "      <td>7</td>\n",
       "    </tr>\n",
       "    <tr>\n",
       "      <th>1</th>\n",
       "      <td>p000002</td>\n",
       "      <td>515.89</td>\n",
       "      <td>21</td>\n",
       "    </tr>\n",
       "    <tr>\n",
       "      <th>2</th>\n",
       "      <td>p000003</td>\n",
       "      <td>298.97</td>\n",
       "      <td>4</td>\n",
       "    </tr>\n",
       "    <tr>\n",
       "      <th>3</th>\n",
       "      <td>p000004</td>\n",
       "      <td>1113.69</td>\n",
       "      <td>98</td>\n",
       "    </tr>\n",
       "  </tbody>\n",
       "</table>\n",
       "</div>"
      ],
      "text/plain": [
       "        id    price  quantity\n",
       "0  p000001   459.56         7\n",
       "1  p000002   515.89        21\n",
       "2  p000003   298.97         4\n",
       "3  p000004  1113.69        98"
      ]
     },
     "execution_count": 84,
     "metadata": {
      "tags": []
     },
     "output_type": "execute_result"
    }
   ],
   "source": [
    "# https://stackoverflow.com/questions/22407798/how-to-reset-a-dataframes-indexes-for-all-groups-in-one-step\n",
    "price_data = resource_data.groupby('id').agg({'price':'sum', 'quantity':'sum'}).reset_index()\n",
    "price_data.head(4)"
   ]
  },
  {
   "cell_type": "code",
   "execution_count": 0,
   "metadata": {
    "colab": {},
    "colab_type": "code",
    "id": "p8nFWc1Z8jMH"
   },
   "outputs": [],
   "source": [
    "\n",
    "# join two dataframes in python: \n",
    "X_train = pd.merge(X_train, price_data, on='id', how='left')\n",
    "X_test = pd.merge(X_test, price_data, on='id', how='left')\n",
    "X_cv = pd.merge(X_cv, price_data, on='id', how='left')\n"
   ]
  },
  {
   "cell_type": "code",
   "execution_count": 0,
   "metadata": {
    "colab": {
     "base_uri": "https://localhost:8080/",
     "height": 122
    },
    "colab_type": "code",
    "id": "it34lIL-8jMK",
    "outputId": "b75d7902-9153-4f73-fe39-20c73486a8c3"
   },
   "outputs": [
    {
     "name": "stdout",
     "output_type": "stream",
     "text": [
      "After vectorizations\n",
      "(1, 53531) (53531,)\n",
      "(1, 22942) (22942,)\n",
      "(1, 32775) (32775,)\n",
      "====================================================================================================\n"
     ]
    }
   ],
   "source": [
    "from sklearn.preprocessing import Normalizer\n",
    "\n",
    "normalizer = Normalizer()\n",
    "\n",
    "# normalizer.fit(X_train['price'].values)\n",
    "# this will rise an error Expected 2D array, got 1D array instead: \n",
    "# array=[105.22 215.96  96.01 ... 368.98  80.53 709.67].\n",
    "# Reshape your data either using \n",
    "# array.reshape(-1, 1) if your data has a single feature \n",
    "# array.reshape(1, -1)  if it contains a single sample.\n",
    "\n",
    "normalizer.fit(X_train['price'].values.reshape(1,-1))\n",
    "\n",
    "price_train = normalizer.transform(X_train['price'].values.reshape(1,-1))\n",
    "price_cv = normalizer.transform(X_cv['price'].values.reshape(1,-1))\n",
    "price_test = normalizer.transform(X_test['price'].values.reshape(1,-1))\n",
    "\n",
    "print(\"After vectorizations\")\n",
    "print(price_train.shape, y_train.shape)\n",
    "print(price_cv.shape, y_cv.shape)\n",
    "print(price_test.shape, y_test.shape)\n",
    "print(\"=\"*100)\n",
    "\n",
    "feature_names_bow.append('price')\n",
    "feature_names_tfidf.append('price')"
   ]
  },
  {
   "cell_type": "markdown",
   "metadata": {
    "colab_type": "text",
    "id": "N1l1Vrsx8jMP"
   },
   "source": [
    "# 2 quantity"
   ]
  },
  {
   "cell_type": "code",
   "execution_count": 0,
   "metadata": {
    "colab": {
     "base_uri": "https://localhost:8080/",
     "height": 122
    },
    "colab_type": "code",
    "id": "55KrXVyv8jMQ",
    "outputId": "1c65cc2e-9d70-452b-d55d-a505cb7f7ce7"
   },
   "outputs": [
    {
     "name": "stdout",
     "output_type": "stream",
     "text": [
      "After vectorizations\n",
      "(1, 53531) (53531,)\n",
      "(1, 22942) (22942,)\n",
      "(1, 32775) (32775,)\n",
      "====================================================================================================\n"
     ]
    }
   ],
   "source": [
    "normalizer = Normalizer()\n",
    "\n",
    "# normalizer.fit(X_train['price'].values)\n",
    "# this will rise an error Expected 2D array, got 1D array instead: \n",
    "# array=[105.22 215.96  96.01 ... 368.98  80.53 709.67].\n",
    "# Reshape your data either using \n",
    "# array.reshape(-1, 1) if your data has a single feature \n",
    "# array.reshape(1, -1)  if it contains a single sample.\n",
    "\n",
    "normalizer.fit(X_train['quantity'].values.reshape(1,-1))\n",
    "\n",
    "quantity_train = normalizer.transform(X_train['quantity'].values.reshape(1,-1))\n",
    "quantity_cv = normalizer.transform(X_cv['quantity'].values.reshape(1,-1))\n",
    "quantity_test = normalizer.transform(X_test['quantity'].values.reshape(1,-1))\n",
    "\n",
    "print(\"After vectorizations\")\n",
    "print(quantity_train.shape, y_train.shape)\n",
    "print(quantity_cv.shape, y_cv.shape)\n",
    "print(quantity_test.shape, y_test.shape)\n",
    "print(\"=\"*100)\n",
    "\n",
    "feature_names_bow.append('quantity')\n",
    "feature_names_tfidf.append('quantity')"
   ]
  },
  {
   "cell_type": "markdown",
   "metadata": {
    "colab_type": "text",
    "id": "F0yzj3SQ8jMS"
   },
   "source": [
    "# 3) Number of Projects previously proposed by Teacher"
   ]
  },
  {
   "cell_type": "code",
   "execution_count": 0,
   "metadata": {
    "colab": {
     "base_uri": "https://localhost:8080/",
     "height": 122
    },
    "colab_type": "code",
    "id": "VffNdScx8jMS",
    "outputId": "f1772793-b6a9-4124-f8aa-ac47a8373047"
   },
   "outputs": [
    {
     "name": "stdout",
     "output_type": "stream",
     "text": [
      "After vectorizations\n",
      "(53531, 1) (53531,)\n",
      "(22942, 1) (22942,)\n",
      "(32775, 1) (32775,)\n",
      "====================================================================================================\n"
     ]
    }
   ],
   "source": [
    "normalizer = Normalizer()\n",
    "\n",
    "# normalizer.fit(X_train['price'].values)\n",
    "# this will rise an error Expected 2D array, got 1D array instead: \n",
    "# array=[105.22 215.96  96.01 ... 368.98  80.53 709.67].\n",
    "# Reshape your data either using \n",
    "# array.reshape(-1, 1) if your data has a single feature \n",
    "# array.reshape(1, -1)  if it contains a single sample.\n",
    "\n",
    "normalizer.fit(X_train['teacher_number_of_previously_posted_projects'].values.reshape(1,-1))\n",
    "\n",
    "prev_projects_train = normalizer.transform(X_train['teacher_number_of_previously_posted_projects'].values.reshape(-1,1))\n",
    "prev_projects_cv = normalizer.transform(X_cv['teacher_number_of_previously_posted_projects'].values.reshape(-1,1))\n",
    "prev_projects_test = normalizer.transform(X_test['teacher_number_of_previously_posted_projects'].values.reshape(-1,1))\n",
    "\n",
    "print(\"After vectorizations\")\n",
    "print(prev_projects_train.shape, y_train.shape)\n",
    "print(prev_projects_cv.shape, y_cv.shape)\n",
    "print(prev_projects_test.shape, y_test.shape)\n",
    "print(\"=\"*100)\n",
    "\n",
    "feature_names_bow.append('teacher_number_of_previously_posted_projects')\n",
    "feature_names_tfidf.append('teacher_number_of_previously_posted_projects')\n",
    "\n"
   ]
  },
  {
   "cell_type": "markdown",
   "metadata": {
    "colab_type": "text",
    "id": "d6NAOq9u8jMT"
   },
   "source": [
    "# 4) title word count"
   ]
  },
  {
   "cell_type": "code",
   "execution_count": 0,
   "metadata": {
    "colab": {
     "base_uri": "https://localhost:8080/",
     "height": 122
    },
    "colab_type": "code",
    "id": "0GZHQD9B8jMU",
    "outputId": "3badb75a-6ece-4deb-bcb9-b09566f9923d"
   },
   "outputs": [
    {
     "name": "stdout",
     "output_type": "stream",
     "text": [
      "After vectorizations\n",
      "(1, 53531) (53531,)\n",
      "(1, 22942) (22942,)\n",
      "(1, 32775) (32775,)\n",
      "====================================================================================================\n"
     ]
    }
   ],
   "source": [
    "normalizer = Normalizer()\n",
    "\n",
    "normalizer.fit(X_train['title_word_count'].values.reshape(1,-1))\n",
    "\n",
    "title_word_count_train = normalizer.transform(X_train['title_word_count'].values.reshape(1,-1))\n",
    "title_word_count_cv = normalizer.transform(X_cv['title_word_count'].values.reshape(1,-1))\n",
    "title_word_count_test = normalizer.transform(X_test['title_word_count'].values.reshape(1,-1))\n",
    "\n",
    "print(\"After vectorizations\")\n",
    "print(title_word_count_train.shape, y_train.shape)\n",
    "print(title_word_count_cv.shape, y_cv.shape)\n",
    "print(title_word_count_test.shape, y_test.shape)\n",
    "print(\"=\"*100)\n",
    "\n",
    "feature_names_bow.append('title_count')\n",
    "feature_names_tfidf.append('title_count')"
   ]
  },
  {
   "cell_type": "markdown",
   "metadata": {
    "colab_type": "text",
    "id": "4p7mj0JV8jMW"
   },
   "source": [
    "# 5) essay word count"
   ]
  },
  {
   "cell_type": "code",
   "execution_count": 0,
   "metadata": {
    "colab": {
     "base_uri": "https://localhost:8080/",
     "height": 85
    },
    "colab_type": "code",
    "id": "HS-Jn6Kb8jMW",
    "outputId": "2af1009d-ebdc-4a48-df66-a0bb66de55ce"
   },
   "outputs": [
    {
     "name": "stdout",
     "output_type": "stream",
     "text": [
      "After vectorizations\n",
      "(1, 53531) (53531,)\n",
      "(1, 22942) (22942,)\n",
      "(1, 32775) (32775,)\n"
     ]
    }
   ],
   "source": [
    "normalizer = Normalizer()\n",
    "\n",
    "normalizer.fit(X_train['essay_word_count'].values.reshape(1,-1))\n",
    "\n",
    "essay_word_count_train = normalizer.transform(X_train['essay_word_count'].values.reshape(1,-1))\n",
    "essay_word_count_cv = normalizer.transform(X_cv['essay_word_count'].values.reshape(1,-1))\n",
    "essay_word_count_test = normalizer.transform(X_test['essay_word_count'].values.reshape(1,-1))\n",
    "\n",
    "print(\"After vectorizations\")\n",
    "print(essay_word_count_train.shape, y_train.shape)\n",
    "print(essay_word_count_cv.shape, y_cv.shape)\n",
    "print(essay_word_count_test.shape, y_test.shape)\n",
    "\n",
    "feature_names_bow.append('essay_word_count')\n",
    "feature_names_tfidf.append('essay_word_count')"
   ]
  },
  {
   "cell_type": "markdown",
   "metadata": {
    "colab_type": "text",
    "id": "N0VGzfsg8jMY"
   },
   "source": [
    "# Assignment 8 Decision tree\n",
    "\n",
    "- Apply Decision Tree Classifier(DecisionTreeClassifier) on these feature sets\n",
    "\n",
    "    - Set 1: categorical, numerical features + project_title(BOW) + preprocessed_eassay (BOW)\n",
    "    \n",
    "    - Set 2: categorical, numerical features + project_title(TFIDF)+ preprocessed_eassay (TFIDF)\n",
    "    \n",
    "    - Set 3: categorical, numerical features + project_title(AVG W2V)+ preprocessed_eassay (AVG W2V)\n",
    "    \n",
    "    - Set 4: categorical, numerical features + project_title(TFIDF W2V)+ preprocessed_eassay (TFIDF W2V)\n",
    "\n",
    "\n",
    "## Hyper paramter tuning (best `depth` in range [1, 5, 10, 50, 100, 500, 100], and the best `min_samples_split` in range [5, 10, 100, 500])\n",
    "\n",
    "- Find the best hyper parameter which will give the maximum AUC value\n",
    "- Find the best hyper paramter using k-fold cross validation or simple cross validation data\n",
    "- Use gridsearch cv or randomsearch cv or you can also write your own for loops to do this task of hyperparameter tuning\n",
    "\n",
    "## Graphviz\n",
    "\n",
    "-Visualize your decision tree with Graphviz. It helps you to understand how a decision is being made, given a new vector.\n",
    "\n",
    "- Since feature names are not obtained from word2vec related models, visualize only BOW & TFIDF decision trees using Graphviz\n",
    "\n",
    "- Make sure to print the words in each node of the decision tree instead of printing its index.\n",
    "- Just for visualization purpose, limit max_depth to 2 or 3 and either embed the generated images of   graphviz in your notebook, or directly upload them as .png files.\n",
    "\n",
    " ## Representation of results\n",
    "\n",
    "You need to plot the performance of model both on train data and cross validation data for each hyper parameter, like shown in the figure \n",
    "\n",
    "Once after you found the best hyper parameter, you need to train your model with it, and find the AUC on test data and plot the ROC curve on both train and test.\n",
    "\n",
    "Along with plotting ROC curve, you need to print the confusion matrix with predicted and original labels of test data points \n",
    "\n",
    "Once after you plot the confusion matrix with the test data, get all the `false positive data points`\n",
    "Plot the WordCloud WordCloud\n",
    "\n",
    "Plot the box plot with the `price` of these `false positive data points`\n",
    "\n",
    "Plot the pdf with the `teacher_number_of_previously_posted_projects` of these `false positive data points`\n",
    "\n",
    "## [Task-2]\n",
    "\n",
    "Select 5k best features from features of Set 2 using`feature_importances_`, discard all the other remaining features and then apply any of the model of you choice i.e. (Dession tree, Logistic Regression, Linear SVM), you need to do hyperparameter tuning corresponding to the model you selected and procedure in step 2 and step 3\n",
    "\n",
    "## Conclusion\n",
    "You need to summarize the results at the end of the notebook, summarize it in the table format. To print out a table please refer to this prettytable library link  "
   ]
  },
  {
   "cell_type": "code",
   "execution_count": 0,
   "metadata": {
    "colab": {},
    "colab_type": "code",
    "id": "PFO0LW6o8jMY"
   },
   "outputs": [],
   "source": [
    "price_train = (X_train['price'].values.reshape(-1,1))\n",
    "price_cv = (X_cv['price'].values.reshape(-1,1))\n",
    "price_test = (X_test['price'].values.reshape(-1,1))\n",
    "\n",
    "quantity_train =(X_train['quantity'].values.reshape(-1,1))\n",
    "quantity_cv = (X_cv['quantity'].values.reshape(-1,1))\n",
    "quantity_test = (X_test['quantity'].values.reshape(-1,1))\n",
    "\n",
    "prev_projects_train = (X_train['teacher_number_of_previously_posted_projects'].values.reshape(-1,1))\n",
    "prev_projects_cv = (X_cv['teacher_number_of_previously_posted_projects'].values.reshape(-1,1))\n",
    "prev_projects_test = (X_test['teacher_number_of_previously_posted_projects'].values.reshape(-1,1))\n",
    "\n",
    "title_word_count_train = (X_train['title_word_count'].values.reshape(-1,1))\n",
    "title_word_count_cv = (X_cv['title_word_count'].values.reshape(-1,1))\n",
    "title_word_count_test = (X_test['title_word_count'].values.reshape(-1,1))\n",
    "\n",
    "\n",
    "essay_word_count_train = (X_train['essay_word_count'].values.reshape(-1,1))\n",
    "essay_word_count_cv = (X_cv['essay_word_count'].values.reshape(-1,1))\n",
    "essay_word_count_test = (X_test['essay_word_count'].values.reshape(-1,1))\n",
    "\n"
   ]
  },
  {
   "cell_type": "code",
   "execution_count": 0,
   "metadata": {
    "colab": {
     "base_uri": "https://localhost:8080/",
     "height": 51
    },
    "colab_type": "code",
    "id": "P0f7M0Op8jMh",
    "outputId": "a1cd778e-2779-493c-f0cf-40ef888585e6"
   },
   "outputs": [
    {
     "name": "stdout",
     "output_type": "stream",
     "text": [
      "8542\n",
      "8542\n"
     ]
    }
   ],
   "source": [
    "print(len(feature_names_bow))\n",
    "print(len(feature_names_tfidf))"
   ]
  },
  {
   "cell_type": "markdown",
   "metadata": {
    "colab_type": "text",
    "id": "JICyGIIR8jMl"
   },
   "source": [
    "# 3. Decision Tree\n",
    "\n",
    "\n",
    "## Set 1: Categorical, Numerical features + Project_title(BOW) + Preprocessed_essay (BOW)"
   ]
  },
  {
   "cell_type": "code",
   "execution_count": 0,
   "metadata": {
    "colab": {},
    "colab_type": "code",
    "id": "t4lEI4SD8jMm"
   },
   "outputs": [],
   "source": [
    "# merge two sparse matrices: https://stackoverflow.com/a/19710648/4084039\n",
    "from scipy.sparse import hstack\n",
    "\n",
    "X_tr = hstack((categories_one_hot_train, sub_categories_one_hot_train, school_state_categories_one_hot_train, project_grade_categories_one_hot_train, teacher_prefix_categories_one_hot_train, price_train, quantity_train, prev_projects_train, title_word_count_train, essay_word_count_train, title_bow_train, text_bow_train)).tocsr()\n",
    "X_te = hstack((categories_one_hot_test, sub_categories_one_hot_test, school_state_categories_one_hot_test, project_grade_categories_one_hot_test, teacher_prefix_categories_one_hot_test, price_test, quantity_test, prev_projects_test, title_word_count_test, essay_word_count_test, title_bow_test, text_bow_test)).tocsr()\n",
    "X_cr = hstack((categories_one_hot_cv, sub_categories_one_hot_cv, school_state_categories_one_hot_cv, project_grade_categories_one_hot_cv, teacher_prefix_categories_one_hot_cv, price_cv, quantity_cv, prev_projects_cv, title_word_count_cv, essay_word_count_cv, title_bow_cv, text_bow_cv)).tocsr()"
   ]
  },
  {
   "cell_type": "code",
   "execution_count": 0,
   "metadata": {
    "colab": {
     "base_uri": "https://localhost:8080/",
     "height": 122
    },
    "colab_type": "code",
    "id": "ds_C0U_r8jMr",
    "outputId": "a6da9bf4-c4f5-47b3-9b59-cea761e25321"
   },
   "outputs": [
    {
     "name": "stdout",
     "output_type": "stream",
     "text": [
      "Final Data matrix\n",
      "(53531, 8542) (53531,)\n",
      "(22942, 8542) (22942,)\n",
      "(32775, 8542) (32775,)\n",
      "====================================================================================================\n"
     ]
    }
   ],
   "source": [
    "print(\"Final Data matrix\")\n",
    "print(X_tr.shape, y_train.shape)\n",
    "print(X_cr.shape, y_cv.shape)\n",
    "print(X_te.shape, y_test.shape)\n",
    "print(\"=\"*100)"
   ]
  },
  {
   "cell_type": "code",
   "execution_count": 0,
   "metadata": {
    "colab": {},
    "colab_type": "code",
    "id": "dnddK9Uw8jMu"
   },
   "outputs": [],
   "source": [
    "# Code reference taken from https://www.kaggle.com/getting-started/37246"
   ]
  },
  {
   "cell_type": "code",
   "execution_count": 0,
   "metadata": {
    "colab": {
     "base_uri": "https://localhost:8080/",
     "height": 88
    },
    "colab_type": "code",
    "id": "OPilx5bF8jMv",
    "outputId": "20a23310-1a21-40fa-b056-b55a9c5fd102"
   },
   "outputs": [
    {
     "name": "stderr",
     "output_type": "stream",
     "text": [
      "100%|██████████| 6/6 [37:08<00:00, 503.68s/it]"
     ]
    },
    {
     "name": "stdout",
     "output_type": "stream",
     "text": [
      "[[1, 5, 0.5651920681373825], [1, 10, 0.5651920681373825], [1, 100, 0.5651920681373825], [1, 500, 0.5651920681373825], [5, 5, 0.6590612686641403], [5, 10, 0.6590612686641403], [5, 100, 0.6590296267591864], [5, 500, 0.6591704332362313], [10, 5, 0.6733126643678676], [10, 10, 0.6731452875622236], [10, 100, 0.6742107991396714], [10, 500, 0.6807110518609046], [50, 5, 0.5884644304770571], [50, 10, 0.5892703897182617], [50, 100, 0.615758523294179], [50, 500, 0.639683795642265], [100, 5, 0.572820317805379], [100, 10, 0.5738001966293031], [100, 100, 0.5999085016653105], [100, 500, 0.6290192686189544], [250, 5, 0.5660513676459333], [250, 10, 0.5689036709814397], [250, 100, 0.584554304251288], [250, 500, 0.6197333971376082]]\n"
     ]
    },
    {
     "name": "stderr",
     "output_type": "stream",
     "text": [
      "\n"
     ]
    }
   ],
   "source": [
    "\n",
    "from sklearn.tree import DecisionTreeClassifier\n",
    "from sklearn.metrics import roc_auc_score\n",
    "\n",
    "summary=[]\n",
    "roc_auc_score_cv_bow_dict=[]\n",
    "roc_auc_score_train_bow_dict=[]\n",
    "\n",
    "depth=[1, 5, 10, 50, 100, 250]\n",
    "min_samples_split=[5, 10, 100, 500]\n",
    "\n",
    "for d in tqdm(depth):\n",
    "    for s in min_samples_split:\n",
    "        #create instance of model\n",
    "        dt=DecisionTreeClassifier(max_depth=d,min_samples_split=s,class_weight=\"balanced\")\n",
    "        \n",
    "        #Fit the model on the training set \n",
    "        dt.fit(X_tr,y_train)\n",
    "        \n",
    "        \n",
    "        # predict the response on the crossvalidation train\n",
    "        pred_bow_cv = dt.predict_proba(X_cr)\n",
    "\n",
    "        #evaluate CV roc_auc\n",
    "        roc_auc_cv =roc_auc_score(y_cv,pred_bow_cv[:,1])\n",
    "\n",
    "        #insert into dict\n",
    "        roc_auc_score_cv_bow_dict.append([d,s,roc_auc_cv])\n",
    "\n",
    "         # fitting the model on crossvalidation train\n",
    "        dt.fit(X_tr, y_train)\n",
    "\n",
    "        # predict the response on the train\n",
    "        pred_bow_train = dt.predict_proba(X_tr)\n",
    "\n",
    "        #evaluate train roc_auc\n",
    "        roc_auc_train =roc_auc_score(y_train,pred_bow_train[:,1])\n",
    "\n",
    "        #insert into dict\n",
    "        roc_auc_score_train_bow_dict.append([d,s,roc_auc_train])\n",
    "\n",
    "print(roc_auc_score_cv_bow_dict)"
   ]
  },
  {
   "cell_type": "code",
   "execution_count": 0,
   "metadata": {
    "colab": {},
    "colab_type": "code",
    "id": "CGaZVDmr8jMx"
   },
   "outputs": [],
   "source": [
    "# Code reffered from https://plot.ly/python/3d-subplots/"
   ]
  },
  {
   "cell_type": "code",
   "execution_count": 0,
   "metadata": {
    "colab": {},
    "colab_type": "code",
    "id": "a79J5FrP8jMy"
   },
   "outputs": [],
   "source": [
    "import plotly.offline as offline     \n",
    "import plotly.graph_objs as go\n",
    "offline.init_notebook_mode()\n",
    "\n",
    "x1=[]\n",
    "y1=[]\n",
    "z1=[]\n",
    "\n",
    "x2=[]\n",
    "y2=[]\n",
    "z2=[]\n",
    "\n",
    "for value in roc_auc_score_cv_bow_dict:\n",
    "    x1.append(value[0])\n",
    "    y1.append(value[1])\n",
    "    z1.append(value[2])\n",
    "    \n",
    "for value in roc_auc_score_train_bow_dict:\n",
    "    x2.append(value[0])\n",
    "    y2.append(value[1])\n",
    "    z2.append(value[2])\n",
    "    \n",
    "# https://plot.ly/python/3d-axes/\n",
    "trace1 = go.Scatter3d(x=x1,y=y1,z=z1, name = 'Cross val')\n",
    "trace2 = go.Scatter3d(x=x2,y=y2,z=z2, name = 'train')\n",
    "data = [trace1, trace2]\n",
    "\n",
    "layout = go.Layout(title='Depth vs split size vs AUC(BOW)',scene = dict(\n",
    "        xaxis = dict(title='max_depth'),\n",
    "        yaxis = dict(title='min_samples_split'),\n",
    "        zaxis = dict(title='AUC'),))\n",
    "\n",
    "fig = go.Figure(data=data, layout=layout)\n",
    "offline.iplot(fig, filename='3d-scatter-colorscale')"
   ]
  },
  {
   "cell_type": "code",
   "execution_count": 0,
   "metadata": {
    "colab": {},
    "colab_type": "code",
    "id": "WAyYBD_f8jM5"
   },
   "outputs": [],
   "source": [
    "# find best parameter"
   ]
  },
  {
   "cell_type": "code",
   "execution_count": 0,
   "metadata": {
    "colab": {},
    "colab_type": "code",
    "id": "l2IHkGDA8jM6"
   },
   "outputs": [],
   "source": [
    "from numpy import array\n",
    "\n",
    "def find_optimal(input_list):\n",
    "    optimal={}\n",
    "    temp=pd.DataFrame(input_list)\n",
    "    optimal_depth=int(temp[temp[2]==max(temp[2])].iloc[0][0])\n",
    "    optimal_sample=int(temp[temp[2]==max(temp[2])].iloc[0][1])\n",
    "    optimal['depth']=optimal_depth\n",
    "    optimal['sample']=optimal_sample\n",
    "    return optimal"
   ]
  },
  {
   "cell_type": "markdown",
   "metadata": {
    "colab_type": "text",
    "id": "4kNQdv8l8jM7"
   },
   "source": [
    "### Finding optimal hyperparametrs"
   ]
  },
  {
   "cell_type": "code",
   "execution_count": 0,
   "metadata": {
    "colab": {
     "base_uri": "https://localhost:8080/",
     "height": 34
    },
    "colab_type": "code",
    "id": "mGzlHWRW8jM-",
    "outputId": "e6ef3671-ea0c-4bf0-f0c6-dd9b05cefed8"
   },
   "outputs": [
    {
     "data": {
      "text/plain": [
       "{'depth': 10, 'sample': 500}"
      ]
     },
     "execution_count": 101,
     "metadata": {
      "tags": []
     },
     "output_type": "execute_result"
    }
   ],
   "source": [
    "\n",
    "find_optimal(roc_auc_score_cv_bow_dict)"
   ]
  },
  {
   "cell_type": "markdown",
   "metadata": {
    "colab_type": "text",
    "id": "2b7C0z668jNA"
   },
   "source": [
    "<img src='https://github.com/Kunal-Varma/Decision-Trees/blob/master/set_1_AUC.png?raw=1' width=800px>"
   ]
  },
  {
   "cell_type": "markdown",
   "metadata": {
    "colab_type": "text",
    "id": "hVb2vWcG8jNA"
   },
   "source": [
    "# B) training the model using best hyperparameter value"
   ]
  },
  {
   "cell_type": "code",
   "execution_count": 0,
   "metadata": {
    "colab": {
     "base_uri": "https://localhost:8080/",
     "height": 295
    },
    "colab_type": "code",
    "id": "f0mA6wft8jNA",
    "outputId": "078a5be0-e3bc-406d-a3db-2f711f23d22f"
   },
   "outputs": [
    {
     "data": {
      "image/png": "[encoded data removed]",
      "text/plain": [
       "<Figure size 432x288 with 1 Axes>"
      ]
     },
     "metadata": {
      "tags": []
     },
     "output_type": "display_data"
    }
   ],
   "source": [
    "# train model on the best alpha\n",
    "lr = DecisionTreeClassifier(max_depth=find_optimal(roc_auc_score_cv_bow_dict)['depth'],min_samples_split=find_optimal(roc_auc_score_cv_bow_dict)['sample'],class_weight=\"balanced\")\n",
    "\n",
    "# fitting the model on crossvalidation train\n",
    "lr.fit(X_tr, y_train)\n",
    "\n",
    "# predict the response on the crossvalidation train\n",
    "pred_bow_test = lr.predict(X_te)\n",
    "pred_bow_train = lr.predict(X_tr)\n",
    "\n",
    "#https://stackoverflow.com/questions/52910061/implementing-roc-curves-for-k-nn-machine-learning-algorithm-using-python-and-scip_scores = knn.predict_proba(X_test)\n",
    "pred_bow_test_scores=lr.predict_proba(X_te)\n",
    "pred_bow_train_scores=lr.predict_proba(X_tr)\n",
    "\n",
    "fpr_test, tpr_test, threshold_test = roc_curve(y_test, pred_bow_test_scores[:, 1])\n",
    "fpr_train, tpr_train, threshold_train = roc_curve(y_train, pred_bow_train_scores[:, 1])\n",
    "roc_auc_test = auc(fpr_test, tpr_test)\n",
    "roc_auc_train = auc(fpr_train, tpr_train)\n",
    "plt.title('Receiver Operating Characteristic')\n",
    "plt.plot(fpr_test, tpr_test, 'r', label = 'AUC_test = %0.2f' % roc_auc_test)\n",
    "plt.plot(fpr_train, tpr_train, 'b', label = 'AUC_train = %0.2f' % roc_auc_train)\n",
    "plt.legend(loc = 'lower right')\n",
    "plt.plot([0, 1], [0, 1],'g--')\n",
    "plt.xlim([0, 1])\n",
    "plt.ylim([0, 1])\n",
    "plt.ylabel('True Positive Rate')\n",
    "plt.xlabel('False Positive Rate')\n",
    "plt.title('ROC Curve of BOW-Decision Tree')\n",
    "plt.grid(color='b', linestyle='-', linewidth=0.5)\n",
    "plt.show()"
   ]
  },
  {
   "cell_type": "markdown",
   "metadata": {
    "colab_type": "text",
    "id": "x0hZVEv88jNC"
   },
   "source": [
    "# summary"
   ]
  },
  {
   "cell_type": "markdown",
   "metadata": {
    "colab_type": "text",
    "id": "j9vMNnWM8jNC"
   },
   "source": [
    "- With  depth as 10 and sample split as 500 we achieve a test AUC of 0.69 with SET1"
   ]
  },
  {
   "cell_type": "markdown",
   "metadata": {
    "colab_type": "text",
    "id": "TWepT6MQ8jND"
   },
   "source": [
    "# C)  confusion matrix"
   ]
  },
  {
   "cell_type": "markdown",
   "metadata": {
    "colab_type": "text",
    "id": "13f4RMdv8jND"
   },
   "source": [
    "##  train data"
   ]
  },
  {
   "cell_type": "code",
   "execution_count": 0,
   "metadata": {
    "colab": {
     "base_uri": "https://localhost:8080/",
     "height": 330
    },
    "colab_type": "code",
    "id": "6L_Oi9tk8jND",
    "outputId": "83baa31e-c8e4-4070-b080-2d866538b6f9"
   },
   "outputs": [
    {
     "name": "stdout",
     "output_type": "stream",
     "text": [
      "Training CM for BOW Decision Tree\n"
     ]
    },
    {
     "data": {
      "image/png": "[encoded data removed]",
      "text/plain": [
       "<Figure size 432x288 with 2 Axes>"
      ]
     },
     "metadata": {
      "tags": []
     },
     "output_type": "display_data"
    },
    {
     "name": "stdout",
     "output_type": "stream",
     "text": [
      "==================================================\n"
     ]
    }
   ],
   "source": [
    "from sklearn.metrics import accuracy_score\n",
    "\n",
    "#https://scikit-learn.org/stable/modules/generated/sklearn.metrics.confusion_matrix.html\n",
    "from sklearn.metrics import confusion_matrix\n",
    "print(\"Training CM for BOW Decision Tree\")\n",
    "cm =confusion_matrix(y_train, pred_bow_train, labels=None, sample_weight=None)\n",
    "sns.heatmap(cm, annot=True,fmt=\"d\", cmap=\"YlGnBu\")\n",
    "plt.title('DT \\nAccuracy:{0:.4f}'.format(accuracy_score(y_train, pred_bow_train)))\n",
    "plt.show()\n",
    "print(\"=\"*50)"
   ]
  },
  {
   "cell_type": "markdown",
   "metadata": {
    "colab_type": "text",
    "id": "9Z01k2OG8jNF"
   },
   "source": [
    "# Summary"
   ]
  },
  {
   "cell_type": "markdown",
   "metadata": {
    "colab_type": "text",
    "id": "pDnNc0YF8jNF"
   },
   "source": [
    "- The no of true positives are significantly high appt 29k while false negatives  are significantly high as well about 16k for training data"
   ]
  },
  {
   "cell_type": "code",
   "execution_count": 0,
   "metadata": {
    "colab": {
     "base_uri": "https://localhost:8080/",
     "height": 313
    },
    "colab_type": "code",
    "id": "IN_jUj2w8jNF",
    "outputId": "9ff11111-0e0d-4d76-bdc6-9b92bbadf844"
   },
   "outputs": [
    {
     "name": "stdout",
     "output_type": "stream",
     "text": [
      "Testing CM for BOW\n"
     ]
    },
    {
     "data": {
      "image/png": "[encoded data removed]",
      "text/plain": [
       "<Figure size 432x288 with 2 Axes>"
      ]
     },
     "metadata": {
      "tags": []
     },
     "output_type": "display_data"
    }
   ],
   "source": [
    "print(\"Testing CM for BOW\")\n",
    "cm =confusion_matrix(y_test, pred_bow_test, labels=None, sample_weight=None)\n",
    "summary.append(['BoW',find_optimal(roc_auc_score_cv_bow_dict)['depth'],find_optimal(roc_auc_score_cv_bow_dict)['sample'],roc_auc_test])\n",
    "sns.heatmap(cm, annot=True,fmt=\"d\",cmap=\"YlGnBu\")\n",
    "plt.title('DT  \\nAccuracy:{0:.4f}'.format(accuracy_score(y_test, pred_bow_test)))\n",
    "plt.show()"
   ]
  },
  {
   "cell_type": "markdown",
   "metadata": {
    "colab_type": "text",
    "id": "GcOz4XWP8jNG"
   },
   "source": [
    "# Summary"
   ]
  },
  {
   "cell_type": "markdown",
   "metadata": {
    "colab_type": "text",
    "id": "XTnDBVSJ8jNH"
   },
   "source": [
    "- The number of true positives areare roughly 18k while false negatives are just 10k whereas true negatives are 1772"
   ]
  },
  {
   "cell_type": "markdown",
   "metadata": {
    "colab_type": "text",
    "id": "DfJueUUA8jNI"
   },
   "source": [
    "#  Using graphviz to visualize tree"
   ]
  },
  {
   "cell_type": "markdown",
   "metadata": {
    "colab_type": "text",
    "id": "4L8KFv7l8jNI"
   },
   "source": [
    "## visualize DT BOW"
   ]
  },
  {
   "cell_type": "code",
   "execution_count": 0,
   "metadata": {
    "colab": {},
    "colab_type": "code",
    "id": "09drmVb78jNL"
   },
   "outputs": [],
   "source": [
    "from sklearn.tree import export_graphviz\n",
    "\n",
    "# train model on the best alpha\n",
    "lr = DecisionTreeClassifier(max_depth=2,min_samples_split=find_optimal(roc_auc_score_cv_bow_dict)['sample'])\n",
    "\n",
    "# fitting the model on crossvalidation train\n",
    "lr.fit(X_tr, y_train)\n",
    "\n",
    "dot_data = export_graphviz(lr,\n",
    "                            feature_names=feature_names_bow,\n",
    "                            class_names=[\"+\",\"-\"],\n",
    "                            out_file='Bow_tree.dot',\n",
    "                            filled=True,\n",
    "                            rounded=True)"
   ]
  },
  {
   "cell_type": "markdown",
   "metadata": {
    "colab_type": "text",
    "id": "AqRttfWD8jNM"
   },
   "source": [
    "# Procedure followed to obtain visualization of tree"
   ]
  },
  {
   "cell_type": "markdown",
   "metadata": {
    "colab_type": "text",
    "id": "94oPpkWb8jNM"
   },
   "source": [
    "- Code referred from here https://scikit-learn.org/stable/modules/generated/sklearn.tree.export_graphviz.html\n",
    "\n",
    "- The .dot file that was generated \n",
    "\n",
    "- Open the .dot file with a text editor\n",
    "\n",
    "- pasted the code on http://webgraphviz.com/ and finally obtained the visualization of tree"
   ]
  },
  {
   "cell_type": "code",
   "execution_count": 1,
   "metadata": {},
   "outputs": [
    {
     "data": {
      "image/png": "[encoded data removed]",
      "text/plain": [
       "<IPython.core.display.Image object>"
      ]
     },
     "execution_count": 1,
     "metadata": {},
     "output_type": "execute_result"
    }
   ],
   "source": [
    "from IPython.display import Image\n",
    "Image(\"/Users/user/Desktop/bow_tree.png\")\n"
   ]
  },
  {
   "cell_type": "markdown",
   "metadata": {
    "colab_type": "text",
    "id": "qPqR_PVp8jNN"
   },
   "source": [
    "# set2 Categorical, Numerical features + Project_title(TFIDF) + Preprocessed_essay (TFIDF)"
   ]
  },
  {
   "cell_type": "markdown",
   "metadata": {
    "colab_type": "text",
    "id": "5ImbctqT8jNN"
   },
   "source": [
    "# A) Simple Cross validation"
   ]
  },
  {
   "cell_type": "code",
   "execution_count": 0,
   "metadata": {
    "colab": {},
    "colab_type": "code",
    "id": "J0dh4f3M8jNN"
   },
   "outputs": [],
   "source": [
    "# merge two sparse matrices: https://stackoverflow.com/a/19710648/4084039\n",
    "from scipy.sparse import hstack\n",
    "\n",
    "X_tr = hstack((categories_one_hot_train, sub_categories_one_hot_train, school_state_categories_one_hot_train, project_grade_categories_one_hot_train, teacher_prefix_categories_one_hot_train, price_train, quantity_train, prev_projects_train, title_word_count_train, essay_word_count_train, text_tfidf_train, title_tfidf_train)).tocsr()\n",
    "X_te = hstack((categories_one_hot_test, sub_categories_one_hot_test, school_state_categories_one_hot_test, project_grade_categories_one_hot_test, teacher_prefix_categories_one_hot_test, price_test, quantity_test, prev_projects_test, title_word_count_test, essay_word_count_test, text_tfidf_test, title_tfidf_test)).tocsr()\n",
    "X_cr = hstack((categories_one_hot_cv, sub_categories_one_hot_cv, school_state_categories_one_hot_cv, project_grade_categories_one_hot_cv, teacher_prefix_categories_one_hot_cv, price_cv, quantity_cv, prev_projects_cv, title_word_count_cv, essay_word_count_cv, text_tfidf_cv, title_tfidf_cv)).tocsr()"
   ]
  },
  {
   "cell_type": "code",
   "execution_count": 0,
   "metadata": {
    "colab": {
     "base_uri": "https://localhost:8080/",
     "height": 122
    },
    "colab_type": "code",
    "id": "T47wzUZu8jNO",
    "outputId": "8b1e56ca-6479-4883-9811-151b81c62762"
   },
   "outputs": [
    {
     "name": "stdout",
     "output_type": "stream",
     "text": [
      "Final Data matrix\n",
      "(53531, 8542) (53531,)\n",
      "(22942, 8542) (22942,)\n",
      "(32775, 8542) (32775,)\n",
      "====================================================================================================\n"
     ]
    }
   ],
   "source": [
    "print(\"Final Data matrix\")\n",
    "print(X_tr.shape, y_train.shape)\n",
    "print(X_cr.shape, y_cv.shape)\n",
    "print(X_te.shape, y_test.shape)\n",
    "print(\"=\"*100)"
   ]
  },
  {
   "cell_type": "code",
   "execution_count": 0,
   "metadata": {
    "colab": {
     "base_uri": "https://localhost:8080/",
     "height": 190
    },
    "colab_type": "code",
    "id": "SEC8yZcc8jNQ",
    "outputId": "bfcfae97-935c-438c-fbf2-afc2c980cadd"
   },
   "outputs": [
    {
     "name": "stderr",
     "output_type": "stream",
     "text": [
      "\n",
      "  0%|          | 0/6 [00:00<?, ?it/s]\u001b[A\n",
      " 17%|█▋        | 1/6 [00:08<00:44,  8.92s/it]\u001b[A\n",
      " 33%|███▎      | 2/6 [00:51<01:15, 18.88s/it]\u001b[A\n",
      " 50%|█████     | 3/6 [02:52<02:28, 49.63s/it]\u001b[A\n",
      " 67%|██████▋   | 4/6 [12:40<07:02, 211.06s/it]\u001b[A\n",
      " 83%|████████▎ | 5/6 [25:11<06:13, 373.11s/it]\u001b[A\n",
      "100%|██████████| 6/6 [39:47<00:00, 524.15s/it]\u001b[A\n",
      "\u001b[A"
     ]
    },
    {
     "name": "stdout",
     "output_type": "stream",
     "text": [
      "[[1, 5, 0.5651920681373825], [1, 10, 0.5651920681373825], [1, 100, 0.5651920681373825], [1, 500, 0.5651920681373825], [5, 5, 0.6557570109885535], [5, 10, 0.6557570109885535], [5, 100, 0.6556031263503257], [5, 500, 0.6557334052403017], [10, 5, 0.6676545225035453], [10, 10, 0.6671495827586039], [10, 100, 0.6683974714746748], [10, 500, 0.6764301386956366], [50, 5, 0.5738613438713297], [50, 10, 0.5735925577174961], [50, 100, 0.5991949914945376], [50, 500, 0.6250073929684471], [100, 5, 0.5596021264069853], [100, 10, 0.5619246274446624], [100, 100, 0.5881019088762818], [100, 500, 0.6199824662445932], [250, 5, 0.5566848166999232], [250, 10, 0.5592203830882476], [250, 100, 0.5693625599259238], [250, 500, 0.6111426569074752]]\n"
     ]
    }
   ],
   "source": [
    "\n",
    "roc_auc_score_cv_tfidf_dict=[]\n",
    "roc_auc_score_train_tfidf_dict=[]\n",
    "\n",
    "depth=[1, 5, 10, 50, 100, 250]\n",
    "min_samples_split=[5, 10, 100, 500]\n",
    "\n",
    "for d in tqdm(depth):\n",
    "    for s in min_samples_split:\n",
    "        #create instance of model\n",
    "        dt=DecisionTreeClassifier(max_depth=d,min_samples_split=s,class_weight=\"balanced\")\n",
    "        \n",
    "        #Fit the model on the training set \n",
    "        dt.fit(X_tr,y_train)\n",
    "        \n",
    "        \n",
    "        # predict the response on the crossvalidation train\n",
    "        pred_tfidf_cv = dt.predict_proba(X_cr)\n",
    "\n",
    "        #evaluate CV roc_auc\n",
    "        roc_auc_cv =roc_auc_score(y_cv,pred_tfidf_cv[:,1])\n",
    "\n",
    "        #insert into dict\n",
    "        roc_auc_score_cv_tfidf_dict.append([d,s,roc_auc_cv])\n",
    "\n",
    "         # fitting the model on crossvalidation train\n",
    "        dt.fit(X_tr, y_train)\n",
    "\n",
    "        # predict the response on the train\n",
    "        pred_tfidf_train = dt.predict_proba(X_tr)\n",
    "\n",
    "        #evaluate train roc_auc\n",
    "        roc_auc_train =roc_auc_score(y_train,pred_tfidf_train[:,1])\n",
    "\n",
    "        #insert into dict\n",
    "        roc_auc_score_train_tfidf_dict.append([d,s,roc_auc_train])\n",
    "\n",
    "print(roc_auc_score_cv_tfidf_dict)"
   ]
  },
  {
   "cell_type": "code",
   "execution_count": 0,
   "metadata": {
    "colab": {
     "base_uri": "https://localhost:8080/",
     "height": 542
    },
    "colab_type": "code",
    "id": "8iQ4z27h8jNR",
    "outputId": "f088c839-ea3e-41c8-d80f-63bb03b2c7db"
   },
   "outputs": [
    {
     "data": {
      "application/vnd.plotly.v1+json": {
       "config": {
        "linkText": "Export to plot.ly",
        "plotlyServerURL": "https://plot.ly",
        "showLink": false
       },
       "data": [
        {
         "name": "Cross val",
         "type": "scatter3d",
         "x": [
          1,
          1,
          1,
          1,
          5,
          5,
          5,
          5,
          10,
          10,
          10,
          10,
          50,
          50,
          50,
          50,
          100,
          100,
          100,
          100,
          250,
          250,
          250,
          250
         ],
         "y": [
          5,
          10,
          100,
          500,
          5,
          10,
          100,
          500,
          5,
          10,
          100,
          500,
          5,
          10,
          100,
          500,
          5,
          10,
          100,
          500,
          5,
          10,
          100,
          500
         ],
         "z": [
          0.5651920681373825,
          0.5651920681373825,
          0.5651920681373825,
          0.5651920681373825,
          0.6557570109885535,
          0.6557570109885535,
          0.6556031263503257,
          0.6557334052403017,
          0.6676545225035453,
          0.6671495827586039,
          0.6683974714746748,
          0.6764301386956366,
          0.5738613438713297,
          0.5735925577174961,
          0.5991949914945376,
          0.6250073929684471,
          0.5596021264069853,
          0.5619246274446624,
          0.5881019088762818,
          0.6199824662445932,
          0.5566848166999232,
          0.5592203830882476,
          0.5693625599259238,
          0.6111426569074752
         ]
        },
        {
         "name": "train",
         "type": "scatter3d",
         "x": [
          1,
          1,
          1,
          1,
          5,
          5,
          5,
          5,
          10,
          10,
          10,
          10,
          50,
          50,
          50,
          50,
          100,
          100,
          100,
          100,
          250,
          250,
          250,
          250
         ],
         "y": [
          5,
          10,
          100,
          500,
          5,
          10,
          100,
          500,
          5,
          10,
          100,
          500,
          5,
          10,
          100,
          500,
          5,
          10,
          100,
          500,
          5,
          10,
          100,
          500
         ],
         "z": [
          0.567250584384884,
          0.567250584384884,
          0.567250584384884,
          0.567250584384884,
          0.6828730936550671,
          0.6828730936550671,
          0.6825957520570296,
          0.6821831714264739,
          0.7827310956586103,
          0.7804210075389406,
          0.7649177939143683,
          0.748152901589132,
          0.9888500140950948,
          0.9825607322854644,
          0.9339751605834498,
          0.8520033585409961,
          0.9983112082851942,
          0.9958223016367665,
          0.9583977309002366,
          0.86564668509418,
          0.9999578111364856,
          0.9989628528048125,
          0.9664089419531159,
          0.8677945282024526
         ]
        }
       ],
       "layout": {
        "scene": {
         "xaxis": {
          "title": {
           "text": "max_depth"
          }
         },
         "yaxis": {
          "title": {
           "text": "min_samples_split"
          }
         },
         "zaxis": {
          "title": {
           "text": "AUC"
          }
         }
        },
        "template": {
         "data": {
          "bar": [
           {
            "error_x": {
             "color": "#2a3f5f"
            },
            "error_y": {
             "color": "#2a3f5f"
            },
            "marker": {
             "line": {
              "color": "#E5ECF6",
              "width": 0.5
             }
            },
            "type": "bar"
           }
          ],
          "barpolar": [
           {
            "marker": {
             "line": {
              "color": "#E5ECF6",
              "width": 0.5
             }
            },
            "type": "barpolar"
           }
          ],
          "carpet": [
           {
            "aaxis": {
             "endlinecolor": "#2a3f5f",
             "gridcolor": "white",
             "linecolor": "white",
             "minorgridcolor": "white",
             "startlinecolor": "#2a3f5f"
            },
            "baxis": {
             "endlinecolor": "#2a3f5f",
             "gridcolor": "white",
             "linecolor": "white",
             "minorgridcolor": "white",
             "startlinecolor": "#2a3f5f"
            },
            "type": "carpet"
           }
          ],
          "choropleth": [
           {
            "colorbar": {
             "outlinewidth": 0,
             "ticks": ""
            },
            "type": "choropleth"
           }
          ],
          "contour": [
           {
            "colorbar": {
             "outlinewidth": 0,
             "ticks": ""
            },
            "colorscale": [
             [
              0,
              "#0d0887"
             ],
             [
              0.1111111111111111,
              "#46039f"
             ],
             [
              0.2222222222222222,
              "#7201a8"
             ],
             [
              0.3333333333333333,
              "#9c179e"
             ],
             [
              0.4444444444444444,
              "#bd3786"
             ],
             [
              0.5555555555555556,
              "#d8576b"
             ],
             [
              0.6666666666666666,
              "#ed7953"
             ],
             [
              0.7777777777777778,
              "#fb9f3a"
             ],
             [
              0.8888888888888888,
              "#fdca26"
             ],
             [
              1,
              "#f0f921"
             ]
            ],
            "type": "contour"
           }
          ],
          "contourcarpet": [
           {
            "colorbar": {
             "outlinewidth": 0,
             "ticks": ""
            },
            "type": "contourcarpet"
           }
          ],
          "heatmap": [
           {
            "colorbar": {
             "outlinewidth": 0,
             "ticks": ""
            },
            "colorscale": [
             [
              0,
              "#0d0887"
             ],
             [
              0.1111111111111111,
              "#46039f"
             ],
             [
              0.2222222222222222,
              "#7201a8"
             ],
             [
              0.3333333333333333,
              "#9c179e"
             ],
             [
              0.4444444444444444,
              "#bd3786"
             ],
             [
              0.5555555555555556,
              "#d8576b"
             ],
             [
              0.6666666666666666,
              "#ed7953"
             ],
             [
              0.7777777777777778,
              "#fb9f3a"
             ],
             [
              0.8888888888888888,
              "#fdca26"
             ],
             [
              1,
              "#f0f921"
             ]
            ],
            "type": "heatmap"
           }
          ],
          "heatmapgl": [
           {
            "colorbar": {
             "outlinewidth": 0,
             "ticks": ""
            },
            "colorscale": [
             [
              0,
              "#0d0887"
             ],
             [
              0.1111111111111111,
              "#46039f"
             ],
             [
              0.2222222222222222,
              "#7201a8"
             ],
             [
              0.3333333333333333,
              "#9c179e"
             ],
             [
              0.4444444444444444,
              "#bd3786"
             ],
             [
              0.5555555555555556,
              "#d8576b"
             ],
             [
              0.6666666666666666,
              "#ed7953"
             ],
             [
              0.7777777777777778,
              "#fb9f3a"
             ],
             [
              0.8888888888888888,
              "#fdca26"
             ],
             [
              1,
              "#f0f921"
             ]
            ],
            "type": "heatmapgl"
           }
          ],
          "histogram": [
           {
            "marker": {
             "colorbar": {
              "outlinewidth": 0,
              "ticks": ""
             }
            },
            "type": "histogram"
           }
          ],
          "histogram2d": [
           {
            "colorbar": {
             "outlinewidth": 0,
             "ticks": ""
            },
            "colorscale": [
             [
              0,
              "#0d0887"
             ],
             [
              0.1111111111111111,
              "#46039f"
             ],
             [
              0.2222222222222222,
              "#7201a8"
             ],
             [
              0.3333333333333333,
              "#9c179e"
             ],
             [
              0.4444444444444444,
              "#bd3786"
             ],
             [
              0.5555555555555556,
              "#d8576b"
             ],
             [
              0.6666666666666666,
              "#ed7953"
             ],
             [
              0.7777777777777778,
              "#fb9f3a"
             ],
             [
              0.8888888888888888,
              "#fdca26"
             ],
             [
              1,
              "#f0f921"
             ]
            ],
            "type": "histogram2d"
           }
          ],
          "histogram2dcontour": [
           {
            "colorbar": {
             "outlinewidth": 0,
             "ticks": ""
            },
            "colorscale": [
             [
              0,
              "#0d0887"
             ],
             [
              0.1111111111111111,
              "#46039f"
             ],
             [
              0.2222222222222222,
              "#7201a8"
             ],
             [
              0.3333333333333333,
              "#9c179e"
             ],
             [
              0.4444444444444444,
              "#bd3786"
             ],
             [
              0.5555555555555556,
              "#d8576b"
             ],
             [
              0.6666666666666666,
              "#ed7953"
             ],
             [
              0.7777777777777778,
              "#fb9f3a"
             ],
             [
              0.8888888888888888,
              "#fdca26"
             ],
             [
              1,
              "#f0f921"
             ]
            ],
            "type": "histogram2dcontour"
           }
          ],
          "mesh3d": [
           {
            "colorbar": {
             "outlinewidth": 0,
             "ticks": ""
            },
            "type": "mesh3d"
           }
          ],
          "parcoords": [
           {
            "line": {
             "colorbar": {
              "outlinewidth": 0,
              "ticks": ""
             }
            },
            "type": "parcoords"
           }
          ],
          "scatter": [
           {
            "marker": {
             "colorbar": {
              "outlinewidth": 0,
              "ticks": ""
             }
            },
            "type": "scatter"
           }
          ],
          "scatter3d": [
           {
            "line": {
             "colorbar": {
              "outlinewidth": 0,
              "ticks": ""
             }
            },
            "marker": {
             "colorbar": {
              "outlinewidth": 0,
              "ticks": ""
             }
            },
            "type": "scatter3d"
           }
          ],
          "scattercarpet": [
           {
            "marker": {
             "colorbar": {
              "outlinewidth": 0,
              "ticks": ""
             }
            },
            "type": "scattercarpet"
           }
          ],
          "scattergeo": [
           {
            "marker": {
             "colorbar": {
              "outlinewidth": 0,
              "ticks": ""
             }
            },
            "type": "scattergeo"
           }
          ],
          "scattergl": [
           {
            "marker": {
             "colorbar": {
              "outlinewidth": 0,
              "ticks": ""
             }
            },
            "type": "scattergl"
           }
          ],
          "scattermapbox": [
           {
            "marker": {
             "colorbar": {
              "outlinewidth": 0,
              "ticks": ""
             }
            },
            "type": "scattermapbox"
           }
          ],
          "scatterpolar": [
           {
            "marker": {
             "colorbar": {
              "outlinewidth": 0,
              "ticks": ""
             }
            },
            "type": "scatterpolar"
           }
          ],
          "scatterpolargl": [
           {
            "marker": {
             "colorbar": {
              "outlinewidth": 0,
              "ticks": ""
             }
            },
            "type": "scatterpolargl"
           }
          ],
          "scatterternary": [
           {
            "marker": {
             "colorbar": {
              "outlinewidth": 0,
              "ticks": ""
             }
            },
            "type": "scatterternary"
           }
          ],
          "surface": [
           {
            "colorbar": {
             "outlinewidth": 0,
             "ticks": ""
            },
            "colorscale": [
             [
              0,
              "#0d0887"
             ],
             [
              0.1111111111111111,
              "#46039f"
             ],
             [
              0.2222222222222222,
              "#7201a8"
             ],
             [
              0.3333333333333333,
              "#9c179e"
             ],
             [
              0.4444444444444444,
              "#bd3786"
             ],
             [
              0.5555555555555556,
              "#d8576b"
             ],
             [
              0.6666666666666666,
              "#ed7953"
             ],
             [
              0.7777777777777778,
              "#fb9f3a"
             ],
             [
              0.8888888888888888,
              "#fdca26"
             ],
             [
              1,
              "#f0f921"
             ]
            ],
            "type": "surface"
           }
          ],
          "table": [
           {
            "cells": {
             "fill": {
              "color": "#EBF0F8"
             },
             "line": {
              "color": "white"
             }
            },
            "header": {
             "fill": {
              "color": "#C8D4E3"
             },
             "line": {
              "color": "white"
             }
            },
            "type": "table"
           }
          ]
         },
         "layout": {
          "annotationdefaults": {
           "arrowcolor": "#2a3f5f",
           "arrowhead": 0,
           "arrowwidth": 1
          },
          "colorscale": {
           "diverging": [
            [
             0,
             "#8e0152"
            ],
            [
             0.1,
             "#c51b7d"
            ],
            [
             0.2,
             "#de77ae"
            ],
            [
             0.3,
             "#f1b6da"
            ],
            [
             0.4,
             "#fde0ef"
            ],
            [
             0.5,
             "#f7f7f7"
            ],
            [
             0.6,
             "#e6f5d0"
            ],
            [
             0.7,
             "#b8e186"
            ],
            [
             0.8,
             "#7fbc41"
            ],
            [
             0.9,
             "#4d9221"
            ],
            [
             1,
             "#276419"
            ]
           ],
           "sequential": [
            [
             0,
             "#0d0887"
            ],
            [
             0.1111111111111111,
             "#46039f"
            ],
            [
             0.2222222222222222,
             "#7201a8"
            ],
            [
             0.3333333333333333,
             "#9c179e"
            ],
            [
             0.4444444444444444,
             "#bd3786"
            ],
            [
             0.5555555555555556,
             "#d8576b"
            ],
            [
             0.6666666666666666,
             "#ed7953"
            ],
            [
             0.7777777777777778,
             "#fb9f3a"
            ],
            [
             0.8888888888888888,
             "#fdca26"
            ],
            [
             1,
             "#f0f921"
            ]
           ],
           "sequentialminus": [
            [
             0,
             "#0d0887"
            ],
            [
             0.1111111111111111,
             "#46039f"
            ],
            [
             0.2222222222222222,
             "#7201a8"
            ],
            [
             0.3333333333333333,
             "#9c179e"
            ],
            [
             0.4444444444444444,
             "#bd3786"
            ],
            [
             0.5555555555555556,
             "#d8576b"
            ],
            [
             0.6666666666666666,
             "#ed7953"
            ],
            [
             0.7777777777777778,
             "#fb9f3a"
            ],
            [
             0.8888888888888888,
             "#fdca26"
            ],
            [
             1,
             "#f0f921"
            ]
           ]
          },
          "colorway": [
           "#636efa",
           "#EF553B",
           "#00cc96",
           "#ab63fa",
           "#FFA15A",
           "#19d3f3",
           "#FF6692",
           "#B6E880",
           "#FF97FF",
           "#FECB52"
          ],
          "font": {
           "color": "#2a3f5f"
          },
          "geo": {
           "bgcolor": "white",
           "lakecolor": "white",
           "landcolor": "#E5ECF6",
           "showlakes": true,
           "showland": true,
           "subunitcolor": "white"
          },
          "hoverlabel": {
           "align": "left"
          },
          "hovermode": "closest",
          "mapbox": {
           "style": "light"
          },
          "paper_bgcolor": "white",
          "plot_bgcolor": "#E5ECF6",
          "polar": {
           "angularaxis": {
            "gridcolor": "white",
            "linecolor": "white",
            "ticks": ""
           },
           "bgcolor": "#E5ECF6",
           "radialaxis": {
            "gridcolor": "white",
            "linecolor": "white",
            "ticks": ""
           }
          },
          "scene": {
           "xaxis": {
            "backgroundcolor": "#E5ECF6",
            "gridcolor": "white",
            "gridwidth": 2,
            "linecolor": "white",
            "showbackground": true,
            "ticks": "",
            "zerolinecolor": "white"
           },
           "yaxis": {
            "backgroundcolor": "#E5ECF6",
            "gridcolor": "white",
            "gridwidth": 2,
            "linecolor": "white",
            "showbackground": true,
            "ticks": "",
            "zerolinecolor": "white"
           },
           "zaxis": {
            "backgroundcolor": "#E5ECF6",
            "gridcolor": "white",
            "gridwidth": 2,
            "linecolor": "white",
            "showbackground": true,
            "ticks": "",
            "zerolinecolor": "white"
           }
          },
          "shapedefaults": {
           "line": {
            "color": "#2a3f5f"
           }
          },
          "ternary": {
           "aaxis": {
            "gridcolor": "white",
            "linecolor": "white",
            "ticks": ""
           },
           "baxis": {
            "gridcolor": "white",
            "linecolor": "white",
            "ticks": ""
           },
           "bgcolor": "#E5ECF6",
           "caxis": {
            "gridcolor": "white",
            "linecolor": "white",
            "ticks": ""
           }
          },
          "title": {
           "x": 0.05
          },
          "xaxis": {
           "automargin": true,
           "gridcolor": "white",
           "linecolor": "white",
           "ticks": "",
           "zerolinecolor": "white",
           "zerolinewidth": 2
          },
          "yaxis": {
           "automargin": true,
           "gridcolor": "white",
           "linecolor": "white",
           "ticks": "",
           "zerolinecolor": "white",
           "zerolinewidth": 2
          }
         }
        },
        "title": {
         "text": "Depth vs split size vs AUC(TFIDF)"
        }
       }
      },
      "text/html": [
       "<div>\n",
       "        \n",
       "        \n",
       "            <div id=\"2dbcbdf5-54a3-458a-bd0d-3336191ed2dc\" class=\"plotly-graph-div\" style=\"height:525px; width:100%;\"></div>\n",
       "            <script type=\"text/javascript\">\n",
       "                require([\"plotly\"], function(Plotly) {\n",
       "                    window.PLOTLYENV=window.PLOTLYENV || {};\n",
       "                    \n",
       "                if (document.getElementById(\"2dbcbdf5-54a3-458a-bd0d-3336191ed2dc\")) {\n",
       "                    Plotly.newPlot(\n",
       "                        '2dbcbdf5-54a3-458a-bd0d-3336191ed2dc',\n",
       "                        [{\"name\": \"Cross val\", \"type\": \"scatter3d\", \"x\": [1, 1, 1, 1, 5, 5, 5, 5, 10, 10, 10, 10, 50, 50, 50, 50, 100, 100, 100, 100, 250, 250, 250, 250], \"y\": [5, 10, 100, 500, 5, 10, 100, 500, 5, 10, 100, 500, 5, 10, 100, 500, 5, 10, 100, 500, 5, 10, 100, 500], \"z\": [0.5651920681373825, 0.5651920681373825, 0.5651920681373825, 0.5651920681373825, 0.6557570109885535, 0.6557570109885535, 0.6556031263503257, 0.6557334052403017, 0.6676545225035453, 0.6671495827586039, 0.6683974714746748, 0.6764301386956366, 0.5738613438713297, 0.5735925577174961, 0.5991949914945376, 0.6250073929684471, 0.5596021264069853, 0.5619246274446624, 0.5881019088762818, 0.6199824662445932, 0.5566848166999232, 0.5592203830882476, 0.5693625599259238, 0.6111426569074752]}, {\"name\": \"train\", \"type\": \"scatter3d\", \"x\": [1, 1, 1, 1, 5, 5, 5, 5, 10, 10, 10, 10, 50, 50, 50, 50, 100, 100, 100, 100, 250, 250, 250, 250], \"y\": [5, 10, 100, 500, 5, 10, 100, 500, 5, 10, 100, 500, 5, 10, 100, 500, 5, 10, 100, 500, 5, 10, 100, 500], \"z\": [0.567250584384884, 0.567250584384884, 0.567250584384884, 0.567250584384884, 0.6828730936550671, 0.6828730936550671, 0.6825957520570296, 0.6821831714264739, 0.7827310956586103, 0.7804210075389406, 0.7649177939143683, 0.748152901589132, 0.9888500140950948, 0.9825607322854644, 0.9339751605834498, 0.8520033585409961, 0.9983112082851942, 0.9958223016367665, 0.9583977309002366, 0.86564668509418, 0.9999578111364856, 0.9989628528048125, 0.9664089419531159, 0.8677945282024526]}],\n",
       "                        {\"scene\": {\"xaxis\": {\"title\": {\"text\": \"max_depth\"}}, \"yaxis\": {\"title\": {\"text\": \"min_samples_split\"}}, \"zaxis\": {\"title\": {\"text\": \"AUC\"}}}, \"template\": {\"data\": {\"bar\": [{\"error_x\": {\"color\": \"#2a3f5f\"}, \"error_y\": {\"color\": \"#2a3f5f\"}, \"marker\": {\"line\": {\"color\": \"#E5ECF6\", \"width\": 0.5}}, \"type\": \"bar\"}], \"barpolar\": [{\"marker\": {\"line\": {\"color\": \"#E5ECF6\", \"width\": 0.5}}, \"type\": \"barpolar\"}], \"carpet\": [{\"aaxis\": {\"endlinecolor\": \"#2a3f5f\", \"gridcolor\": \"white\", \"linecolor\": \"white\", \"minorgridcolor\": \"white\", \"startlinecolor\": \"#2a3f5f\"}, \"baxis\": {\"endlinecolor\": \"#2a3f5f\", \"gridcolor\": \"white\", \"linecolor\": \"white\", \"minorgridcolor\": \"white\", \"startlinecolor\": \"#2a3f5f\"}, \"type\": \"carpet\"}], \"choropleth\": [{\"colorbar\": {\"outlinewidth\": 0, \"ticks\": \"\"}, \"type\": \"choropleth\"}], \"contour\": [{\"colorbar\": {\"outlinewidth\": 0, \"ticks\": \"\"}, \"colorscale\": [[0.0, \"#0d0887\"], [0.1111111111111111, \"#46039f\"], [0.2222222222222222, \"#7201a8\"], [0.3333333333333333, \"#9c179e\"], [0.4444444444444444, \"#bd3786\"], [0.5555555555555556, \"#d8576b\"], [0.6666666666666666, \"#ed7953\"], [0.7777777777777778, \"#fb9f3a\"], [0.8888888888888888, \"#fdca26\"], [1.0, \"#f0f921\"]], \"type\": \"contour\"}], \"contourcarpet\": [{\"colorbar\": {\"outlinewidth\": 0, \"ticks\": \"\"}, \"type\": \"contourcarpet\"}], \"heatmap\": [{\"colorbar\": {\"outlinewidth\": 0, \"ticks\": \"\"}, \"colorscale\": [[0.0, \"#0d0887\"], [0.1111111111111111, \"#46039f\"], [0.2222222222222222, \"#7201a8\"], [0.3333333333333333, \"#9c179e\"], [0.4444444444444444, \"#bd3786\"], [0.5555555555555556, \"#d8576b\"], [0.6666666666666666, \"#ed7953\"], [0.7777777777777778, \"#fb9f3a\"], [0.8888888888888888, \"#fdca26\"], [1.0, \"#f0f921\"]], \"type\": \"heatmap\"}], \"heatmapgl\": [{\"colorbar\": {\"outlinewidth\": 0, \"ticks\": \"\"}, \"colorscale\": [[0.0, \"#0d0887\"], [0.1111111111111111, \"#46039f\"], [0.2222222222222222, \"#7201a8\"], [0.3333333333333333, \"#9c179e\"], [0.4444444444444444, \"#bd3786\"], [0.5555555555555556, \"#d8576b\"], [0.6666666666666666, \"#ed7953\"], [0.7777777777777778, \"#fb9f3a\"], [0.8888888888888888, \"#fdca26\"], [1.0, \"#f0f921\"]], \"type\": \"heatmapgl\"}], \"histogram\": [{\"marker\": {\"colorbar\": {\"outlinewidth\": 0, \"ticks\": \"\"}}, \"type\": \"histogram\"}], \"histogram2d\": [{\"colorbar\": {\"outlinewidth\": 0, \"ticks\": \"\"}, \"colorscale\": [[0.0, \"#0d0887\"], [0.1111111111111111, \"#46039f\"], [0.2222222222222222, \"#7201a8\"], [0.3333333333333333, \"#9c179e\"], [0.4444444444444444, \"#bd3786\"], [0.5555555555555556, \"#d8576b\"], [0.6666666666666666, \"#ed7953\"], [0.7777777777777778, \"#fb9f3a\"], [0.8888888888888888, \"#fdca26\"], [1.0, \"#f0f921\"]], \"type\": \"histogram2d\"}], \"histogram2dcontour\": [{\"colorbar\": {\"outlinewidth\": 0, \"ticks\": \"\"}, \"colorscale\": [[0.0, \"#0d0887\"], [0.1111111111111111, \"#46039f\"], [0.2222222222222222, \"#7201a8\"], [0.3333333333333333, \"#9c179e\"], [0.4444444444444444, \"#bd3786\"], [0.5555555555555556, \"#d8576b\"], [0.6666666666666666, \"#ed7953\"], [0.7777777777777778, \"#fb9f3a\"], [0.8888888888888888, \"#fdca26\"], [1.0, \"#f0f921\"]], \"type\": \"histogram2dcontour\"}], \"mesh3d\": [{\"colorbar\": {\"outlinewidth\": 0, \"ticks\": \"\"}, \"type\": \"mesh3d\"}], \"parcoords\": [{\"line\": {\"colorbar\": {\"outlinewidth\": 0, \"ticks\": \"\"}}, \"type\": \"parcoords\"}], \"scatter\": [{\"marker\": {\"colorbar\": {\"outlinewidth\": 0, \"ticks\": \"\"}}, \"type\": \"scatter\"}], \"scatter3d\": [{\"line\": {\"colorbar\": {\"outlinewidth\": 0, \"ticks\": \"\"}}, \"marker\": {\"colorbar\": {\"outlinewidth\": 0, \"ticks\": \"\"}}, \"type\": \"scatter3d\"}], \"scattercarpet\": [{\"marker\": {\"colorbar\": {\"outlinewidth\": 0, \"ticks\": \"\"}}, \"type\": \"scattercarpet\"}], \"scattergeo\": [{\"marker\": {\"colorbar\": {\"outlinewidth\": 0, \"ticks\": \"\"}}, \"type\": \"scattergeo\"}], \"scattergl\": [{\"marker\": {\"colorbar\": {\"outlinewidth\": 0, \"ticks\": \"\"}}, \"type\": \"scattergl\"}], \"scattermapbox\": [{\"marker\": {\"colorbar\": {\"outlinewidth\": 0, \"ticks\": \"\"}}, \"type\": \"scattermapbox\"}], \"scatterpolar\": [{\"marker\": {\"colorbar\": {\"outlinewidth\": 0, \"ticks\": \"\"}}, \"type\": \"scatterpolar\"}], \"scatterpolargl\": [{\"marker\": {\"colorbar\": {\"outlinewidth\": 0, \"ticks\": \"\"}}, \"type\": \"scatterpolargl\"}], \"scatterternary\": [{\"marker\": {\"colorbar\": {\"outlinewidth\": 0, \"ticks\": \"\"}}, \"type\": \"scatterternary\"}], \"surface\": [{\"colorbar\": {\"outlinewidth\": 0, \"ticks\": \"\"}, \"colorscale\": [[0.0, \"#0d0887\"], [0.1111111111111111, \"#46039f\"], [0.2222222222222222, \"#7201a8\"], [0.3333333333333333, \"#9c179e\"], [0.4444444444444444, \"#bd3786\"], [0.5555555555555556, \"#d8576b\"], [0.6666666666666666, \"#ed7953\"], [0.7777777777777778, \"#fb9f3a\"], [0.8888888888888888, \"#fdca26\"], [1.0, \"#f0f921\"]], \"type\": \"surface\"}], \"table\": [{\"cells\": {\"fill\": {\"color\": \"#EBF0F8\"}, \"line\": {\"color\": \"white\"}}, \"header\": {\"fill\": {\"color\": \"#C8D4E3\"}, \"line\": {\"color\": \"white\"}}, \"type\": \"table\"}]}, \"layout\": {\"annotationdefaults\": {\"arrowcolor\": \"#2a3f5f\", \"arrowhead\": 0, \"arrowwidth\": 1}, \"colorscale\": {\"diverging\": [[0, \"#8e0152\"], [0.1, \"#c51b7d\"], [0.2, \"#de77ae\"], [0.3, \"#f1b6da\"], [0.4, \"#fde0ef\"], [0.5, \"#f7f7f7\"], [0.6, \"#e6f5d0\"], [0.7, \"#b8e186\"], [0.8, \"#7fbc41\"], [0.9, \"#4d9221\"], [1, \"#276419\"]], \"sequential\": [[0.0, \"#0d0887\"], [0.1111111111111111, \"#46039f\"], [0.2222222222222222, \"#7201a8\"], [0.3333333333333333, \"#9c179e\"], [0.4444444444444444, \"#bd3786\"], [0.5555555555555556, \"#d8576b\"], [0.6666666666666666, \"#ed7953\"], [0.7777777777777778, \"#fb9f3a\"], [0.8888888888888888, \"#fdca26\"], [1.0, \"#f0f921\"]], \"sequentialminus\": [[0.0, \"#0d0887\"], [0.1111111111111111, \"#46039f\"], [0.2222222222222222, \"#7201a8\"], [0.3333333333333333, \"#9c179e\"], [0.4444444444444444, \"#bd3786\"], [0.5555555555555556, \"#d8576b\"], [0.6666666666666666, \"#ed7953\"], [0.7777777777777778, \"#fb9f3a\"], [0.8888888888888888, \"#fdca26\"], [1.0, \"#f0f921\"]]}, \"colorway\": [\"#636efa\", \"#EF553B\", \"#00cc96\", \"#ab63fa\", \"#FFA15A\", \"#19d3f3\", \"#FF6692\", \"#B6E880\", \"#FF97FF\", \"#FECB52\"], \"font\": {\"color\": \"#2a3f5f\"}, \"geo\": {\"bgcolor\": \"white\", \"lakecolor\": \"white\", \"landcolor\": \"#E5ECF6\", \"showlakes\": true, \"showland\": true, \"subunitcolor\": \"white\"}, \"hoverlabel\": {\"align\": \"left\"}, \"hovermode\": \"closest\", \"mapbox\": {\"style\": \"light\"}, \"paper_bgcolor\": \"white\", \"plot_bgcolor\": \"#E5ECF6\", \"polar\": {\"angularaxis\": {\"gridcolor\": \"white\", \"linecolor\": \"white\", \"ticks\": \"\"}, \"bgcolor\": \"#E5ECF6\", \"radialaxis\": {\"gridcolor\": \"white\", \"linecolor\": \"white\", \"ticks\": \"\"}}, \"scene\": {\"xaxis\": {\"backgroundcolor\": \"#E5ECF6\", \"gridcolor\": \"white\", \"gridwidth\": 2, \"linecolor\": \"white\", \"showbackground\": true, \"ticks\": \"\", \"zerolinecolor\": \"white\"}, \"yaxis\": {\"backgroundcolor\": \"#E5ECF6\", \"gridcolor\": \"white\", \"gridwidth\": 2, \"linecolor\": \"white\", \"showbackground\": true, \"ticks\": \"\", \"zerolinecolor\": \"white\"}, \"zaxis\": {\"backgroundcolor\": \"#E5ECF6\", \"gridcolor\": \"white\", \"gridwidth\": 2, \"linecolor\": \"white\", \"showbackground\": true, \"ticks\": \"\", \"zerolinecolor\": \"white\"}}, \"shapedefaults\": {\"line\": {\"color\": \"#2a3f5f\"}}, \"ternary\": {\"aaxis\": {\"gridcolor\": \"white\", \"linecolor\": \"white\", \"ticks\": \"\"}, \"baxis\": {\"gridcolor\": \"white\", \"linecolor\": \"white\", \"ticks\": \"\"}, \"bgcolor\": \"#E5ECF6\", \"caxis\": {\"gridcolor\": \"white\", \"linecolor\": \"white\", \"ticks\": \"\"}}, \"title\": {\"x\": 0.05}, \"xaxis\": {\"automargin\": true, \"gridcolor\": \"white\", \"linecolor\": \"white\", \"ticks\": \"\", \"zerolinecolor\": \"white\", \"zerolinewidth\": 2}, \"yaxis\": {\"automargin\": true, \"gridcolor\": \"white\", \"linecolor\": \"white\", \"ticks\": \"\", \"zerolinecolor\": \"white\", \"zerolinewidth\": 2}}}, \"title\": {\"text\": \"Depth vs split size vs AUC(TFIDF)\"}},\n",
       "                        {\"responsive\": true}\n",
       "                    ).then(function(){\n",
       "                            \n",
       "var gd = document.getElementById('2dbcbdf5-54a3-458a-bd0d-3336191ed2dc');\n",
       "var x = new MutationObserver(function (mutations, observer) {{\n",
       "        var display = window.getComputedStyle(gd).display;\n",
       "        if (!display || display === 'none') {{\n",
       "            console.log([gd, 'removed!']);\n",
       "            Plotly.purge(gd);\n",
       "            observer.disconnect();\n",
       "        }}\n",
       "}});\n",
       "\n",
       "// Listen for the removal of the full notebook cells\n",
       "var notebookContainer = gd.closest('#notebook-container');\n",
       "if (notebookContainer) {{\n",
       "    x.observe(notebookContainer, {childList: true});\n",
       "}}\n",
       "\n",
       "// Listen for the clearing of the current output cell\n",
       "var outputEl = gd.closest('.output');\n",
       "if (outputEl) {{\n",
       "    x.observe(outputEl, {childList: true});\n",
       "}}\n",
       "\n",
       "                        })\n",
       "                };\n",
       "                });\n",
       "            </script>\n",
       "        </div>"
      ]
     },
     "metadata": {
      "tags": []
     },
     "output_type": "display_data"
    }
   ],
   "source": [
    "x1=[]\n",
    "y1=[]\n",
    "z1=[]\n",
    "\n",
    "x2=[]\n",
    "y2=[]\n",
    "z2=[]\n",
    "\n",
    "for value in roc_auc_score_cv_tfidf_dict:\n",
    "    x1.append(value[0])\n",
    "    y1.append(value[1])\n",
    "    z1.append(value[2])\n",
    "    \n",
    "for value in roc_auc_score_train_tfidf_dict:\n",
    "    x2.append(value[0])\n",
    "    y2.append(value[1])\n",
    "    z2.append(value[2])\n",
    "    \n",
    "# https://plot.ly/python/3d-axes/\n",
    "trace1 = go.Scatter3d(x=x1,y=y1,z=z1, name = 'Cross val')\n",
    "trace2 = go.Scatter3d(x=x2,y=y2,z=z2, name = 'train')\n",
    "data = [trace1, trace2]\n",
    "\n",
    "layout = go.Layout(title='Depth vs split size vs AUC(TFIDF)',scene = dict(\n",
    "        xaxis = dict(title='max_depth'),\n",
    "        yaxis = dict(title='min_samples_split'),\n",
    "        zaxis = dict(title='AUC'),))\n",
    "\n",
    "fig = go.Figure(data=data, layout=layout)\n",
    "offline.iplot(fig, filename='3d-scatter-colorscale')"
   ]
  },
  {
   "cell_type": "code",
   "execution_count": 0,
   "metadata": {
    "colab": {
     "base_uri": "https://localhost:8080/",
     "height": 34
    },
    "colab_type": "code",
    "id": "ER5pix1J8jNS",
    "outputId": "72657875-f86c-453d-cf62-b7028bdbe56f"
   },
   "outputs": [
    {
     "data": {
      "text/plain": [
       "{'depth': 10, 'sample': 500}"
      ]
     },
     "execution_count": 113,
     "metadata": {
      "tags": []
     },
     "output_type": "execute_result"
    }
   ],
   "source": [
    "find_optimal(roc_auc_score_cv_tfidf_dict)"
   ]
  },
  {
   "cell_type": "markdown",
   "metadata": {
    "colab_type": "text",
    "id": "_YR165Mh8jNU"
   },
   "source": [
    "<img src='https://github.com/Kunal-Varma/Decision-Trees/blob/master/set_2_AUC.png?raw=1' width=800px>"
   ]
  },
  {
   "cell_type": "markdown",
   "metadata": {
    "colab_type": "text",
    "id": "ID_sUYVV8jNV"
   },
   "source": [
    "# Summary"
   ]
  },
  {
   "cell_type": "markdown",
   "metadata": {
    "colab_type": "text",
    "id": "brpo784S8jNV"
   },
   "source": [
    "- The optimal parameters are depth as 10 and sample as 500"
   ]
  },
  {
   "cell_type": "markdown",
   "metadata": {
    "colab_type": "text",
    "id": "RMF0FLlR8jNV"
   },
   "source": [
    "# B) Training model using best hyperparameter value"
   ]
  },
  {
   "cell_type": "code",
   "execution_count": 0,
   "metadata": {
    "colab": {
     "base_uri": "https://localhost:8080/",
     "height": 295
    },
    "colab_type": "code",
    "id": "eQPtGq7X8jNW",
    "outputId": "41f5b1ae-2090-47dc-93cf-fae1b8442855"
   },
   "outputs": [
    {
     "data": {
      "image/png": "[encoded data removed]",
      "text/plain": [
       "<Figure size 432x288 with 1 Axes>"
      ]
     },
     "metadata": {
      "tags": []
     },
     "output_type": "display_data"
    }
   ],
   "source": [
    "# train model on the best alpha\n",
    "lr = DecisionTreeClassifier(max_depth=find_optimal(roc_auc_score_cv_tfidf_dict)['depth'],min_samples_split=find_optimal(roc_auc_score_cv_tfidf_dict)['sample'],class_weight=\"balanced\")\n",
    "\n",
    "# fitting the model on crossvalidation train\n",
    "lr.fit(X_tr, y_train)\n",
    "\n",
    "# predict the response on the crossvalidation train\n",
    "pred_tfidf_test = lr.predict(X_te)\n",
    "pred_tfidf_train = lr.predict(X_tr)\n",
    "\n",
    "#https://stackoverflow.com/questions/52910061/implementing-roc-curves-for-k-nn-machine-learning-algorithm-using-python-and-scip_scores = knn.predict_proba(X_test)\n",
    "pred_tfidf_test_scores=lr.predict_proba(X_te)\n",
    "pred_tfidf_train_scores=lr.predict_proba(X_tr)\n",
    "\n",
    "fpr_test, tpr_test, threshold_test = roc_curve(y_test, pred_tfidf_test_scores[:, 1])\n",
    "fpr_train, tpr_train, threshold_train = roc_curve(y_train, pred_tfidf_train_scores[:, 1])\n",
    "roc_auc_test = auc(fpr_test, tpr_test)\n",
    "roc_auc_train = auc(fpr_train, tpr_train)\n",
    "plt.title('Receiver Operating Characteristic')\n",
    "plt.plot(fpr_test, tpr_test, 'r', label = 'AUC_test = %0.2f' % roc_auc_test)\n",
    "plt.plot(fpr_train, tpr_train, 'b', label = 'AUC_train = %0.2f' % roc_auc_train)\n",
    "plt.legend(loc = 'lower right')\n",
    "plt.plot([0, 1], [0, 1],'g--')\n",
    "plt.xlim([0, 1])\n",
    "plt.ylim([0, 1])\n",
    "plt.ylabel('True Positive Rate')\n",
    "plt.xlabel('False Positive Rate')\n",
    "plt.title('ROC Curve of TFIDF-LR')\n",
    "plt.grid(color='b', linestyle='-', linewidth=0.5)\n",
    "plt.show()"
   ]
  },
  {
   "cell_type": "markdown",
   "metadata": {
    "colab_type": "text",
    "id": "sTcUcFis8jNX"
   },
   "source": [
    "# Summary"
   ]
  },
  {
   "cell_type": "markdown",
   "metadata": {
    "colab_type": "text",
    "id": "s9HNKRzK8jNY"
   },
   "source": [
    "- We get Test AUC of 0.68"
   ]
  },
  {
   "cell_type": "markdown",
   "metadata": {
    "colab_type": "text",
    "id": "4oVBXWbx8jNY"
   },
   "source": [
    "## C) confusion matrix"
   ]
  },
  {
   "cell_type": "markdown",
   "metadata": {
    "colab_type": "text",
    "id": "Vw7TBCmv8jNZ"
   },
   "source": [
    "## train data"
   ]
  },
  {
   "cell_type": "code",
   "execution_count": 0,
   "metadata": {
    "colab": {
     "base_uri": "https://localhost:8080/",
     "height": 330
    },
    "colab_type": "code",
    "id": "2otAdKLT8jNb",
    "outputId": "25581ccb-8013-4f3f-b207-8649121a9655"
   },
   "outputs": [
    {
     "name": "stdout",
     "output_type": "stream",
     "text": [
      "Training CM for TFIDF\n"
     ]
    },
    {
     "data": {
      "image/png": "[encoded data removed]",
      "text/plain": [
       "<Figure size 432x288 with 2 Axes>"
      ]
     },
     "metadata": {
      "tags": []
     },
     "output_type": "display_data"
    },
    {
     "name": "stdout",
     "output_type": "stream",
     "text": [
      "==================================================\n"
     ]
    }
   ],
   "source": [
    "\n",
    "from sklearn.metrics import accuracy_score\n",
    "\n",
    "#https://scikit-learn.org/stable/modules/generated/sklearn.metrics.confusion_matrix.html\n",
    "from sklearn.metrics import confusion_matrix\n",
    "print(\"Training CM for TFIDF\")\n",
    "cm =confusion_matrix(y_train, pred_tfidf_train, labels=None, sample_weight=None)\n",
    "sns.heatmap(cm, annot=True,fmt=\"d\",cmap=\"YlGnBu\")\n",
    "plt.title('DT \\nAccuracy:{0:.3f}'.format(accuracy_score(y_train, pred_tfidf_train)))\n",
    "plt.show()\n",
    "print(\"=\"*50)"
   ]
  },
  {
   "cell_type": "markdown",
   "metadata": {
    "colab_type": "text",
    "id": "ZPXeXLWl8jNd"
   },
   "source": [
    "# Summary"
   ]
  },
  {
   "cell_type": "markdown",
   "metadata": {
    "colab_type": "text",
    "id": "x27yRqD18jNd"
   },
   "source": [
    "- we observe high no of true positives app 30k whereas false negatives are 15k and very few true negatives roughly 2400"
   ]
  },
  {
   "cell_type": "markdown",
   "metadata": {
    "colab_type": "text",
    "id": "i9jHgfRu8jNe"
   },
   "source": [
    "## test data"
   ]
  },
  {
   "cell_type": "code",
   "execution_count": 0,
   "metadata": {
    "colab": {
     "base_uri": "https://localhost:8080/",
     "height": 313
    },
    "colab_type": "code",
    "id": "VpSuhhld8jNf",
    "outputId": "ce6c1614-d64a-43ad-d186-85c8bdf0f4ce"
   },
   "outputs": [
    {
     "name": "stdout",
     "output_type": "stream",
     "text": [
      "Testing CM for TFIDF\n"
     ]
    },
    {
     "data": {
      "image/png": "[encoded data removed]",
      "text/plain": [
       "<Figure size 432x288 with 2 Axes>"
      ]
     },
     "metadata": {
      "tags": []
     },
     "output_type": "display_data"
    }
   ],
   "source": [
    "print(\"Testing CM for TFIDF\")\n",
    "cm =confusion_matrix(y_test, pred_tfidf_test, labels=None, sample_weight=None)\n",
    "summary.append(['Tfidf',find_optimal(roc_auc_score_cv_tfidf_dict)['depth'],find_optimal(roc_auc_score_cv_tfidf_dict)['sample'],roc_auc_test])\n",
    "sns.heatmap(cm, annot=True,fmt=\"d\",cmap=\"YlGnBu\")\n",
    "plt.title('DT  \\nAccuracy:{0:.3f}'.format(accuracy_score(y_test, pred_tfidf_test)))\n",
    "plt.show()"
   ]
  },
  {
   "cell_type": "markdown",
   "metadata": {
    "colab_type": "text",
    "id": "cisu00zJ8jNg"
   },
   "source": [
    "# Summary"
   ]
  },
  {
   "cell_type": "markdown",
   "metadata": {
    "colab_type": "text",
    "id": "8Nqb6X0Z8jNg"
   },
   "source": [
    "- We get about 18k true positives while the number of false positives is just 1905"
   ]
  },
  {
   "cell_type": "markdown",
   "metadata": {
    "colab_type": "text",
    "id": "0LNcyX638jNg"
   },
   "source": [
    "## Graphviz"
   ]
  },
  {
   "cell_type": "code",
   "execution_count": 0,
   "metadata": {
    "colab": {},
    "colab_type": "code",
    "id": "Wdjm9VfM8jNg"
   },
   "outputs": [],
   "source": [
    "\n",
    "# train model on the best alpha\n",
    "lr = DecisionTreeClassifier(max_depth=2,min_samples_split=find_optimal(roc_auc_score_cv_tfidf_dict)['sample'],class_weight=\"balanced\")\n",
    "\n",
    "# fitting the model on crossvalidation train\n",
    "lr.fit(X_tr, y_train)\n",
    "\n",
    "dot_data = export_graphviz(lr,\n",
    "                            feature_names=feature_names_tfidf,\n",
    "                            class_names=[\"+\",\"-\"],\n",
    "                            out_file='Tfidf_tree.dot',\n",
    "                            filled=True,\n",
    "                            rounded=True)"
   ]
  },
  {
   "cell_type": "code",
   "execution_count": 2,
   "metadata": {},
   "outputs": [
    {
     "data": {
      "image/png": "[encoded data removed]",
      "text/plain": [
       "<IPython.core.display.Image object>"
      ]
     },
     "execution_count": 2,
     "metadata": {},
     "output_type": "execute_result"
    }
   ],
   "source": [
    "from IPython.display import Image\n",
    "Image(\"/Users/user/Desktop/tfidf_Tree.png\")\n"
   ]
  },
  {
   "cell_type": "markdown",
   "metadata": {
    "colab_type": "text",
    "id": "WprJvF1l8jNi"
   },
   "source": [
    "# set3 Categorical, Numerical features + Project_title(AVG W2V) + Preprocessed_essay (AVG W2V"
   ]
  },
  {
   "cell_type": "markdown",
   "metadata": {
    "colab_type": "text",
    "id": "te63S6AX8jNi"
   },
   "source": [
    "# A) Simple Cross validation"
   ]
  },
  {
   "cell_type": "code",
   "execution_count": 0,
   "metadata": {
    "colab": {},
    "colab_type": "code",
    "id": "o5K6PsLN8jNi"
   },
   "outputs": [],
   "source": [
    "# merge two sparse matrices: https://stackoverflow.com/a/19710648/4084039\n",
    "from scipy.sparse import hstack\n",
    "\n",
    "X_tr = hstack((categories_one_hot_train, sub_categories_one_hot_train, school_state_categories_one_hot_train, project_grade_categories_one_hot_train, teacher_prefix_categories_one_hot_train, price_train, quantity_train, prev_projects_train, title_word_count_train, essay_word_count_train, avg_w2v_vectors_train, avg_w2v_vectors_titles_train)).tocsr()\n",
    "X_te = hstack((categories_one_hot_test, sub_categories_one_hot_test, school_state_categories_one_hot_test, project_grade_categories_one_hot_test, teacher_prefix_categories_one_hot_test, price_test, quantity_test, prev_projects_test, title_word_count_test, essay_word_count_test, avg_w2v_vectors_test, avg_w2v_vectors_titles_test)).tocsr()\n",
    "X_cr = hstack((categories_one_hot_cv, sub_categories_one_hot_cv, school_state_categories_one_hot_cv, project_grade_categories_one_hot_cv, teacher_prefix_categories_one_hot_cv, price_cv, quantity_cv, prev_projects_cv, title_word_count_cv, essay_word_count_cv, avg_w2v_vectors_cv, avg_w2v_vectors_titles_cv)).tocsr()"
   ]
  },
  {
   "cell_type": "code",
   "execution_count": 0,
   "metadata": {
    "colab": {
     "base_uri": "https://localhost:8080/",
     "height": 122
    },
    "colab_type": "code",
    "id": "yJopWsN68jNj",
    "outputId": "1cb07e93-6dff-41f9-ce3f-d47ccb268d4b"
   },
   "outputs": [
    {
     "name": "stdout",
     "output_type": "stream",
     "text": [
      "Final Data matrix\n",
      "(53531, 705) (53531,)\n",
      "(22942, 705) (22942,)\n",
      "(32775, 705) (32775,)\n",
      "====================================================================================================\n"
     ]
    }
   ],
   "source": [
    "print(\"Final Data matrix\")\n",
    "print(X_tr.shape, y_train.shape)\n",
    "print(X_cr.shape, y_cv.shape)\n",
    "print(X_te.shape, y_test.shape)\n",
    "print(\"=\"*100)"
   ]
  },
  {
   "cell_type": "code",
   "execution_count": 0,
   "metadata": {
    "colab": {
     "base_uri": "https://localhost:8080/",
     "height": 190
    },
    "colab_type": "code",
    "id": "tK15uwXu8jNk",
    "outputId": "1634a2aa-7e53-4c1b-eb84-8dde3c9370f6"
   },
   "outputs": [
    {
     "name": "stderr",
     "output_type": "stream",
     "text": [
      "\n",
      "  0%|          | 0/6 [00:00<?, ?it/s]\u001b[A\n",
      " 17%|█▋        | 1/6 [00:49<04:05, 49.07s/it]\u001b[A\n",
      " 33%|███▎      | 2/6 [04:51<07:08, 107.21s/it]\u001b[A\n",
      " 50%|█████     | 3/6 [16:43<14:25, 288.63s/it]\u001b[A\n",
      " 67%|██████▋   | 4/6 [44:06<23:09, 694.77s/it]\u001b[A\n",
      " 83%|████████▎ | 5/6 [1:12:57<16:45, 1005.69s/it]\u001b[A\n",
      "100%|██████████| 6/6 [1:41:54<00:00, 1225.00s/it]\u001b[A\n",
      "\u001b[A"
     ]
    },
    {
     "name": "stdout",
     "output_type": "stream",
     "text": [
      "[[1, 5, 0.5651920681373825], [1, 10, 0.5651920681373825], [1, 100, 0.5651920681373825], [1, 500, 0.5651920681373825], [5, 5, 0.6615597223508599], [5, 10, 0.6615597223508599], [5, 100, 0.661530660591894], [5, 500, 0.6620380400164231], [10, 5, 0.6247837926377625], [10, 10, 0.6259618843387238], [10, 100, 0.6356114824747021], [10, 500, 0.6532235663821733], [50, 5, 0.544251285400638], [50, 10, 0.5473974888037929], [50, 100, 0.5791541400209297], [50, 500, 0.6371925870646237], [100, 5, 0.5392403313871492], [100, 10, 0.5403407747405098], [100, 100, 0.5732601550701747], [100, 500, 0.6371165208122708], [250, 5, 0.5414034917758845], [250, 10, 0.5457520875672864], [250, 100, 0.5729881234031927], [250, 500, 0.6386586644584757]]\n"
     ]
    }
   ],
   "source": [
    "roc_auc_score_cv_w2v_dict=[]\n",
    "roc_auc_score_train_w2v_dict=[]\n",
    "\n",
    "depth=[1, 5, 10, 50, 100, 250]\n",
    "min_samples_split=[5, 10, 100, 500]\n",
    "\n",
    "for d in tqdm(depth):\n",
    "    for s in min_samples_split:\n",
    "        #create instance of model\n",
    "        dt=DecisionTreeClassifier(max_depth=d,min_samples_split=s,class_weight=\"balanced\")\n",
    "        \n",
    "        #Fit the model on the training set \n",
    "        dt.fit(X_tr,y_train)\n",
    "        \n",
    "        \n",
    "        # predict the response on the crossvalidation train\n",
    "        pred_w2v_cv = dt.predict_proba(X_cr)\n",
    "\n",
    "        #evaluate CV roc_auc\n",
    "        roc_auc_cv =roc_auc_score(y_cv,pred_w2v_cv[:,1])\n",
    "\n",
    "        #insert into dict\n",
    "        roc_auc_score_cv_w2v_dict.append([d,s,roc_auc_cv])\n",
    "\n",
    "         # fitting the model on crossvalidation train\n",
    "        dt.fit(X_tr, y_train)\n",
    "\n",
    "        # predict the response on the train\n",
    "        pred_w2v_train = dt.predict_proba(X_tr)\n",
    "\n",
    "        #evaluate train roc_auc\n",
    "        roc_auc_train =roc_auc_score(y_train,pred_w2v_train[:,1])\n",
    "\n",
    "        #insert into dict\n",
    "        roc_auc_score_train_w2v_dict.append([d,s,roc_auc_train])\n",
    "\n",
    "print(roc_auc_score_cv_w2v_dict)"
   ]
  },
  {
   "cell_type": "code",
   "execution_count": 0,
   "metadata": {
    "colab": {
     "base_uri": "https://localhost:8080/",
     "height": 542
    },
    "colab_type": "code",
    "id": "nbh5WUTs8jNl",
    "outputId": "1b1388ff-dfae-4dda-df70-24a31d38b99f"
   },
   "outputs": [
    {
     "data": {
      "application/vnd.plotly.v1+json": {
       "config": {
        "linkText": "Export to plot.ly",
        "plotlyServerURL": "https://plot.ly",
        "showLink": false
       },
       "data": [
        {
         "name": "Cross val",
         "type": "scatter3d",
         "x": [
          1,
          1,
          1,
          1,
          5,
          5,
          5,
          5,
          10,
          10,
          10,
          10,
          50,
          50,
          50,
          50,
          100,
          100,
          100,
          100,
          250,
          250,
          250,
          250
         ],
         "y": [
          5,
          10,
          100,
          500,
          5,
          10,
          100,
          500,
          5,
          10,
          100,
          500,
          5,
          10,
          100,
          500,
          5,
          10,
          100,
          500,
          5,
          10,
          100,
          500
         ],
         "z": [
          0.5651920681373825,
          0.5651920681373825,
          0.5651920681373825,
          0.5651920681373825,
          0.6615597223508599,
          0.6615597223508599,
          0.661530660591894,
          0.6620380400164231,
          0.6247837926377625,
          0.6259618843387238,
          0.6356114824747021,
          0.6532235663821733,
          0.544251285400638,
          0.5473974888037929,
          0.5791541400209297,
          0.6371925870646237,
          0.5392403313871492,
          0.5403407747405098,
          0.5732601550701747,
          0.6371165208122708,
          0.5414034917758845,
          0.5457520875672864,
          0.5729881234031927,
          0.6386586644584757
         ]
        },
        {
         "name": "train",
         "type": "scatter3d",
         "x": [
          1,
          1,
          1,
          1,
          5,
          5,
          5,
          5,
          10,
          10,
          10,
          10,
          50,
          50,
          50,
          50,
          100,
          100,
          100,
          100,
          250,
          250,
          250,
          250
         ],
         "y": [
          5,
          10,
          100,
          500,
          5,
          10,
          100,
          500,
          5,
          10,
          100,
          500,
          5,
          10,
          100,
          500,
          5,
          10,
          100,
          500,
          5,
          10,
          100,
          500
         ],
         "z": [
          0.567250584384884,
          0.567250584384884,
          0.567250584384884,
          0.567250584384884,
          0.6924624895155935,
          0.6924624895155935,
          0.6921122347622709,
          0.6910404127376201,
          0.8401214095703181,
          0.8389656077242913,
          0.8093601831919601,
          0.7676924158340593,
          0.9991710172149739,
          0.9983292362631493,
          0.9291557313909236,
          0.7969258053712266,
          0.9999815455975569,
          0.9994864138034639,
          0.932726821907452,
          0.7970247344943975,
          0.9999789368031575,
          0.9995802462033757,
          0.9335246037287481,
          0.7970247344943975
         ]
        }
       ],
       "layout": {
        "scene": {
         "xaxis": {
          "title": {
           "text": "max_depth"
          }
         },
         "yaxis": {
          "title": {
           "text": "min_samples_split"
          }
         },
         "zaxis": {
          "title": {
           "text": "AUC"
          }
         }
        },
        "template": {
         "data": {
          "bar": [
           {
            "error_x": {
             "color": "#2a3f5f"
            },
            "error_y": {
             "color": "#2a3f5f"
            },
            "marker": {
             "line": {
              "color": "#E5ECF6",
              "width": 0.5
             }
            },
            "type": "bar"
           }
          ],
          "barpolar": [
           {
            "marker": {
             "line": {
              "color": "#E5ECF6",
              "width": 0.5
             }
            },
            "type": "barpolar"
           }
          ],
          "carpet": [
           {
            "aaxis": {
             "endlinecolor": "#2a3f5f",
             "gridcolor": "white",
             "linecolor": "white",
             "minorgridcolor": "white",
             "startlinecolor": "#2a3f5f"
            },
            "baxis": {
             "endlinecolor": "#2a3f5f",
             "gridcolor": "white",
             "linecolor": "white",
             "minorgridcolor": "white",
             "startlinecolor": "#2a3f5f"
            },
            "type": "carpet"
           }
          ],
          "choropleth": [
           {
            "colorbar": {
             "outlinewidth": 0,
             "ticks": ""
            },
            "type": "choropleth"
           }
          ],
          "contour": [
           {
            "colorbar": {
             "outlinewidth": 0,
             "ticks": ""
            },
            "colorscale": [
             [
              0,
              "#0d0887"
             ],
             [
              0.1111111111111111,
              "#46039f"
             ],
             [
              0.2222222222222222,
              "#7201a8"
             ],
             [
              0.3333333333333333,
              "#9c179e"
             ],
             [
              0.4444444444444444,
              "#bd3786"
             ],
             [
              0.5555555555555556,
              "#d8576b"
             ],
             [
              0.6666666666666666,
              "#ed7953"
             ],
             [
              0.7777777777777778,
              "#fb9f3a"
             ],
             [
              0.8888888888888888,
              "#fdca26"
             ],
             [
              1,
              "#f0f921"
             ]
            ],
            "type": "contour"
           }
          ],
          "contourcarpet": [
           {
            "colorbar": {
             "outlinewidth": 0,
             "ticks": ""
            },
            "type": "contourcarpet"
           }
          ],
          "heatmap": [
           {
            "colorbar": {
             "outlinewidth": 0,
             "ticks": ""
            },
            "colorscale": [
             [
              0,
              "#0d0887"
             ],
             [
              0.1111111111111111,
              "#46039f"
             ],
             [
              0.2222222222222222,
              "#7201a8"
             ],
             [
              0.3333333333333333,
              "#9c179e"
             ],
             [
              0.4444444444444444,
              "#bd3786"
             ],
             [
              0.5555555555555556,
              "#d8576b"
             ],
             [
              0.6666666666666666,
              "#ed7953"
             ],
             [
              0.7777777777777778,
              "#fb9f3a"
             ],
             [
              0.8888888888888888,
              "#fdca26"
             ],
             [
              1,
              "#f0f921"
             ]
            ],
            "type": "heatmap"
           }
          ],
          "heatmapgl": [
           {
            "colorbar": {
             "outlinewidth": 0,
             "ticks": ""
            },
            "colorscale": [
             [
              0,
              "#0d0887"
             ],
             [
              0.1111111111111111,
              "#46039f"
             ],
             [
              0.2222222222222222,
              "#7201a8"
             ],
             [
              0.3333333333333333,
              "#9c179e"
             ],
             [
              0.4444444444444444,
              "#bd3786"
             ],
             [
              0.5555555555555556,
              "#d8576b"
             ],
             [
              0.6666666666666666,
              "#ed7953"
             ],
             [
              0.7777777777777778,
              "#fb9f3a"
             ],
             [
              0.8888888888888888,
              "#fdca26"
             ],
             [
              1,
              "#f0f921"
             ]
            ],
            "type": "heatmapgl"
           }
          ],
          "histogram": [
           {
            "marker": {
             "colorbar": {
              "outlinewidth": 0,
              "ticks": ""
             }
            },
            "type": "histogram"
           }
          ],
          "histogram2d": [
           {
            "colorbar": {
             "outlinewidth": 0,
             "ticks": ""
            },
            "colorscale": [
             [
              0,
              "#0d0887"
             ],
             [
              0.1111111111111111,
              "#46039f"
             ],
             [
              0.2222222222222222,
              "#7201a8"
             ],
             [
              0.3333333333333333,
              "#9c179e"
             ],
             [
              0.4444444444444444,
              "#bd3786"
             ],
             [
              0.5555555555555556,
              "#d8576b"
             ],
             [
              0.6666666666666666,
              "#ed7953"
             ],
             [
              0.7777777777777778,
              "#fb9f3a"
             ],
             [
              0.8888888888888888,
              "#fdca26"
             ],
             [
              1,
              "#f0f921"
             ]
            ],
            "type": "histogram2d"
           }
          ],
          "histogram2dcontour": [
           {
            "colorbar": {
             "outlinewidth": 0,
             "ticks": ""
            },
            "colorscale": [
             [
              0,
              "#0d0887"
             ],
             [
              0.1111111111111111,
              "#46039f"
             ],
             [
              0.2222222222222222,
              "#7201a8"
             ],
             [
              0.3333333333333333,
              "#9c179e"
             ],
             [
              0.4444444444444444,
              "#bd3786"
             ],
             [
              0.5555555555555556,
              "#d8576b"
             ],
             [
              0.6666666666666666,
              "#ed7953"
             ],
             [
              0.7777777777777778,
              "#fb9f3a"
             ],
             [
              0.8888888888888888,
              "#fdca26"
             ],
             [
              1,
              "#f0f921"
             ]
            ],
            "type": "histogram2dcontour"
           }
          ],
          "mesh3d": [
           {
            "colorbar": {
             "outlinewidth": 0,
             "ticks": ""
            },
            "type": "mesh3d"
           }
          ],
          "parcoords": [
           {
            "line": {
             "colorbar": {
              "outlinewidth": 0,
              "ticks": ""
             }
            },
            "type": "parcoords"
           }
          ],
          "scatter": [
           {
            "marker": {
             "colorbar": {
              "outlinewidth": 0,
              "ticks": ""
             }
            },
            "type": "scatter"
           }
          ],
          "scatter3d": [
           {
            "line": {
             "colorbar": {
              "outlinewidth": 0,
              "ticks": ""
             }
            },
            "marker": {
             "colorbar": {
              "outlinewidth": 0,
              "ticks": ""
             }
            },
            "type": "scatter3d"
           }
          ],
          "scattercarpet": [
           {
            "marker": {
             "colorbar": {
              "outlinewidth": 0,
              "ticks": ""
             }
            },
            "type": "scattercarpet"
           }
          ],
          "scattergeo": [
           {
            "marker": {
             "colorbar": {
              "outlinewidth": 0,
              "ticks": ""
             }
            },
            "type": "scattergeo"
           }
          ],
          "scattergl": [
           {
            "marker": {
             "colorbar": {
              "outlinewidth": 0,
              "ticks": ""
             }
            },
            "type": "scattergl"
           }
          ],
          "scattermapbox": [
           {
            "marker": {
             "colorbar": {
              "outlinewidth": 0,
              "ticks": ""
             }
            },
            "type": "scattermapbox"
           }
          ],
          "scatterpolar": [
           {
            "marker": {
             "colorbar": {
              "outlinewidth": 0,
              "ticks": ""
             }
            },
            "type": "scatterpolar"
           }
          ],
          "scatterpolargl": [
           {
            "marker": {
             "colorbar": {
              "outlinewidth": 0,
              "ticks": ""
             }
            },
            "type": "scatterpolargl"
           }
          ],
          "scatterternary": [
           {
            "marker": {
             "colorbar": {
              "outlinewidth": 0,
              "ticks": ""
             }
            },
            "type": "scatterternary"
           }
          ],
          "surface": [
           {
            "colorbar": {
             "outlinewidth": 0,
             "ticks": ""
            },
            "colorscale": [
             [
              0,
              "#0d0887"
             ],
             [
              0.1111111111111111,
              "#46039f"
             ],
             [
              0.2222222222222222,
              "#7201a8"
             ],
             [
              0.3333333333333333,
              "#9c179e"
             ],
             [
              0.4444444444444444,
              "#bd3786"
             ],
             [
              0.5555555555555556,
              "#d8576b"
             ],
             [
              0.6666666666666666,
              "#ed7953"
             ],
             [
              0.7777777777777778,
              "#fb9f3a"
             ],
             [
              0.8888888888888888,
              "#fdca26"
             ],
             [
              1,
              "#f0f921"
             ]
            ],
            "type": "surface"
           }
          ],
          "table": [
           {
            "cells": {
             "fill": {
              "color": "#EBF0F8"
             },
             "line": {
              "color": "white"
             }
            },
            "header": {
             "fill": {
              "color": "#C8D4E3"
             },
             "line": {
              "color": "white"
             }
            },
            "type": "table"
           }
          ]
         },
         "layout": {
          "annotationdefaults": {
           "arrowcolor": "#2a3f5f",
           "arrowhead": 0,
           "arrowwidth": 1
          },
          "colorscale": {
           "diverging": [
            [
             0,
             "#8e0152"
            ],
            [
             0.1,
             "#c51b7d"
            ],
            [
             0.2,
             "#de77ae"
            ],
            [
             0.3,
             "#f1b6da"
            ],
            [
             0.4,
             "#fde0ef"
            ],
            [
             0.5,
             "#f7f7f7"
            ],
            [
             0.6,
             "#e6f5d0"
            ],
            [
             0.7,
             "#b8e186"
            ],
            [
             0.8,
             "#7fbc41"
            ],
            [
             0.9,
             "#4d9221"
            ],
            [
             1,
             "#276419"
            ]
           ],
           "sequential": [
            [
             0,
             "#0d0887"
            ],
            [
             0.1111111111111111,
             "#46039f"
            ],
            [
             0.2222222222222222,
             "#7201a8"
            ],
            [
             0.3333333333333333,
             "#9c179e"
            ],
            [
             0.4444444444444444,
             "#bd3786"
            ],
            [
             0.5555555555555556,
             "#d8576b"
            ],
            [
             0.6666666666666666,
             "#ed7953"
            ],
            [
             0.7777777777777778,
             "#fb9f3a"
            ],
            [
             0.8888888888888888,
             "#fdca26"
            ],
            [
             1,
             "#f0f921"
            ]
           ],
           "sequentialminus": [
            [
             0,
             "#0d0887"
            ],
            [
             0.1111111111111111,
             "#46039f"
            ],
            [
             0.2222222222222222,
             "#7201a8"
            ],
            [
             0.3333333333333333,
             "#9c179e"
            ],
            [
             0.4444444444444444,
             "#bd3786"
            ],
            [
             0.5555555555555556,
             "#d8576b"
            ],
            [
             0.6666666666666666,
             "#ed7953"
            ],
            [
             0.7777777777777778,
             "#fb9f3a"
            ],
            [
             0.8888888888888888,
             "#fdca26"
            ],
            [
             1,
             "#f0f921"
            ]
           ]
          },
          "colorway": [
           "#636efa",
           "#EF553B",
           "#00cc96",
           "#ab63fa",
           "#FFA15A",
           "#19d3f3",
           "#FF6692",
           "#B6E880",
           "#FF97FF",
           "#FECB52"
          ],
          "font": {
           "color": "#2a3f5f"
          },
          "geo": {
           "bgcolor": "white",
           "lakecolor": "white",
           "landcolor": "#E5ECF6",
           "showlakes": true,
           "showland": true,
           "subunitcolor": "white"
          },
          "hoverlabel": {
           "align": "left"
          },
          "hovermode": "closest",
          "mapbox": {
           "style": "light"
          },
          "paper_bgcolor": "white",
          "plot_bgcolor": "#E5ECF6",
          "polar": {
           "angularaxis": {
            "gridcolor": "white",
            "linecolor": "white",
            "ticks": ""
           },
           "bgcolor": "#E5ECF6",
           "radialaxis": {
            "gridcolor": "white",
            "linecolor": "white",
            "ticks": ""
           }
          },
          "scene": {
           "xaxis": {
            "backgroundcolor": "#E5ECF6",
            "gridcolor": "white",
            "gridwidth": 2,
            "linecolor": "white",
            "showbackground": true,
            "ticks": "",
            "zerolinecolor": "white"
           },
           "yaxis": {
            "backgroundcolor": "#E5ECF6",
            "gridcolor": "white",
            "gridwidth": 2,
            "linecolor": "white",
            "showbackground": true,
            "ticks": "",
            "zerolinecolor": "white"
           },
           "zaxis": {
            "backgroundcolor": "#E5ECF6",
            "gridcolor": "white",
            "gridwidth": 2,
            "linecolor": "white",
            "showbackground": true,
            "ticks": "",
            "zerolinecolor": "white"
           }
          },
          "shapedefaults": {
           "line": {
            "color": "#2a3f5f"
           }
          },
          "ternary": {
           "aaxis": {
            "gridcolor": "white",
            "linecolor": "white",
            "ticks": ""
           },
           "baxis": {
            "gridcolor": "white",
            "linecolor": "white",
            "ticks": ""
           },
           "bgcolor": "#E5ECF6",
           "caxis": {
            "gridcolor": "white",
            "linecolor": "white",
            "ticks": ""
           }
          },
          "title": {
           "x": 0.05
          },
          "xaxis": {
           "automargin": true,
           "gridcolor": "white",
           "linecolor": "white",
           "ticks": "",
           "zerolinecolor": "white",
           "zerolinewidth": 2
          },
          "yaxis": {
           "automargin": true,
           "gridcolor": "white",
           "linecolor": "white",
           "ticks": "",
           "zerolinecolor": "white",
           "zerolinewidth": 2
          }
         }
        },
        "title": {
         "text": "Depth vs split size vs AUC(W2V)"
        }
       }
      },
      "text/html": [
       "<div>\n",
       "        \n",
       "        \n",
       "            <div id=\"ace6535b-544b-441e-87c4-1f3bfd8d04c8\" class=\"plotly-graph-div\" style=\"height:525px; width:100%;\"></div>\n",
       "            <script type=\"text/javascript\">\n",
       "                require([\"plotly\"], function(Plotly) {\n",
       "                    window.PLOTLYENV=window.PLOTLYENV || {};\n",
       "                    \n",
       "                if (document.getElementById(\"ace6535b-544b-441e-87c4-1f3bfd8d04c8\")) {\n",
       "                    Plotly.newPlot(\n",
       "                        'ace6535b-544b-441e-87c4-1f3bfd8d04c8',\n",
       "                        [{\"name\": \"Cross val\", \"type\": \"scatter3d\", \"x\": [1, 1, 1, 1, 5, 5, 5, 5, 10, 10, 10, 10, 50, 50, 50, 50, 100, 100, 100, 100, 250, 250, 250, 250], \"y\": [5, 10, 100, 500, 5, 10, 100, 500, 5, 10, 100, 500, 5, 10, 100, 500, 5, 10, 100, 500, 5, 10, 100, 500], \"z\": [0.5651920681373825, 0.5651920681373825, 0.5651920681373825, 0.5651920681373825, 0.6615597223508599, 0.6615597223508599, 0.661530660591894, 0.6620380400164231, 0.6247837926377625, 0.6259618843387238, 0.6356114824747021, 0.6532235663821733, 0.544251285400638, 0.5473974888037929, 0.5791541400209297, 0.6371925870646237, 0.5392403313871492, 0.5403407747405098, 0.5732601550701747, 0.6371165208122708, 0.5414034917758845, 0.5457520875672864, 0.5729881234031927, 0.6386586644584757]}, {\"name\": \"train\", \"type\": \"scatter3d\", \"x\": [1, 1, 1, 1, 5, 5, 5, 5, 10, 10, 10, 10, 50, 50, 50, 50, 100, 100, 100, 100, 250, 250, 250, 250], \"y\": [5, 10, 100, 500, 5, 10, 100, 500, 5, 10, 100, 500, 5, 10, 100, 500, 5, 10, 100, 500, 5, 10, 100, 500], \"z\": [0.567250584384884, 0.567250584384884, 0.567250584384884, 0.567250584384884, 0.6924624895155935, 0.6924624895155935, 0.6921122347622709, 0.6910404127376201, 0.8401214095703181, 0.8389656077242913, 0.8093601831919601, 0.7676924158340593, 0.9991710172149739, 0.9983292362631493, 0.9291557313909236, 0.7969258053712266, 0.9999815455975569, 0.9994864138034639, 0.932726821907452, 0.7970247344943975, 0.9999789368031575, 0.9995802462033757, 0.9335246037287481, 0.7970247344943975]}],\n",
       "                        {\"scene\": {\"xaxis\": {\"title\": {\"text\": \"max_depth\"}}, \"yaxis\": {\"title\": {\"text\": \"min_samples_split\"}}, \"zaxis\": {\"title\": {\"text\": \"AUC\"}}}, \"template\": {\"data\": {\"bar\": [{\"error_x\": {\"color\": \"#2a3f5f\"}, \"error_y\": {\"color\": \"#2a3f5f\"}, \"marker\": {\"line\": {\"color\": \"#E5ECF6\", \"width\": 0.5}}, \"type\": \"bar\"}], \"barpolar\": [{\"marker\": {\"line\": {\"color\": \"#E5ECF6\", \"width\": 0.5}}, \"type\": \"barpolar\"}], \"carpet\": [{\"aaxis\": {\"endlinecolor\": \"#2a3f5f\", \"gridcolor\": \"white\", \"linecolor\": \"white\", \"minorgridcolor\": \"white\", \"startlinecolor\": \"#2a3f5f\"}, \"baxis\": {\"endlinecolor\": \"#2a3f5f\", \"gridcolor\": \"white\", \"linecolor\": \"white\", \"minorgridcolor\": \"white\", \"startlinecolor\": \"#2a3f5f\"}, \"type\": \"carpet\"}], \"choropleth\": [{\"colorbar\": {\"outlinewidth\": 0, \"ticks\": \"\"}, \"type\": \"choropleth\"}], \"contour\": [{\"colorbar\": {\"outlinewidth\": 0, \"ticks\": \"\"}, \"colorscale\": [[0.0, \"#0d0887\"], [0.1111111111111111, \"#46039f\"], [0.2222222222222222, \"#7201a8\"], [0.3333333333333333, \"#9c179e\"], [0.4444444444444444, \"#bd3786\"], [0.5555555555555556, \"#d8576b\"], [0.6666666666666666, \"#ed7953\"], [0.7777777777777778, \"#fb9f3a\"], [0.8888888888888888, \"#fdca26\"], [1.0, \"#f0f921\"]], \"type\": \"contour\"}], \"contourcarpet\": [{\"colorbar\": {\"outlinewidth\": 0, \"ticks\": \"\"}, \"type\": \"contourcarpet\"}], \"heatmap\": [{\"colorbar\": {\"outlinewidth\": 0, \"ticks\": \"\"}, \"colorscale\": [[0.0, \"#0d0887\"], [0.1111111111111111, \"#46039f\"], [0.2222222222222222, \"#7201a8\"], [0.3333333333333333, \"#9c179e\"], [0.4444444444444444, \"#bd3786\"], [0.5555555555555556, \"#d8576b\"], [0.6666666666666666, \"#ed7953\"], [0.7777777777777778, \"#fb9f3a\"], [0.8888888888888888, \"#fdca26\"], [1.0, \"#f0f921\"]], \"type\": \"heatmap\"}], \"heatmapgl\": [{\"colorbar\": {\"outlinewidth\": 0, \"ticks\": \"\"}, \"colorscale\": [[0.0, \"#0d0887\"], [0.1111111111111111, \"#46039f\"], [0.2222222222222222, \"#7201a8\"], [0.3333333333333333, \"#9c179e\"], [0.4444444444444444, \"#bd3786\"], [0.5555555555555556, \"#d8576b\"], [0.6666666666666666, \"#ed7953\"], [0.7777777777777778, \"#fb9f3a\"], [0.8888888888888888, \"#fdca26\"], [1.0, \"#f0f921\"]], \"type\": \"heatmapgl\"}], \"histogram\": [{\"marker\": {\"colorbar\": {\"outlinewidth\": 0, \"ticks\": \"\"}}, \"type\": \"histogram\"}], \"histogram2d\": [{\"colorbar\": {\"outlinewidth\": 0, \"ticks\": \"\"}, \"colorscale\": [[0.0, \"#0d0887\"], [0.1111111111111111, \"#46039f\"], [0.2222222222222222, \"#7201a8\"], [0.3333333333333333, \"#9c179e\"], [0.4444444444444444, \"#bd3786\"], [0.5555555555555556, \"#d8576b\"], [0.6666666666666666, \"#ed7953\"], [0.7777777777777778, \"#fb9f3a\"], [0.8888888888888888, \"#fdca26\"], [1.0, \"#f0f921\"]], \"type\": \"histogram2d\"}], \"histogram2dcontour\": [{\"colorbar\": {\"outlinewidth\": 0, \"ticks\": \"\"}, \"colorscale\": [[0.0, \"#0d0887\"], [0.1111111111111111, \"#46039f\"], [0.2222222222222222, \"#7201a8\"], [0.3333333333333333, \"#9c179e\"], [0.4444444444444444, \"#bd3786\"], [0.5555555555555556, \"#d8576b\"], [0.6666666666666666, \"#ed7953\"], [0.7777777777777778, \"#fb9f3a\"], [0.8888888888888888, \"#fdca26\"], [1.0, \"#f0f921\"]], \"type\": \"histogram2dcontour\"}], \"mesh3d\": [{\"colorbar\": {\"outlinewidth\": 0, \"ticks\": \"\"}, \"type\": \"mesh3d\"}], \"parcoords\": [{\"line\": {\"colorbar\": {\"outlinewidth\": 0, \"ticks\": \"\"}}, \"type\": \"parcoords\"}], \"scatter\": [{\"marker\": {\"colorbar\": {\"outlinewidth\": 0, \"ticks\": \"\"}}, \"type\": \"scatter\"}], \"scatter3d\": [{\"line\": {\"colorbar\": {\"outlinewidth\": 0, \"ticks\": \"\"}}, \"marker\": {\"colorbar\": {\"outlinewidth\": 0, \"ticks\": \"\"}}, \"type\": \"scatter3d\"}], \"scattercarpet\": [{\"marker\": {\"colorbar\": {\"outlinewidth\": 0, \"ticks\": \"\"}}, \"type\": \"scattercarpet\"}], \"scattergeo\": [{\"marker\": {\"colorbar\": {\"outlinewidth\": 0, \"ticks\": \"\"}}, \"type\": \"scattergeo\"}], \"scattergl\": [{\"marker\": {\"colorbar\": {\"outlinewidth\": 0, \"ticks\": \"\"}}, \"type\": \"scattergl\"}], \"scattermapbox\": [{\"marker\": {\"colorbar\": {\"outlinewidth\": 0, \"ticks\": \"\"}}, \"type\": \"scattermapbox\"}], \"scatterpolar\": [{\"marker\": {\"colorbar\": {\"outlinewidth\": 0, \"ticks\": \"\"}}, \"type\": \"scatterpolar\"}], \"scatterpolargl\": [{\"marker\": {\"colorbar\": {\"outlinewidth\": 0, \"ticks\": \"\"}}, \"type\": \"scatterpolargl\"}], \"scatterternary\": [{\"marker\": {\"colorbar\": {\"outlinewidth\": 0, \"ticks\": \"\"}}, \"type\": \"scatterternary\"}], \"surface\": [{\"colorbar\": {\"outlinewidth\": 0, \"ticks\": \"\"}, \"colorscale\": [[0.0, \"#0d0887\"], [0.1111111111111111, \"#46039f\"], [0.2222222222222222, \"#7201a8\"], [0.3333333333333333, \"#9c179e\"], [0.4444444444444444, \"#bd3786\"], [0.5555555555555556, \"#d8576b\"], [0.6666666666666666, \"#ed7953\"], [0.7777777777777778, \"#fb9f3a\"], [0.8888888888888888, \"#fdca26\"], [1.0, \"#f0f921\"]], \"type\": \"surface\"}], \"table\": [{\"cells\": {\"fill\": {\"color\": \"#EBF0F8\"}, \"line\": {\"color\": \"white\"}}, \"header\": {\"fill\": {\"color\": \"#C8D4E3\"}, \"line\": {\"color\": \"white\"}}, \"type\": \"table\"}]}, \"layout\": {\"annotationdefaults\": {\"arrowcolor\": \"#2a3f5f\", \"arrowhead\": 0, \"arrowwidth\": 1}, \"colorscale\": {\"diverging\": [[0, \"#8e0152\"], [0.1, \"#c51b7d\"], [0.2, \"#de77ae\"], [0.3, \"#f1b6da\"], [0.4, \"#fde0ef\"], [0.5, \"#f7f7f7\"], [0.6, \"#e6f5d0\"], [0.7, \"#b8e186\"], [0.8, \"#7fbc41\"], [0.9, \"#4d9221\"], [1, \"#276419\"]], \"sequential\": [[0.0, \"#0d0887\"], [0.1111111111111111, \"#46039f\"], [0.2222222222222222, \"#7201a8\"], [0.3333333333333333, \"#9c179e\"], [0.4444444444444444, \"#bd3786\"], [0.5555555555555556, \"#d8576b\"], [0.6666666666666666, \"#ed7953\"], [0.7777777777777778, \"#fb9f3a\"], [0.8888888888888888, \"#fdca26\"], [1.0, \"#f0f921\"]], \"sequentialminus\": [[0.0, \"#0d0887\"], [0.1111111111111111, \"#46039f\"], [0.2222222222222222, \"#7201a8\"], [0.3333333333333333, \"#9c179e\"], [0.4444444444444444, \"#bd3786\"], [0.5555555555555556, \"#d8576b\"], [0.6666666666666666, \"#ed7953\"], [0.7777777777777778, \"#fb9f3a\"], [0.8888888888888888, \"#fdca26\"], [1.0, \"#f0f921\"]]}, \"colorway\": [\"#636efa\", \"#EF553B\", \"#00cc96\", \"#ab63fa\", \"#FFA15A\", \"#19d3f3\", \"#FF6692\", \"#B6E880\", \"#FF97FF\", \"#FECB52\"], \"font\": {\"color\": \"#2a3f5f\"}, \"geo\": {\"bgcolor\": \"white\", \"lakecolor\": \"white\", \"landcolor\": \"#E5ECF6\", \"showlakes\": true, \"showland\": true, \"subunitcolor\": \"white\"}, \"hoverlabel\": {\"align\": \"left\"}, \"hovermode\": \"closest\", \"mapbox\": {\"style\": \"light\"}, \"paper_bgcolor\": \"white\", \"plot_bgcolor\": \"#E5ECF6\", \"polar\": {\"angularaxis\": {\"gridcolor\": \"white\", \"linecolor\": \"white\", \"ticks\": \"\"}, \"bgcolor\": \"#E5ECF6\", \"radialaxis\": {\"gridcolor\": \"white\", \"linecolor\": \"white\", \"ticks\": \"\"}}, \"scene\": {\"xaxis\": {\"backgroundcolor\": \"#E5ECF6\", \"gridcolor\": \"white\", \"gridwidth\": 2, \"linecolor\": \"white\", \"showbackground\": true, \"ticks\": \"\", \"zerolinecolor\": \"white\"}, \"yaxis\": {\"backgroundcolor\": \"#E5ECF6\", \"gridcolor\": \"white\", \"gridwidth\": 2, \"linecolor\": \"white\", \"showbackground\": true, \"ticks\": \"\", \"zerolinecolor\": \"white\"}, \"zaxis\": {\"backgroundcolor\": \"#E5ECF6\", \"gridcolor\": \"white\", \"gridwidth\": 2, \"linecolor\": \"white\", \"showbackground\": true, \"ticks\": \"\", \"zerolinecolor\": \"white\"}}, \"shapedefaults\": {\"line\": {\"color\": \"#2a3f5f\"}}, \"ternary\": {\"aaxis\": {\"gridcolor\": \"white\", \"linecolor\": \"white\", \"ticks\": \"\"}, \"baxis\": {\"gridcolor\": \"white\", \"linecolor\": \"white\", \"ticks\": \"\"}, \"bgcolor\": \"#E5ECF6\", \"caxis\": {\"gridcolor\": \"white\", \"linecolor\": \"white\", \"ticks\": \"\"}}, \"title\": {\"x\": 0.05}, \"xaxis\": {\"automargin\": true, \"gridcolor\": \"white\", \"linecolor\": \"white\", \"ticks\": \"\", \"zerolinecolor\": \"white\", \"zerolinewidth\": 2}, \"yaxis\": {\"automargin\": true, \"gridcolor\": \"white\", \"linecolor\": \"white\", \"ticks\": \"\", \"zerolinecolor\": \"white\", \"zerolinewidth\": 2}}}, \"title\": {\"text\": \"Depth vs split size vs AUC(W2V)\"}},\n",
       "                        {\"responsive\": true}\n",
       "                    ).then(function(){\n",
       "                            \n",
       "var gd = document.getElementById('ace6535b-544b-441e-87c4-1f3bfd8d04c8');\n",
       "var x = new MutationObserver(function (mutations, observer) {{\n",
       "        var display = window.getComputedStyle(gd).display;\n",
       "        if (!display || display === 'none') {{\n",
       "            console.log([gd, 'removed!']);\n",
       "            Plotly.purge(gd);\n",
       "            observer.disconnect();\n",
       "        }}\n",
       "}});\n",
       "\n",
       "// Listen for the removal of the full notebook cells\n",
       "var notebookContainer = gd.closest('#notebook-container');\n",
       "if (notebookContainer) {{\n",
       "    x.observe(notebookContainer, {childList: true});\n",
       "}}\n",
       "\n",
       "// Listen for the clearing of the current output cell\n",
       "var outputEl = gd.closest('.output');\n",
       "if (outputEl) {{\n",
       "    x.observe(outputEl, {childList: true});\n",
       "}}\n",
       "\n",
       "                        })\n",
       "                };\n",
       "                });\n",
       "            </script>\n",
       "        </div>"
      ]
     },
     "metadata": {
      "tags": []
     },
     "output_type": "display_data"
    }
   ],
   "source": [
    "x1=[]\n",
    "y1=[]\n",
    "z1=[]\n",
    "\n",
    "x2=[]\n",
    "y2=[]\n",
    "z2=[]\n",
    "\n",
    "for value in roc_auc_score_cv_w2v_dict:\n",
    "    x1.append(value[0])\n",
    "    y1.append(value[1])\n",
    "    z1.append(value[2])\n",
    "    \n",
    "for value in roc_auc_score_train_w2v_dict:\n",
    "    x2.append(value[0])\n",
    "    y2.append(value[1])\n",
    "    z2.append(value[2])\n",
    "    \n",
    "# https://plot.ly/python/3d-axes/\n",
    "trace1 = go.Scatter3d(x=x1,y=y1,z=z1, name = 'Cross val')\n",
    "trace2 = go.Scatter3d(x=x2,y=y2,z=z2, name = 'train')\n",
    "data = [trace1, trace2]\n",
    "\n",
    "layout = go.Layout(title='Depth vs split size vs AUC(W2V)',scene = dict(\n",
    "        xaxis = dict(title='max_depth'),\n",
    "        yaxis = dict(title='min_samples_split'),\n",
    "        zaxis = dict(title='AUC'),))\n",
    "\n",
    "fig = go.Figure(data=data, layout=layout)\n",
    "offline.iplot(fig, filename='3d-scatter-colorscale')"
   ]
  },
  {
   "cell_type": "code",
   "execution_count": 0,
   "metadata": {
    "colab": {
     "base_uri": "https://localhost:8080/",
     "height": 34
    },
    "colab_type": "code",
    "id": "D6sq75ET8jNm",
    "outputId": "ec812385-b2f9-4be9-e97c-a4675d2acdf6"
   },
   "outputs": [
    {
     "data": {
      "text/plain": [
       "{'depth': 5, 'sample': 500}"
      ]
     },
     "execution_count": 126,
     "metadata": {
      "tags": []
     },
     "output_type": "execute_result"
    }
   ],
   "source": [
    "\n",
    "find_optimal(roc_auc_score_cv_w2v_dict)"
   ]
  },
  {
   "cell_type": "markdown",
   "metadata": {
    "colab_type": "text",
    "id": "bq82kcO08jNt"
   },
   "source": [
    "<img src='https://github.com/Kunal-Varma/Decision-Trees/blob/master/set_3_AUC.png?raw=1' width=800px>"
   ]
  },
  {
   "cell_type": "markdown",
   "metadata": {
    "colab_type": "text",
    "id": "a2labkOB8jNu"
   },
   "source": [
    "# Summary"
   ]
  },
  {
   "cell_type": "markdown",
   "metadata": {
    "colab_type": "text",
    "id": "-THEdTEz8jNv"
   },
   "source": [
    "- We obtain best parameters as depth as 5 and sample per split as 500"
   ]
  },
  {
   "cell_type": "markdown",
   "metadata": {
    "colab_type": "text",
    "id": "Xa67dVg48jNw"
   },
   "source": [
    " # B) training model using best hyperparameter value"
   ]
  },
  {
   "cell_type": "code",
   "execution_count": 0,
   "metadata": {
    "colab": {
     "base_uri": "https://localhost:8080/",
     "height": 295
    },
    "colab_type": "code",
    "id": "7ub0WDwB8jNx",
    "outputId": "b86049d9-04c0-49ce-c266-3b10b8073e83"
   },
   "outputs": [
    {
     "data": {
      "image/png": "[encoded data removed]",
      "text/plain": [
       "<Figure size 432x288 with 1 Axes>"
      ]
     },
     "metadata": {
      "tags": []
     },
     "output_type": "display_data"
    }
   ],
   "source": [
    "\n",
    "# train model on the best alpha\n",
    "lr = DecisionTreeClassifier(max_depth=find_optimal(roc_auc_score_cv_w2v_dict)['depth'],min_samples_split=find_optimal(roc_auc_score_cv_w2v_dict)['sample'],class_weight=\"balanced\")\n",
    "\n",
    "# fitting the model on crossvalidation train\n",
    "lr.fit(X_tr, y_train)\n",
    "\n",
    "# predict the response on the crossvalidation train\n",
    "pred_w2v_test = lr.predict(X_te)\n",
    "pred_w2v_train = lr.predict(X_tr)\n",
    "\n",
    "#https://stackoverflow.com/questions/52910061/implementing-roc-curves-for-k-nn-machine-learning-algorithm-using-python-and-scip_scores = knn.predict_proba(X_test)\n",
    "pred_w2v_test_scores=lr.predict_proba(X_te)\n",
    "pred_w2v_train_scores=lr.predict_proba(X_tr)\n",
    "\n",
    "fpr_test, tpr_test, threshold_test = roc_curve(y_test, pred_w2v_test_scores[:, 1])\n",
    "fpr_train, tpr_train, threshold_train = roc_curve(y_train, pred_w2v_train_scores[:, 1])\n",
    "roc_auc_test = auc(fpr_test, tpr_test)\n",
    "roc_auc_train = auc(fpr_train, tpr_train)\n",
    "plt.title('Receiver Operating Characteristic')\n",
    "plt.plot(fpr_test, tpr_test, 'r', label = 'AUC_test = %0.2f' % roc_auc_test)\n",
    "plt.plot(fpr_train, tpr_train, 'b', label = 'AUC_train = %0.2f' % roc_auc_train)\n",
    "plt.legend(loc = 'lower right')\n",
    "plt.plot([0, 1], [0, 1],'g--')\n",
    "plt.xlim([0, 1])\n",
    "plt.ylim([0, 1])\n",
    "plt.ylabel('True Positive Rate')\n",
    "plt.xlabel('False Positive Rate')\n",
    "plt.title('ROC Curve of W2V-LR')\n",
    "plt.grid(color='b', linestyle='-', linewidth=0.5)\n",
    "plt.show()"
   ]
  },
  {
   "cell_type": "markdown",
   "metadata": {
    "colab_type": "text",
    "id": "wk6uzLqm8jN0"
   },
   "source": [
    "# Summary"
   ]
  },
  {
   "cell_type": "markdown",
   "metadata": {
    "colab_type": "text",
    "id": "RIGwV2R98jN0"
   },
   "source": [
    "- We get Test AUC of 0.66"
   ]
  },
  {
   "cell_type": "markdown",
   "metadata": {
    "colab_type": "text",
    "id": "4A-jUZ-Q8jN1"
   },
   "source": [
    "# confusion matrix"
   ]
  },
  {
   "cell_type": "markdown",
   "metadata": {
    "colab_type": "text",
    "id": "OI1SX4xS8jN1"
   },
   "source": [
    "## train data"
   ]
  },
  {
   "cell_type": "code",
   "execution_count": 0,
   "metadata": {
    "colab": {
     "base_uri": "https://localhost:8080/",
     "height": 330
    },
    "colab_type": "code",
    "id": "UBmvoYb38jN2",
    "outputId": "ee9746cd-d1f4-4792-e78d-ab40990ea720"
   },
   "outputs": [
    {
     "name": "stdout",
     "output_type": "stream",
     "text": [
      "Training CM for W2V\n"
     ]
    },
    {
     "data": {
      "image/png": "[encoded data removed]",
      "text/plain": [
       "<Figure size 432x288 with 2 Axes>"
      ]
     },
     "metadata": {
      "tags": []
     },
     "output_type": "display_data"
    },
    {
     "name": "stdout",
     "output_type": "stream",
     "text": [
      "==================================================\n"
     ]
    }
   ],
   "source": [
    "\n",
    "from sklearn.metrics import accuracy_score\n",
    "\n",
    "#https://scikit-learn.org/stable/modules/generated/sklearn.metrics.confusion_matrix.html\n",
    "from sklearn.metrics import confusion_matrix\n",
    "print(\"Training CM for W2V\")\n",
    "cm =confusion_matrix(y_train, pred_w2v_train, labels=None, sample_weight=None)\n",
    "sns.heatmap(cm, annot=True,fmt=\"d\",cmap=\"YlGnBu\")\n",
    "plt.title('DT \\nAccuracy:{0:.3f}'.format(accuracy_score(y_train, pred_w2v_train)))\n",
    "plt.show()\n",
    "print(\"=\"*50)\n"
   ]
  },
  {
   "cell_type": "markdown",
   "metadata": {
    "colab_type": "text",
    "id": "Y9DkDWVj8jN5"
   },
   "source": [
    "# Summary"
   ]
  },
  {
   "cell_type": "markdown",
   "metadata": {
    "colab_type": "text",
    "id": "TX4LRheF8jN6"
   },
   "source": [
    "- We get a vast majority as true positives appx 28k while very few true negatives 5296"
   ]
  },
  {
   "cell_type": "markdown",
   "metadata": {
    "colab_type": "text",
    "id": "mvgZ-g798jN6"
   },
   "source": [
    "## test data"
   ]
  },
  {
   "cell_type": "code",
   "execution_count": 0,
   "metadata": {
    "colab": {
     "base_uri": "https://localhost:8080/",
     "height": 313
    },
    "colab_type": "code",
    "id": "-CvWHR3h8jN7",
    "outputId": "0b7998a2-4f75-45cf-fba0-9d4098922be5"
   },
   "outputs": [
    {
     "name": "stdout",
     "output_type": "stream",
     "text": [
      "Testing CM for W2V\n"
     ]
    },
    {
     "data": {
      "image/png": "[encoded data removed]",
      "text/plain": [
       "<Figure size 432x288 with 2 Axes>"
      ]
     },
     "metadata": {
      "tags": []
     },
     "output_type": "display_data"
    }
   ],
   "source": [
    "print(\"Testing CM for W2V\")\n",
    "cm =confusion_matrix(y_test, pred_w2v_test, labels=None, sample_weight=None)\n",
    "summary.append(['W2v',find_optimal(roc_auc_score_cv_w2v_dict)['depth'],find_optimal(roc_auc_score_cv_w2v_dict)['sample'],roc_auc_test])\n",
    "sns.heatmap(cm, annot=True,fmt=\"d\",cmap=\"YlGnBu\")\n",
    "plt.title('DT  \\nAccuracy:{0:.3f}'.format(accuracy_score(y_test, pred_w2v_test)))\n",
    "plt.show()"
   ]
  },
  {
   "cell_type": "markdown",
   "metadata": {
    "colab_type": "text",
    "id": "5hBZEGJ88jN8"
   },
   "source": [
    "# Summary"
   ]
  },
  {
   "cell_type": "markdown",
   "metadata": {
    "colab_type": "text",
    "id": "QKmbFAlz8jN9"
   },
   "source": [
    "- For test data we get app 17k true positives while small no of true negatives 3k roughly"
   ]
  },
  {
   "cell_type": "markdown",
   "metadata": {
    "colab_type": "text",
    "id": "Tkq1u-BS8jN-"
   },
   "source": [
    "# set4 Categorical, Numerical features + Project_title(TFIDF W2V) + Preprocessed_essay (TFIDF W2V)"
   ]
  },
  {
   "cell_type": "markdown",
   "metadata": {
    "colab_type": "text",
    "id": "K05toC458jN-"
   },
   "source": [
    "# A) Simple cross validation"
   ]
  },
  {
   "cell_type": "code",
   "execution_count": 0,
   "metadata": {
    "colab": {},
    "colab_type": "code",
    "id": "8FYIEtU28jN_"
   },
   "outputs": [],
   "source": [
    "# merge two sparse matrices: https://stackoverflow.com/a/19710648/4084039\n",
    "from scipy.sparse import hstack\n",
    "\n",
    "X_tr = hstack((categories_one_hot_train, sub_categories_one_hot_train, school_state_categories_one_hot_train, project_grade_categories_one_hot_train, teacher_prefix_categories_one_hot_train, price_train, quantity_train, prev_projects_train, title_word_count_train, essay_word_count_train, tfidf_w2v_vectors_train, tfidf_w2v_vectors_titles_train)).tocsr()\n",
    "X_te = hstack((categories_one_hot_test, sub_categories_one_hot_test, school_state_categories_one_hot_test, project_grade_categories_one_hot_test, teacher_prefix_categories_one_hot_test, price_test, quantity_test, prev_projects_test, title_word_count_test, essay_word_count_test, tfidf_w2v_vectors_test, tfidf_w2v_vectors_titles_test)).tocsr()\n",
    "X_cr = hstack((categories_one_hot_cv, sub_categories_one_hot_cv, school_state_categories_one_hot_cv, project_grade_categories_one_hot_cv, teacher_prefix_categories_one_hot_cv, price_cv, quantity_cv, prev_projects_cv, title_word_count_cv, essay_word_count_cv, tfidf_w2v_vectors_cv, tfidf_w2v_vectors_titles_cv)).tocsr()\n"
   ]
  },
  {
   "cell_type": "code",
   "execution_count": 0,
   "metadata": {
    "colab": {
     "base_uri": "https://localhost:8080/",
     "height": 102
    },
    "colab_type": "code",
    "id": "WiJ2HkGs8jOA",
    "outputId": "484f788c-d5cf-4414-9a6d-eb42fdd00ad1"
   },
   "outputs": [
    {
     "name": "stdout",
     "output_type": "stream",
     "text": [
      "Final Data matrix\n",
      "(53531, 705) (53531,)\n",
      "(22942, 705) (22942,)\n",
      "(32775, 705) (32775,)\n",
      "====================================================================================================\n"
     ]
    }
   ],
   "source": [
    "print(\"Final Data matrix\")\n",
    "print(X_tr.shape, y_train.shape)\n",
    "print(X_cr.shape, y_cv.shape)\n",
    "print(X_te.shape, y_test.shape)\n",
    "print(\"=\"*100)"
   ]
  },
  {
   "cell_type": "code",
   "execution_count": 0,
   "metadata": {
    "colab": {
     "base_uri": "https://localhost:8080/",
     "height": 119
    },
    "colab_type": "code",
    "id": "-2pMhSSh8jOG",
    "outputId": "91fbceb9-9f5d-4092-bed9-ab6ce03a1f5c"
   },
   "outputs": [
    {
     "name": "stderr",
     "output_type": "stream",
     "text": [
      "\n",
      "  0%|          | 0/6 [00:00<?, ?it/s]\u001b[A\n",
      " 17%|█▋        | 1/6 [00:49<04:09, 49.84s/it]\u001b[A\n",
      " 33%|███▎      | 2/6 [04:55<07:14, 108.71s/it]\u001b[A\n",
      " 50%|█████     | 3/6 [16:47<14:28, 289.49s/it]\u001b[A\n",
      " 67%|██████▋   | 4/6 [43:40<22:53, 686.70s/it]\u001b[A"
     ]
    }
   ],
   "source": [
    "\n",
    "roc_auc_score_cv_tfidf_w2v_dict=[]\n",
    "roc_auc_score_train_tfidf_w2v_dict=[]\n",
    "\n",
    "depth=[1, 5, 10, 50, 100, 250]\n",
    "min_samples_split=[5, 10, 100, 500]\n",
    "\n",
    "for d in tqdm(depth):\n",
    "    for s in min_samples_split:\n",
    "        #create instance of model\n",
    "        dt=DecisionTreeClassifier(max_depth=d,min_samples_split=s,class_weight=\"balanced\")\n",
    "        \n",
    "        #Fit the model on the training set \n",
    "        dt.fit(X_tr,y_train)\n",
    "        \n",
    "        \n",
    "        # predict the response on the crossvalidation train\n",
    "        pred_tfidf_w2v_cv = dt.predict_proba(X_cr)\n",
    "\n",
    "        #evaluate CV roc_auc\n",
    "        roc_auc_cv =roc_auc_score(y_cv,pred_tfidf_w2v_cv[:,1])\n",
    "\n",
    "        #insert into dict\n",
    "        roc_auc_score_cv_tfidf_w2v_dict.append([d,s,roc_auc_cv])\n",
    "\n",
    "         # fitting the model on crossvalidation train\n",
    "        dt.fit(X_tr, y_train)\n",
    "\n",
    "        # predict the response on the train\n",
    "        pred_tfidf_w2v_train = dt.predict_proba(X_tr)\n",
    "\n",
    "        #evaluate train roc_auc\n",
    "        roc_auc_train =roc_auc_score(y_train,pred_tfidf_w2v_train[:,1])\n",
    "\n",
    "        #insert into dict\n",
    "        roc_auc_score_train_tfidf_w2v_dict.append([d,s,roc_auc_train])\n",
    "\n",
    "print(roc_auc_score_cv_tfidf_w2v_dict)"
   ]
  },
  {
   "cell_type": "code",
   "execution_count": 0,
   "metadata": {
    "colab": {},
    "colab_type": "code",
    "id": "iSBCFlXM8jOK"
   },
   "outputs": [],
   "source": [
    "\n",
    "x1=[]\n",
    "y1=[]\n",
    "z1=[]\n",
    "\n",
    "x2=[]\n",
    "y2=[]\n",
    "z2=[]\n",
    "\n",
    "for value in roc_auc_score_cv_tfidf_w2v_dict:\n",
    "    x1.append(value[0])\n",
    "    y1.append(value[1])\n",
    "    z1.append(value[2])\n",
    "    \n",
    "for value in roc_auc_score_train_tfidf_w2v_dict:\n",
    "    x2.append(value[0])\n",
    "    y2.append(value[1])\n",
    "    z2.append(value[2])\n",
    "    \n",
    "# https://plot.ly/python/3d-axes/\n",
    "trace1 = go.Scatter3d(x=x1,y=y1,z=z1, name = 'Cross val')\n",
    "trace2 = go.Scatter3d(x=x2,y=y2,z=z2, name = 'train')\n",
    "data = [trace1, trace2]\n",
    "\n",
    "layout = go.Layout(title='Depth vs split size vs AUC(TFIDF_W2V)',scene = dict(\n",
    "        xaxis = dict(title='max_depth'),\n",
    "        yaxis = dict(title='min_samples_split'),\n",
    "        zaxis = dict(title='AUC'),))\n",
    "\n",
    "fig = go.Figure(data=data, layout=layout)\n",
    "offline.iplot(fig, filename='3d-scatter-colorscale')"
   ]
  },
  {
   "cell_type": "code",
   "execution_count": 0,
   "metadata": {
    "colab": {},
    "colab_type": "code",
    "id": "yQ1gq6lR8jON"
   },
   "outputs": [],
   "source": [
    "find_optimal(roc_auc_score_cv_tfidf_w2v_dict)"
   ]
  },
  {
   "cell_type": "markdown",
   "metadata": {
    "colab_type": "text",
    "id": "umTLLMO68jOQ"
   },
   "source": [
    "<img src='https://github.com/Kunal-Varma/Decision-Trees/blob/master/set_4_AUC.png?raw=1' width=800px>"
   ]
  },
  {
   "cell_type": "markdown",
   "metadata": {
    "colab_type": "text",
    "id": "CWxcXxJf8jOR"
   },
   "source": [
    "# Summary"
   ]
  },
  {
   "cell_type": "markdown",
   "metadata": {
    "colab_type": "text",
    "id": "Dg7wQhKb8jOS"
   },
   "source": [
    "- We get best parameters as depth =10 and sample split as 500"
   ]
  },
  {
   "cell_type": "markdown",
   "metadata": {
    "colab_type": "text",
    "id": "OOm2yEfE8jOV"
   },
   "source": [
    "# B) training the model using best hyperparameter value"
   ]
  },
  {
   "cell_type": "code",
   "execution_count": 0,
   "metadata": {
    "colab": {},
    "colab_type": "code",
    "id": "o4tCAsgP8jOV"
   },
   "outputs": [],
   "source": [
    "\n",
    "# train model on the best alpha\n",
    "lr = DecisionTreeClassifier(max_depth=find_optimal(roc_auc_score_cv_tfidf_w2v_dict)['depth'],min_samples_split=find_optimal(roc_auc_score_cv_tfidf_w2v_dict)['sample'],class_weight=\"balanced\")\n",
    "\n",
    "# fitting the model on crossvalidation train\n",
    "lr.fit(X_tr, y_train)\n",
    "\n",
    "# predict the response on the crossvalidation train\n",
    "pred_tfidf_w2v_test = lr.predict(X_te)\n",
    "pred_tfidf_w2v_train = lr.predict(X_tr)\n",
    "\n",
    "#https://stackoverflow.com/questions/52910061/implementing-roc-curves-for-k-nn-machine-learning-algorithm-using-python-and-scip_scores = knn.predict_proba(X_test)\n",
    "pred_tfidf_w2v_test_scores=lr.predict_proba(X_te)\n",
    "pred_tfidf_w2v_train_scores=lr.predict_proba(X_tr)\n",
    "\n",
    "fpr_test, tpr_test, threshold_test = roc_curve(y_test, pred_tfidf_w2v_test_scores[:, 1])\n",
    "fpr_train, tpr_train, threshold_train = roc_curve(y_train, pred_tfidf_w2v_train_scores[:, 1])\n",
    "roc_auc_test = auc(fpr_test, tpr_test)\n",
    "roc_auc_train = auc(fpr_train, tpr_train)\n",
    "plt.title('Receiver Operating Characteristic')\n",
    "plt.plot(fpr_test, tpr_test, 'r', label = 'AUC_test = %0.2f' % roc_auc_test)\n",
    "plt.plot(fpr_train, tpr_train, 'b', label = 'AUC_train = %0.2f' % roc_auc_train)\n",
    "plt.legend(loc = 'lower right')\n",
    "plt.plot([0, 1], [0, 1],'g--')\n",
    "plt.xlim([0, 1])\n",
    "plt.ylim([0, 1])\n",
    "plt.ylabel('True Positive Rate')\n",
    "plt.xlabel('False Positive Rate')\n",
    "plt.title('ROC Curve of TFIDF_W2V-LR')\n",
    "plt.grid(color='b', linestyle='-', linewidth=0.5)\n",
    "plt.show()"
   ]
  },
  {
   "cell_type": "markdown",
   "metadata": {
    "colab_type": "text",
    "id": "Hec4t1PI8jOX"
   },
   "source": [
    "- We obtain a test AUC of 0.66"
   ]
  },
  {
   "cell_type": "markdown",
   "metadata": {
    "colab_type": "text",
    "id": "6_JtGQgg8jOX"
   },
   "source": [
    "# C) Confusion matrix"
   ]
  },
  {
   "cell_type": "markdown",
   "metadata": {
    "colab_type": "text",
    "id": "1gaYJfCu8jOZ"
   },
   "source": [
    "## train data"
   ]
  },
  {
   "cell_type": "code",
   "execution_count": 0,
   "metadata": {
    "colab": {},
    "colab_type": "code",
    "id": "mEYLglOt8jOa"
   },
   "outputs": [],
   "source": [
    "from sklearn.metrics import accuracy_score\n",
    "\n",
    "#https://scikit-learn.org/stable/modules/generated/sklearn.metrics.confusion_matrix.html\n",
    "from sklearn.metrics import confusion_matrix\n",
    "print(\"Training CM for TFIDF_W2V\")\n",
    "cm =confusion_matrix(y_train, pred_tfidf_w2v_train, labels=None, sample_weight=None)\n",
    "sns.heatmap(cm, annot=True,fmt=\"d\",cmap=\"YlGnBu\")\n",
    "plt.title('DT \\nAccuracy:{0:.3f}'.format(accuracy_score(y_train, pred_tfidf_w2v_train)))\n",
    "plt.show()\n",
    "print(\"=\"*50)"
   ]
  },
  {
   "cell_type": "markdown",
   "metadata": {
    "colab_type": "text",
    "id": "4gUqrWWX8jOc"
   },
   "source": [
    "# Summary"
   ]
  },
  {
   "cell_type": "markdown",
   "metadata": {
    "colab_type": "text",
    "id": "vsTVjy2X8jOm"
   },
   "source": [
    "- We obtain a large no of true positives 29k while false positives(2k) are lesser than true postives."
   ]
  },
  {
   "cell_type": "markdown",
   "metadata": {
    "colab_type": "text",
    "id": "ud5ul0Ga8jOm"
   },
   "source": [
    "## test data"
   ]
  },
  {
   "cell_type": "code",
   "execution_count": 0,
   "metadata": {
    "colab": {},
    "colab_type": "code",
    "id": "YDFLPyEY8jOn"
   },
   "outputs": [],
   "source": [
    "print(\"Testing CM for TFIDF_W2V\")\n",
    "cm =confusion_matrix(y_test, pred_tfidf_w2v_test, labels=None, sample_weight=None)\n",
    "summary.append(['Tfidf_w2v',find_optimal(roc_auc_score_cv_tfidf_w2v_dict)['depth'],find_optimal(roc_auc_score_cv_tfidf_w2v_dict)['sample'],roc_auc_test])\n",
    "sns.heatmap(cm, annot=True,fmt=\"d\",cmap=\"YlGnBu\")\n",
    "plt.title('DT  \\nAccuracy:{0:.3f}'.format(accuracy_score(y_test, pred_tfidf_w2v_test)))\n",
    "plt.show()"
   ]
  },
  {
   "cell_type": "markdown",
   "metadata": {
    "colab_type": "text",
    "id": "sGPQiiTA8jOp"
   },
   "source": [
    "# Summary"
   ]
  },
  {
   "cell_type": "markdown",
   "metadata": {
    "colab_type": "text",
    "id": "WksFvQVz8jOq"
   },
   "source": [
    "- we observe nearly 17k as true positives\n",
    "- nearly 10k are false negatives for test data"
   ]
  },
  {
   "cell_type": "markdown",
   "metadata": {
    "colab_type": "text",
    "id": "HL53faCb8jOq"
   },
   "source": [
    "# Preparing set 5"
   ]
  },
  {
   "cell_type": "code",
   "execution_count": 0,
   "metadata": {
    "colab": {},
    "colab_type": "code",
    "id": "iND8D6QA8jOq"
   },
   "outputs": [],
   "source": [
    "# select 5k best features from set2"
   ]
  },
  {
   "cell_type": "code",
   "execution_count": 0,
   "metadata": {
    "colab": {},
    "colab_type": "code",
    "id": "u3iJfiQ78jOr"
   },
   "outputs": [],
   "source": [
    "\n",
    "\n",
    "\n",
    "# merge two sparse matrices: https://stackoverflow.com/a/19710648/4084039\n",
    "from scipy.sparse import hstack\n",
    "\n",
    "X_tr_tf = hstack((categories_one_hot_train, sub_categories_one_hot_train, school_state_categories_one_hot_train, project_grade_categories_one_hot_train, teacher_prefix_categories_one_hot_train, price_train, quantity_train, prev_projects_train, title_word_count_train, essay_word_count_train, text_tfidf_train, title_tfidf_train)).toarray()\n",
    "X_te_tf = hstack((categories_one_hot_test, sub_categories_one_hot_test, school_state_categories_one_hot_test, project_grade_categories_one_hot_test, teacher_prefix_categories_one_hot_test, price_test, quantity_test, prev_projects_test, title_word_count_test, essay_word_count_test, text_tfidf_test, title_tfidf_test)).toarray()\n",
    "X_cr_tf = hstack((categories_one_hot_cv, sub_categories_one_hot_cv, school_state_categories_one_hot_cv, project_grade_categories_one_hot_cv, teacher_prefix_categories_one_hot_cv, price_cv, quantity_cv, prev_projects_cv, title_word_count_cv, essay_word_count_cv, text_tfidf_cv, title_tfidf_cv)).toarray()\n",
    "\n",
    "\n"
   ]
  },
  {
   "cell_type": "code",
   "execution_count": 0,
   "metadata": {
    "colab": {},
    "colab_type": "code",
    "id": "BN4zg5ge8jOt"
   },
   "outputs": [],
   "source": [
    "print(\"Final Data matrix\")\n",
    "print(X_tr_tf.shape, y_train.shape)\n",
    "print(X_cr_tf.shape, y_cv.shape)\n",
    "print(X_te_tf.shape, y_test.shape)\n",
    "print(\"=\"*100)"
   ]
  },
  {
   "cell_type": "code",
   "execution_count": 0,
   "metadata": {
    "colab": {},
    "colab_type": "code",
    "id": "ccK71qJb8jOw"
   },
   "outputs": [],
   "source": [
    "\n",
    "print(len(feature_names_tfidf))"
   ]
  },
  {
   "cell_type": "code",
   "execution_count": 0,
   "metadata": {
    "colab": {},
    "colab_type": "code",
    "id": "Dld2UeO78jO0"
   },
   "outputs": [],
   "source": [
    "\n",
    "DT = DecisionTreeClassifier(random_state=0)\n",
    "tfidf_pd_train = pd.DataFrame(X_tr_tf, columns=feature_names_tfidf)\n",
    "tfidf_pd_test = pd.DataFrame(X_te_tf, columns=feature_names_tfidf)\n",
    "tfidf_pd_cv = pd.DataFrame(X_cr_tf, columns=feature_names_tfidf)\n",
    "DT = DT.fit(tfidf_pd_train, y_train)\n",
    "\n",
    "temp=dict(zip(tfidf_pd_train.columns, DT.feature_importances_))"
   ]
  },
  {
   "cell_type": "code",
   "execution_count": 0,
   "metadata": {
    "colab": {},
    "colab_type": "code",
    "id": "dMw_XC-Q8jO1"
   },
   "outputs": [],
   "source": [
    "temp = {k:v for k,v in temp.items() if v != 0}\n",
    "print(len(temp))"
   ]
  },
  {
   "cell_type": "code",
   "execution_count": 0,
   "metadata": {
    "colab": {},
    "colab_type": "code",
    "id": "ohKZzYFj8jO2"
   },
   "outputs": [],
   "source": [
    "imp_features_train=[]\n",
    "temp=Counter(temp)\n",
    "for k, v in temp.most_common(5000):\n",
    "    imp_features_train.append(k)"
   ]
  },
  {
   "cell_type": "code",
   "execution_count": 0,
   "metadata": {
    "colab": {},
    "colab_type": "code",
    "id": "y46MteOZ8jO3"
   },
   "outputs": [],
   "source": [
    "imp_tfidf_df_train=tfidf_pd_train[imp_features_train]\n",
    "imp_tfidf_df_test=tfidf_pd_test[imp_features_train]\n",
    "imp_tfidf_df_cv=tfidf_pd_cv[imp_features_train]\n",
    "print(imp_tfidf_df_train.shape)\n",
    "print(imp_tfidf_df_test.shape)\n",
    "print(imp_tfidf_df_cv.shape)"
   ]
  },
  {
   "cell_type": "code",
   "execution_count": 0,
   "metadata": {
    "colab": {},
    "colab_type": "code",
    "id": "ImQ1K-J98jO5"
   },
   "outputs": [],
   "source": [
    "# applying DT on imp features"
   ]
  },
  {
   "cell_type": "code",
   "execution_count": 0,
   "metadata": {
    "colab": {},
    "colab_type": "code",
    "id": "bYhVHSko8jO6"
   },
   "outputs": [],
   "source": [
    "depth=[1, 5, 10, 50, 100, 250]\n",
    "min_samples_split=[5, 10, 100, 500]\n",
    "\n",
    "\n",
    "roc_auc_score_cv_imp_tfidf_dict=[]\n",
    "roc_auc_score_train_imp_tfidf_dict=[]\n",
    "for d in tqdm(depth):\n",
    "    for s in min_samples_split:\n",
    "        #create instance of model\n",
    "        dt=DecisionTreeClassifier(max_depth=d,min_samples_split=s,class_weight=\"balanced\")\n",
    "        \n",
    "        #Fit the model on the training set \n",
    "        dt.fit(imp_tfidf_df_train,y_train)\n",
    "        \n",
    "        \n",
    "        # predict the response on the crossvalidation train\n",
    "        pred_imp_tfidf_cv = dt.predict_proba(imp_tfidf_df_cv)\n",
    "\n",
    "        #evaluate CV roc_auc\n",
    "        roc_auc_cv =roc_auc_score(y_cv,pred_imp_tfidf_cv[:,1])\n",
    "\n",
    "        #insert into dict\n",
    "        roc_auc_score_cv_imp_tfidf_dict.append([d,s,roc_auc_cv])\n",
    "\n",
    "         # fitting the model on crossvalidation train\n",
    "        dt.fit(imp_tfidf_df_train, y_train)\n",
    "\n",
    "        # predict the response on the train\n",
    "        pred_imp_tfidf_train = dt.predict_proba(imp_tfidf_df_train)\n",
    "\n",
    "        #evaluate train roc_auc\n",
    "        roc_auc_train =roc_auc_score(y_train,pred_imp_tfidf_train[:,1])\n",
    "\n",
    "        #insert into dict\n",
    "        roc_auc_score_train_imp_tfidf_dict.append([d,s,roc_auc_train])\n",
    "\n",
    "print(roc_auc_score_cv_imp_tfidf_dict)"
   ]
  },
  {
   "cell_type": "code",
   "execution_count": 0,
   "metadata": {
    "colab": {},
    "colab_type": "code",
    "id": "5TkHmYkg8jO7"
   },
   "outputs": [],
   "source": [
    "x1=[]\n",
    "y1=[]\n",
    "z1=[]\n",
    "\n",
    "x2=[]\n",
    "y2=[]\n",
    "z2=[]\n",
    "\n",
    "for value in roc_auc_score_cv_imp_tfidf_dict:\n",
    "    x1.append(value[0])\n",
    "    y1.append(value[1])\n",
    "    z1.append(value[2])\n",
    "    \n",
    "for value in roc_auc_score_train_imp_tfidf_dict:\n",
    "    x2.append(value[0])\n",
    "    y2.append(value[1])\n",
    "    z2.append(value[2])\n",
    "    \n",
    "# https://plot.ly/python/3d-axes/\n",
    "trace1 = go.Scatter3d(x=x1,y=y1,z=z1, name = 'Cross val')\n",
    "trace2 = go.Scatter3d(x=x2,y=y2,z=z2, name = 'train')\n",
    "data = [trace1, trace2]\n",
    "\n",
    "layout = go.Layout(title='Depth vs split size vs AUC(IMP_TFIDF)',scene = dict(\n",
    "        xaxis = dict(title='max_depth'),\n",
    "        yaxis = dict(title='min_samples_split'),\n",
    "        zaxis = dict(title='AUC'),))\n",
    "\n",
    "fig = go.Figure(data=data, layout=layout)\n",
    "offline.iplot(fig, filename='3d-scatter-colorscale')"
   ]
  },
  {
   "cell_type": "markdown",
   "metadata": {
    "colab_type": "text",
    "id": "kJt2fwd38jO7"
   },
   "source": [
    "## Finding the optimal parameters"
   ]
  },
  {
   "cell_type": "code",
   "execution_count": 0,
   "metadata": {
    "colab": {},
    "colab_type": "code",
    "id": "PRPuSqoh8jO8"
   },
   "outputs": [],
   "source": [
    "find_optimal(roc_auc_score_cv_imp_tfidf_dict)"
   ]
  },
  {
   "cell_type": "markdown",
   "metadata": {
    "colab_type": "text",
    "id": "noOhT6bR8jO9"
   },
   "source": [
    "<img src='https://github.com/Kunal-Varma/Decision-Trees/blob/master/set_5_AUC.png?raw=1' width=800px>"
   ]
  },
  {
   "cell_type": "markdown",
   "metadata": {
    "colab_type": "text",
    "id": "LovAjh_d8jO9"
   },
   "source": [
    "# B) training the model with the best parameters"
   ]
  },
  {
   "cell_type": "code",
   "execution_count": 0,
   "metadata": {
    "colab": {},
    "colab_type": "code",
    "id": "bgdrbDm18jO-"
   },
   "outputs": [],
   "source": [
    "\n",
    "# train model on the best alpha\n",
    "lr = DecisionTreeClassifier(max_depth=find_optimal(roc_auc_score_cv_imp_tfidf_dict)['depth'],min_samples_split=find_optimal(roc_auc_score_cv_imp_tfidf_dict)['sample'],class_weight=\"balanced\")\n",
    "\n",
    "# fitting the model on crossvalidation train\n",
    "lr.fit(imp_tfidf_df_train, y_train)\n",
    "\n",
    "# predict the response on the crossvalidation train\n",
    "pred_imp_tfidf_test = lr.predict(imp_tfidf_df_test)\n",
    "pred_imp_tfidf_train = lr.predict(imp_tfidf_df_train)\n",
    "\n",
    "#https://stackoverflow.com/questions/52910061/implementing-roc-curves-for-k-nn-machine-learning-algorithm-using-python-and-scip_scores = knn.predict_proba(X_test)\n",
    "pred_imp_tfidf_test_scores=lr.predict_proba(imp_tfidf_df_test)\n",
    "pred_imp_tfidf_train_scores=lr.predict_proba(imp_tfidf_df_train)\n",
    "\n",
    "fpr_test, tpr_test, threshold_test = roc_curve(y_test, pred_imp_tfidf_test_scores[:, 1])\n",
    "fpr_train, tpr_train, threshold_train = roc_curve(y_train, pred_imp_tfidf_train_scores[:, 1])\n",
    "roc_auc_test = auc(fpr_test, tpr_test)\n",
    "roc_auc_train = auc(fpr_train, tpr_train)\n",
    "plt.title('Receiver Operating Characteristic')\n",
    "plt.plot(fpr_test, tpr_test, 'r', label = 'AUC_test = %0.2f' % roc_auc_test)\n",
    "plt.plot(fpr_train, tpr_train, 'b', label = 'AUC_train = %0.2f' % roc_auc_train)\n",
    "plt.legend(loc = 'lower right')\n",
    "plt.plot([0, 1], [0, 1],'g--')\n",
    "plt.xlim([0, 1])\n",
    "plt.ylim([0, 1])\n",
    "plt.ylabel('True Positive Rate')\n",
    "plt.xlabel('False Positive Rate')\n",
    "plt.title('ROC Curve of IMP_TFIDF-LR')\n",
    "plt.grid(color='b', linestyle='-', linewidth=0.5)\n",
    "plt.show()"
   ]
  },
  {
   "cell_type": "markdown",
   "metadata": {
    "colab_type": "text",
    "id": "THgGAFmC8jO_"
   },
   "source": [
    "# summary\n",
    "\n",
    "- We obtain test AUC of 0.63"
   ]
  },
  {
   "cell_type": "markdown",
   "metadata": {
    "colab_type": "text",
    "id": "8yXxW2Yg8jO_"
   },
   "source": [
    "#  C) Confusion Matrix"
   ]
  },
  {
   "cell_type": "markdown",
   "metadata": {
    "colab_type": "text",
    "id": "QZeFln6e8jO_"
   },
   "source": [
    "## train data"
   ]
  },
  {
   "cell_type": "code",
   "execution_count": 0,
   "metadata": {
    "colab": {},
    "colab_type": "code",
    "id": "GBSx7rZ98jO_"
   },
   "outputs": [],
   "source": [
    "from sklearn.metrics import accuracy_score\n",
    "\n",
    "#https://scikit-learn.org/stable/modules/generated/sklearn.metrics.confusion_matrix.html\n",
    "from sklearn.metrics import confusion_matrix\n",
    "print(\"Training CM for IMP_TFIDF\")\n",
    "cm =confusion_matrix(y_train, pred_imp_tfidf_train, labels=None, sample_weight=None)\n",
    "sns.heatmap(cm, annot=True,fmt=\"d\",cmap=\"YlGnBu\")\n",
    "plt.title('DT \\nAccuracy:{0:.3f}'.format(accuracy_score(y_train, pred_imp_tfidf_train)))\n",
    "plt.show()\n"
   ]
  },
  {
   "cell_type": "markdown",
   "metadata": {
    "colab_type": "text",
    "id": "Z4crHJyk8jPA"
   },
   "source": [
    "# summary"
   ]
  },
  {
   "cell_type": "markdown",
   "metadata": {
    "colab_type": "text",
    "id": "SK7NOn8V8jPA"
   },
   "source": [
    "- We find that for training data there are 26k true positives nearly 50% of data whereas false positives are just 2400"
   ]
  },
  {
   "cell_type": "markdown",
   "metadata": {
    "colab_type": "text",
    "id": "FhrABrn18jPB"
   },
   "source": [
    "## test data"
   ]
  },
  {
   "cell_type": "code",
   "execution_count": 0,
   "metadata": {
    "colab": {},
    "colab_type": "code",
    "id": "jbyTWGBE8jPB"
   },
   "outputs": [],
   "source": [
    "print(\"=\"*50)\n",
    "print(\"Testing CM for IMP_TFIDF\")\n",
    "cm =confusion_matrix(y_test, pred_imp_tfidf_test, labels=None, sample_weight=None)\n",
    "summary.append(['Imp_tfidf',find_optimal(roc_auc_score_cv_imp_tfidf_dict)['depth'],find_optimal(roc_auc_score_cv_imp_tfidf_dict)['sample'],roc_auc_test])\n",
    "sns.heatmap(cm, annot=True,fmt=\"d\",cmap=\"YlGnBu\")\n",
    "plt.title('DT  \\nAccuracy:{0:.3f}'.format(accuracy_score(y_test, pred_imp_tfidf_test)))\n",
    "plt.show()"
   ]
  },
  {
   "cell_type": "markdown",
   "metadata": {
    "colab_type": "text",
    "id": "Sr5yYaSf8jPC"
   },
   "source": [
    "# Summary"
   ]
  },
  {
   "cell_type": "markdown",
   "metadata": {
    "colab_type": "text",
    "id": "ajuWkVN18jPC"
   },
   "source": [
    "- We find that nearly 15k are true positives whereas large number are false negatives too(12k)"
   ]
  },
  {
   "cell_type": "markdown",
   "metadata": {
    "colab_type": "text",
    "id": "A6QGhi3p8jPC"
   },
   "source": [
    "# False positive analysis"
   ]
  },
  {
   "cell_type": "markdown",
   "metadata": {
    "colab_type": "text",
    "id": "qQHZL4Fn8jPC"
   },
   "source": [
    "# set1"
   ]
  },
  {
   "cell_type": "code",
   "execution_count": 0,
   "metadata": {
    "colab": {},
    "colab_type": "code",
    "id": "F4sf7cV38jPD"
   },
   "outputs": [],
   "source": [
    "\n",
    "y_test=y_test.values\n",
    "X_test_price=X_test['price'].values\n",
    "X_test_essay= X_test[\"clean_essays\"].values  "
   ]
  },
  {
   "cell_type": "code",
   "execution_count": 0,
   "metadata": {
    "colab": {},
    "colab_type": "code",
    "id": "D6ID26n68jPF"
   },
   "outputs": [],
   "source": [
    "fpr=[]\n",
    "essay=''\n",
    "price_box=[]\n",
    "X_test_prev=[]\n",
    "for i in range(len(y_test)):\n",
    "    if (int((y_test[i]) == 0) and (int(pred_bow_test[i]) == 1)):\n",
    "        fpr.append(1)\n",
    "        essay+=X_test_essay[i]\n",
    "        price_box.append(X_test_price[i])\n",
    "        X_test_prev.append(prev_projects_test[i])\n",
    "    else :\n",
    "        fpr.append(0)"
   ]
  },
  {
   "cell_type": "markdown",
   "metadata": {
    "colab_type": "text",
    "id": "jRGtVjLF8jPG"
   },
   "source": [
    "## word cloud"
   ]
  },
  {
   "cell_type": "code",
   "execution_count": 0,
   "metadata": {
    "colab": {},
    "colab_type": "code",
    "id": "TJmgOz-a8jPG"
   },
   "outputs": [],
   "source": [
    "# code snippet taken from https://www.geeksforgeeks.org/generating-word-cloud-python/"
   ]
  },
  {
   "cell_type": "code",
   "execution_count": 0,
   "metadata": {
    "colab": {},
    "colab_type": "code",
    "id": "DoTvh8AQ8jPI"
   },
   "outputs": [],
   "source": [
    "from wordcloud import WordCloud\n",
    "wordcloud = WordCloud(width = 800, height = 800, \n",
    "                background_color ='white', \n",
    "                min_font_size = 10).generate(essay) \n",
    "  \n",
    "# plot the WordCloud image                        \n",
    "plt.figure(figsize = (8, 8), facecolor = None) \n",
    "plt.imshow(wordcloud) \n",
    "plt.axis(\"off\") \n",
    "plt.tight_layout(pad = 0) \n",
    "  \n",
    "plt.show()"
   ]
  },
  {
   "cell_type": "markdown",
   "metadata": {
    "colab_type": "text",
    "id": "lwIaNuOL8jPK"
   },
   "source": [
    "# summary"
   ]
  },
  {
   "cell_type": "markdown",
   "metadata": {
    "colab_type": "text",
    "id": "YpLnO9Gs8jPL"
   },
   "source": [
    "- From wordcloud of essays it is very clear that false positive points have words related to Student,School,Classroom,Learning  etc in their project essays "
   ]
  },
  {
   "cell_type": "markdown",
   "metadata": {
    "colab_type": "text",
    "id": "AH0cbHcD8jPM"
   },
   "source": [
    "# Box plot of False positive points"
   ]
  },
  {
   "cell_type": "code",
   "execution_count": 0,
   "metadata": {
    "colab": {},
    "colab_type": "code",
    "id": "-24UmFlk8jPM"
   },
   "outputs": [],
   "source": [
    "# Code snippet taken from https://seaborn.pydata.org/generated/seaborn.boxplot.html\n",
    "sns.set(context='notebook', style='whitegrid')\n",
    "plt.xlabel(\"False Positive\")\n",
    "plt.ylabel(\"Price\")\n",
    "sns.boxplot(data=price_box)\n",
    "plt.show()"
   ]
  },
  {
   "cell_type": "markdown",
   "metadata": {
    "colab_type": "text",
    "id": "mAuOFoKD8jPN"
   },
   "source": [
    "# Summary"
   ]
  },
  {
   "cell_type": "markdown",
   "metadata": {
    "colab_type": "text",
    "id": "iT4qoWeB8jPN"
   },
   "source": [
    "- We find that majority of false positive points have very less price,There are a few number of outliers beyond 2000 dollars"
   ]
  },
  {
   "cell_type": "markdown",
   "metadata": {
    "colab_type": "text",
    "id": "g4CTHDjs8jPO"
   },
   "source": [
    "# PDF of Previously posted projects"
   ]
  },
  {
   "cell_type": "code",
   "execution_count": 0,
   "metadata": {
    "colab": {},
    "colab_type": "code",
    "id": "MQubd4Ag8jPO"
   },
   "outputs": [],
   "source": [
    "count,bin_edges=np.histogram(X_test_prev,bins=10,density=True)\n",
    "\n",
    "#pdf\n",
    "pdf=count/(sum(count))\n",
    "\n",
    "p=plt.plot(bin_edges[1:],pdf,label='pdf')\n",
    "\n",
    "plt.ylabel('PDF')\n",
    "plt.xlabel('Previoulsy posted project count')\n",
    "plt.legend()\n",
    "plt.title('Unvariate analysis(Previoulsy posted project count) of False positive')\n",
    "plt.show()"
   ]
  },
  {
   "cell_type": "markdown",
   "metadata": {
    "colab_type": "text",
    "id": "B427Ow3Y8jPP"
   },
   "source": [
    "# summary"
   ]
  },
  {
   "cell_type": "markdown",
   "metadata": {
    "colab_type": "text",
    "id": "OmrbSAUO8jPQ"
   },
   "source": [
    "- we observe that for false positives nearly 90% of the points have lesser than 25 projects previously posted"
   ]
  },
  {
   "cell_type": "markdown",
   "metadata": {
    "colab_type": "text",
    "id": "n20qkKIl8jPQ"
   },
   "source": [
    "# false positive analysis of set2 "
   ]
  },
  {
   "cell_type": "code",
   "execution_count": 0,
   "metadata": {
    "colab": {},
    "colab_type": "code",
    "id": "j6GULLAn8jPQ"
   },
   "outputs": [],
   "source": [
    "fpr=[]\n",
    "essay=''\n",
    "price_tfidf=[]\n",
    "X_test_prev=[]\n",
    "for i in range(len(y_test)):\n",
    "    if (int((y_test[i]) == 0) and (int(pred_tfidf_test[i]) == 1)):  \n",
    "        fpr.append(1)\n",
    "        essay+=X_test_essay[i]\n",
    "        price_tfidf.append(X_test_price[i])\n",
    "        X_test_prev.append(prev_projects_test[i])\n",
    "    else :\n",
    "        fpr.append(0)"
   ]
  },
  {
   "cell_type": "code",
   "execution_count": 0,
   "metadata": {
    "colab": {},
    "colab_type": "code",
    "id": "Jkr--Dz38jPR"
   },
   "outputs": [],
   "source": [
    "from wordcloud import WordCloud\n",
    "wordcloud = WordCloud(width = 800, height = 800, \n",
    "                background_color ='white', \n",
    "                min_font_size = 10).generate(essay) \n",
    "  \n",
    "# plot the WordCloud image                        \n",
    "plt.figure(figsize = (8, 8), facecolor = None) \n",
    "plt.imshow(wordcloud) \n",
    "plt.axis(\"off\") \n",
    "plt.tight_layout(pad = 0) \n",
    "  \n",
    "plt.show()"
   ]
  },
  {
   "cell_type": "markdown",
   "metadata": {
    "colab_type": "text",
    "id": "rW2P6qhW8jPS"
   },
   "source": [
    "# summary\n",
    "\n",
    "- most used words are children,school,class,learning."
   ]
  },
  {
   "cell_type": "code",
   "execution_count": 0,
   "metadata": {
    "colab": {},
    "colab_type": "code",
    "id": "cazbKZ0M8jPS"
   },
   "outputs": [],
   "source": [
    "# Code snippet taken from https://seaborn.pydata.org/generated/seaborn.boxplot.html\n",
    "sns.set(context='notebook', style='whitegrid')\n",
    "plt.xlabel(\"False Positive\")\n",
    "plt.ylabel(\"Price\")\n",
    "sns.boxplot(data=price_tfidf)\n",
    "plt.show()"
   ]
  },
  {
   "cell_type": "markdown",
   "metadata": {
    "colab_type": "text",
    "id": "yuTTxr2P8jPT"
   },
   "source": [
    "# Summary\n",
    "\n",
    "- A very small minority of points have price more than 2000 dollars"
   ]
  },
  {
   "cell_type": "code",
   "execution_count": 0,
   "metadata": {
    "colab": {},
    "colab_type": "code",
    "id": "qq5CQUSE8jPT"
   },
   "outputs": [],
   "source": [
    "count,bin_edges=np.histogram(X_test_prev,bins=10,density=True)\n",
    "\n",
    "#pdf\n",
    "pdf=count/(sum(count))\n",
    "\n",
    "p=plt.plot(bin_edges[1:],pdf,label='pdf')\n",
    "\n",
    "plt.ylabel('PDF')\n",
    "plt.xlabel('Previoulsy posted project count')\n",
    "plt.legend()\n",
    "plt.title('Unvariate analysis(Previoulsy posted project count) of False positive')"
   ]
  },
  {
   "cell_type": "markdown",
   "metadata": {
    "colab_type": "text",
    "id": "3jvOUddZ8jPU"
   },
   "source": [
    "# summary\n",
    "\n",
    "- More than 90 % points have about 75 prev projects posted"
   ]
  },
  {
   "cell_type": "markdown",
   "metadata": {
    "colab_type": "text",
    "id": "lN34qaQ78jPV"
   },
   "source": [
    "# set3"
   ]
  },
  {
   "cell_type": "code",
   "execution_count": 0,
   "metadata": {
    "colab": {},
    "colab_type": "code",
    "id": "QpXKLtvT8jPW"
   },
   "outputs": [],
   "source": [
    "fpr=[]\n",
    "essay=''\n",
    "price_w2v=[]\n",
    "X_test_prev=[]\n",
    "for i in range(len(y_test)):\n",
    "    if (int((y_test[i]) == 0) and (int(pred_w2v_test[i]) == 1)):  \n",
    "        fpr.append(1)\n",
    "        essay+=X_test_essay[i]\n",
    "        price_w2v.append(X_test_price[i])\n",
    "        X_test_prev.append(prev_projects_test[i])\n",
    "    else :\n",
    "        fpr.append(0)"
   ]
  },
  {
   "cell_type": "code",
   "execution_count": 0,
   "metadata": {
    "colab": {},
    "colab_type": "code",
    "id": "hJbCGwlJ8jPX"
   },
   "outputs": [],
   "source": [
    "from wordcloud import WordCloud\n",
    "wordcloud = WordCloud(width = 800, height = 800, \n",
    "                background_color ='white', \n",
    "                min_font_size = 10).generate(essay) \n",
    "  \n",
    "# plot the WordCloud image                        \n",
    "plt.figure(figsize = (8, 8), facecolor = None) \n",
    "plt.imshow(wordcloud) \n",
    "plt.axis(\"off\") \n",
    "plt.tight_layout(pad = 0) \n",
    "  \n",
    "plt.show()"
   ]
  },
  {
   "cell_type": "markdown",
   "metadata": {
    "colab_type": "text",
    "id": "S0UHcbqe8jPZ"
   },
   "source": [
    "# Summary\n",
    "\n",
    "- frequently used words are school, daily,work,material."
   ]
  },
  {
   "cell_type": "code",
   "execution_count": 0,
   "metadata": {
    "colab": {},
    "colab_type": "code",
    "id": "LaVS0uqGTH78"
   },
   "outputs": [],
   "source": [
    " from sklearn.datasets import load_iris\n",
    " from sklearn import tree\n",
    "\n",
    "clf = tree.DecisionTreeClassifier()\n",
    "iris = load_iris()\n",
    "clf = clf.fit(iris.data, iris.target)\n",
    " tree.export_graphviz(clf,\n",
    "...     out_file='tree.dot')"
   ]
  },
  {
   "cell_type": "code",
   "execution_count": 0,
   "metadata": {
    "colab": {},
    "colab_type": "code",
    "id": "WjgIEbxe8jPZ"
   },
   "outputs": [],
   "source": [
    "# Code snippet taken from https://seaborn.pydata.org/generated/seaborn.boxplot.html\n",
    "sns.set(context='notebook', style='whitegrid')\n",
    "plt.xlabel(\"False Positive\")\n",
    "plt.ylabel(\"Price\")\n",
    "sns.boxplot(data=price_w2v)\n",
    "plt.show()"
   ]
  },
  {
   "cell_type": "markdown",
   "metadata": {
    "colab_type": "text",
    "id": "_N1sgHX88jPb"
   },
   "source": [
    "# Summary\n",
    "\n",
    "- vast majority points have very less price less than 2000 dollars"
   ]
  },
  {
   "cell_type": "code",
   "execution_count": 0,
   "metadata": {
    "colab": {},
    "colab_type": "code",
    "id": "Xu458EE78jPd"
   },
   "outputs": [],
   "source": [
    "count,bin_edges=np.histogram(X_test_prev,bins=10,density=True)\n",
    "\n",
    "#pdf\n",
    "pdf=count/(sum(count))\n",
    "\n",
    "p=plt.plot(bin_edges[1:],pdf,label='pdf')\n",
    "\n",
    "plt.ylabel('PDF')\n",
    "plt.xlabel('Previoulsy posted project count')\n",
    "plt.legend()\n",
    "plt.title('Unvariate analysis(Previoulsy posted project count) of False positive')"
   ]
  },
  {
   "cell_type": "markdown",
   "metadata": {
    "colab_type": "text",
    "id": "o1AWFEf88jPg"
   },
   "source": [
    "# summary\n",
    "\n",
    "- For this set we find more than 80 % have prev projects less than 100 but more than 50 which is unique"
   ]
  },
  {
   "cell_type": "markdown",
   "metadata": {
    "colab_type": "text",
    "id": "zcEq8moG8jPg"
   },
   "source": [
    "# Set 4 false positive anaysis"
   ]
  },
  {
   "cell_type": "code",
   "execution_count": 0,
   "metadata": {
    "colab": {},
    "colab_type": "code",
    "id": "c1I5j_sa8jPh"
   },
   "outputs": [],
   "source": [
    "fpr=[]\n",
    "essay=''\n",
    "price_tfidf_w2v=[]\n",
    "X_test_prev=[]\n",
    "for i in range(len(y_test)):\n",
    "    if (int((y_test[i]) == 0) and (int(pred_tfidf_w2v_test[i]) == 1)):  \n",
    "        fpr.append(1)\n",
    "        essay+=X_test_essay[i]\n",
    "        price_tfidf_w2v.append(X_test_price[i])\n",
    "        X_test_prev.append(prev_projects_test[i])\n",
    "    else :\n",
    "        fpr.append(0)"
   ]
  },
  {
   "cell_type": "code",
   "execution_count": 0,
   "metadata": {
    "colab": {},
    "colab_type": "code",
    "id": "qBSIMxVL8jPj"
   },
   "outputs": [],
   "source": [
    "from wordcloud import WordCloud\n",
    "wordcloud = WordCloud(width = 800, height = 800, \n",
    "                background_color ='white', \n",
    "                min_font_size = 10).generate(essay) \n",
    "  \n",
    "# plot the WordCloud image                        \n",
    "plt.figure(figsize = (8, 8), facecolor = None) \n",
    "plt.imshow(wordcloud) \n",
    "plt.axis(\"off\") \n",
    "plt.tight_layout(pad = 0) \n",
    "  \n",
    "plt.show()"
   ]
  },
  {
   "cell_type": "markdown",
   "metadata": {
    "colab_type": "text",
    "id": "4vUFbMBN8jPk"
   },
   "source": [
    "# summary\n",
    "\n",
    "- major words used are project,teacher help time"
   ]
  },
  {
   "cell_type": "code",
   "execution_count": 0,
   "metadata": {
    "colab": {},
    "colab_type": "code",
    "id": "EuMyndoj8jPl"
   },
   "outputs": [],
   "source": [
    "# Code snippet taken from https://seaborn.pydata.org/generated/seaborn.boxplot.html\n",
    "sns.set(context='notebook', style='whitegrid')\n",
    "plt.xlabel(\"False Positive\")\n",
    "plt.ylabel(\"Price\")\n",
    "sns.boxplot(data=price_tfidf_w2v)\n",
    "plt.show()"
   ]
  },
  {
   "cell_type": "markdown",
   "metadata": {
    "colab_type": "text",
    "id": "kqyvXA178jPm"
   },
   "source": [
    "# Summary\n",
    "\n",
    "- a large majority have prices less than 500 dollars for this set"
   ]
  },
  {
   "cell_type": "code",
   "execution_count": 0,
   "metadata": {
    "colab": {},
    "colab_type": "code",
    "id": "9PNAnRh_8jPm"
   },
   "outputs": [],
   "source": [
    "count,bin_edges=np.histogram(X_test_prev,bins=10,density=True)\n",
    "\n",
    "#pdf\n",
    "pdf=count/(sum(count))\n",
    "\n",
    "p=plt.plot(bin_edges[1:],pdf,label='pdf')\n",
    "\n",
    "plt.ylabel('PDF')\n",
    "plt.xlabel('Previoulsy posted project count')\n",
    "plt.legend()\n",
    "plt.title('Unvariate analysis(Previoulsy posted project count) of False positive')"
   ]
  },
  {
   "cell_type": "markdown",
   "metadata": {
    "colab_type": "text",
    "id": "_m3bWz5n8jPn"
   },
   "source": [
    "# Summary\n",
    "\n",
    "- More than 90% points have less than 40 prev projects posted"
   ]
  },
  {
   "cell_type": "markdown",
   "metadata": {
    "colab_type": "text",
    "id": "vCorVS1V8jPn"
   },
   "source": [
    "# Set 5 False +ve points\n",
    "\n"
   ]
  },
  {
   "cell_type": "code",
   "execution_count": 0,
   "metadata": {
    "colab": {},
    "colab_type": "code",
    "id": "Kpd7FDl28jPo"
   },
   "outputs": [],
   "source": [
    "fpr=[]\n",
    "essay=''\n",
    "price_imp_tfidf=[]\n",
    "X_test_prev=[]\n",
    "for i in range(len(y_test)):\n",
    "    if (int((y_test[i]) == 0) and (int(pred_imp_tfidf_test[i]) == 1)):  \n",
    "        fpr.append(1)\n",
    "        essay+=X_test_essay[i]\n",
    "        price_imp_tfidf.append(X_test_price[i])\n",
    "        X_test_prev.append(prev_projects_test[i])\n",
    "    else :\n",
    "        fpr.append(0)"
   ]
  },
  {
   "cell_type": "code",
   "execution_count": 0,
   "metadata": {
    "colab": {},
    "colab_type": "code",
    "id": "3h0xvTLK8jPp"
   },
   "outputs": [],
   "source": [
    "from wordcloud import WordCloud\n",
    "wordcloud = WordCloud(width = 800, height = 800, \n",
    "                background_color ='white', \n",
    "                min_font_size = 10).generate(essay) \n",
    "  \n",
    "# plot the WordCloud image                        \n",
    "plt.figure(figsize = (8, 8), facecolor = None) \n",
    "plt.imshow(wordcloud) \n",
    "plt.axis(\"off\") \n",
    "plt.tight_layout(pad = 0) \n",
    "  \n",
    "plt.show()"
   ]
  },
  {
   "cell_type": "markdown",
   "metadata": {
    "colab_type": "text",
    "id": "VOJBMleu8jPq"
   },
   "source": [
    "# summary\n",
    "\n",
    "- Majority used words are want,student skill many for false positive points"
   ]
  },
  {
   "cell_type": "code",
   "execution_count": 0,
   "metadata": {
    "colab": {},
    "colab_type": "code",
    "id": "cXLpKVYd8jPq"
   },
   "outputs": [],
   "source": [
    "# Code snippet taken from https://seaborn.pydata.org/generated/seaborn.boxplot.html\n",
    "sns.set(context='notebook', style='whitegrid')\n",
    "plt.xlabel(\"False Positive\")\n",
    "plt.ylabel(\"Price\")\n",
    "sns.boxplot(data=price_imp_tfidf)\n",
    "plt.show()"
   ]
  },
  {
   "cell_type": "markdown",
   "metadata": {
    "colab_type": "text",
    "id": "cmU1GuTE8jPr"
   },
   "source": [
    "# Summary\n",
    "\n",
    "- Large majority have very less price for this set"
   ]
  },
  {
   "cell_type": "code",
   "execution_count": 0,
   "metadata": {
    "colab": {},
    "colab_type": "code",
    "id": "-AC2n2wf8jPs"
   },
   "outputs": [],
   "source": [
    "count,bin_edges=np.histogram(X_test_prev,bins=10,density=True)\n",
    "\n",
    "#pdf\n",
    "pdf=count/(sum(count))\n",
    "\n",
    "p=plt.plot(bin_edges[1:],pdf,label='pdf')\n",
    "\n",
    "plt.ylabel('PDF')\n",
    "plt.xlabel('Previoulsy posted project count')\n",
    "plt.legend()\n",
    "plt.title('Unvariate analysis(Previoulsy posted project count) of False positive')"
   ]
  },
  {
   "cell_type": "markdown",
   "metadata": {
    "colab_type": "text",
    "id": "gaH6HE5B8jPt"
   },
   "source": [
    "# Summary\n",
    "\n",
    "- Majority of prev posted projects are less than 50 for false +ve points"
   ]
  },
  {
   "cell_type": "markdown",
   "metadata": {
    "colab_type": "text",
    "id": "tIT9YLEs8jPt"
   },
   "source": [
    "# Conclusions"
   ]
  },
  {
   "cell_type": "code",
   "execution_count": 0,
   "metadata": {
    "colab": {},
    "colab_type": "code",
    "id": "fV1Hf_e_8jPt"
   },
   "outputs": [],
   "source": [
    "# Please compare all your models using Prettytable library\n",
    "from prettytable import PrettyTable\n",
    "\n",
    "x = PrettyTable()\n",
    "x.field_names = [\"Vectorizer Used\", \"Depth of Tree\",\"Min_sample_split\", \"Test_AUC\"]\n",
    "\n",
    "x.add_row([\"BOW\", 10, 500, 0.69])\n",
    "x.add_row([\"TFIDF\", 10, 500, 0.68])\n",
    "x.add_row([\"Avg_W2V\", 5, 500, 0.66])\n",
    "x.add_row([\"TFIDF_W2v\", 10, 500, 0.66])\n",
    "x.add_row([\"Imp_TFIDF\", 10, 500, 0.63])\n",
    "\n",
    "print(x)"
   ]
  },
  {
   "cell_type": "markdown",
   "metadata": {
    "colab_type": "text",
    "id": "728lAB148jPu"
   },
   "source": [
    "# Final RESULTS"
   ]
  },
  {
   "cell_type": "markdown",
   "metadata": {
    "colab_type": "text",
    "id": "nale6coQ8jPu"
   },
   "source": [
    "- We find that BOW model performs best with an AUC of 0.69 followed by TFIDF with 0.68\n",
    "\n",
    "- Both the W2v models give same AUC of 0.66.\n",
    "\n",
    "- When we reduce the important features of Tfidf model,The AUC drops from 0.68 to 0.63,so it implies features need to be retained for better performance"
   ]
  },
  {
   "cell_type": "code",
   "execution_count": 0,
   "metadata": {
    "colab": {},
    "colab_type": "code",
    "id": "Swt-ZkJi8jPv"
   },
   "outputs": [],
   "source": []
  }
 ],
 "metadata": {
  "colab": {
   "collapsed_sections": [
    "OeLLx404Oh9c",
    "ACyCSq0LOh9o",
    "NMbzzOsPOh9p",
    "z2gxZ2ogOh9w",
    "73m5MNjoOh90",
    "pAcQahGBOh99"
   ],
   "machine_shape": "hm",
   "name": "vs.sudarsan8@gmail.com_8.ipynb",
   "provenance": []
  },
  "kernelspec": {
   "display_name": "Python 3",
   "language": "python",
   "name": "python3"
  },
  "language_info": {
   "codemirror_mode": {
    "name": "ipython",
    "version": 3
   },
   "file_extension": ".py",
   "mimetype": "text/x-python",
   "name": "python",
   "nbconvert_exporter": "python",
   "pygments_lexer": "ipython3",
   "version": "3.7.3"
  }
 },
 "nbformat": 4,
 "nbformat_minor": 1
}
